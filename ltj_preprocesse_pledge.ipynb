{
 "cells": [
  {
   "cell_type": "code",
   "execution_count": 1,
   "metadata": {},
   "outputs": [],
   "source": [
    "import numpy as np\n",
    "import pandas as pd\n",
    "import matplotlib.pyplot as plt\n",
    "import seaborn as sns\n",
    "import os\n",
    "%matplotlib inline"
   ]
  },
  {
   "cell_type": "code",
   "execution_count": 58,
   "metadata": {},
   "outputs": [],
   "source": [
    "# dir = 'C:/Users/SAMSUNG/Desktop/new/빅콘테스트/2019빅콘테스트_챔피언스리그_데이터_수정/train_pledge.csv'\n",
    "\n",
    "def preprocessing_pledge(pledge_dir, label_dir, pay_dir):\n",
    "    # file load\n",
    "    tr_pledge = pd.read_csv(pledge_dir)\n",
    "    tr_label = pd.read_csv(label_dir)\n",
    "    pay = pd.read_csv(pay_dir)\n",
    "    \n",
    "    # 공지에 올라온 error 부분 제거\n",
    "    del tr_pledge['non_combat_play_time']\n",
    "    \n",
    "    # 가입한 혈맹의 순위\n",
    "    bbb = tr_pledge.pledge_id.value_counts().to_frame().reset_index()\n",
    "    bbb.columns = ['pledge_id','count']\n",
    "    bbb['rank'] = bbb['count'].rank(ascending = False, method = 'min')\n",
    "    pledge_rank = {}\n",
    "    # dictionary를 활용해 원데이터의 pledge_id에 rank값을 mapping\n",
    "    for i, j in enumerate(list(bbb['rank'])):\n",
    "        pledge_rank[bbb['pledge_id'][i]] = j\n",
    "    tr_pledge['pledge_rank'] = tr_pledge['pledge_id'].map(pledge_rank)\n",
    "\n",
    "\n",
    "    # 혈맹원의 합\n",
    "    pledge_member_num = {}\n",
    "    for i in tr_pledge.pledge_id:\n",
    "        if i not in pledge_member_num.keys():\n",
    "            pledge_member_num[i] = 0\n",
    "        pledge_member_num[i] += 1\n",
    "    tr_pledge['pledge_member_num'] = tr_pledge['pledge_id'].map(pledge_member_num)\n",
    "\n",
    "\n",
    "    # acc_id 기준으로 데이터 압축\n",
    "    group = tr_pledge.groupby(['acc_id', 'day']).sum().reset_index()\n",
    "    groups = group.groupby(['acc_id']).sum().reset_index()\n",
    "    # label 데이터 merge\n",
    "    merge_df = pd.merge(groups, tr_label, how = 'left', on = 'acc_id')\n",
    "    # merge로 인해 생성되는 columns 제거\n",
    "    del merge_df['Unnamed: 0']\n",
    "\n",
    "\n",
    "    # 접속일 변수 log_in_freq 생성\n",
    "    freq = []\n",
    "    for i in group.acc_id.unique():\n",
    "        freq.append([i,group[group.acc_id == i].shape[0]])\n",
    "    new = pd.DataFrame(sorted(freq))\n",
    "    new.columns = ['acc_id', 'log_in_freq']\n",
    "    merge_df = pd.merge(merge_df, new, how = 'left', on = 'acc_id')\n",
    "\n",
    "\n",
    "    # 유저별 가입한 혈맹 수\n",
    "    act_pledge_num = {}\n",
    "    for i in tr_pledge.acc_id.unique():\n",
    "        act_pledge_num[i] = tr_pledge[tr_pledge.acc_id == i].pledge_id.nunique()\n",
    "    merge_df['join_pledge_num'] = merge_df['acc_id'].map(act_pledge_num)\n",
    "\n",
    "\n",
    "    # payment 데이터 곃합\n",
    "    pay = pay.groupby(pay.acc_id).sum().reset_index().drop('day', axis=1)\n",
    "    merge_pay = pd.merge(merge_df, pay, on = 'acc_id', how = 'left')\n",
    "    merge_pay = merge_pay.fillna(0)\n",
    "\n",
    "    \n",
    "    # 유저별 a서버, b서버 접속 횟수\n",
    "    acc_id = []\n",
    "    a_server_num = []\n",
    "    b_server_num = []\n",
    "\n",
    "    for i in tr_pledge.acc_id.unique():\n",
    "        a_count = 0\n",
    "        b_count = 0\n",
    "        li = list(tr_pledge[tr_pledge.acc_id == i].server)\n",
    "        for j in li:\n",
    "            if j[0] == 'a':\n",
    "                a_count += 1\n",
    "            else:\n",
    "                b_count += 1\n",
    "        acc_id.append(i)\n",
    "        a_server_num.append(a_count)\n",
    "        b_server_num.append(b_count)\n",
    "    \n",
    "    df = pd.DataFrame({'acc_id' : acc_id,\n",
    "                  'a_server_num' : a_server_num,\n",
    "                  'b_server_num' : b_server_num})\n",
    "    merge_pay = pd.merge(merge_pay, df, on = 'acc_id')\n",
    "    \n",
    "\n",
    "    # 일자별 혈맹 활동 내역 flatten (pledge_rank는 flatten을 안시키는게 퍼포먼스 향상에 더 좋음)\n",
    "    df = tr_pledge[[col for col in tr_pledge.columns if col not in ['server', 'char_id','pledge_id',\n",
    "                                                                   'pledge_rank']]\n",
    "                  ].groupby(['day', 'acc_id']).sum().reset_index()\n",
    "    df_grouped = df.groupby('day')\n",
    "    p = df_grouped.get_group(1)\n",
    "    for i in range(2, 29):\n",
    "        p = pd.merge(p, df_grouped.get_group(i), on='acc_id', how='outer',\n",
    "                     suffixes=('_'+str(i-1), '_'+str(i)))\n",
    "    p = p[[col for col in p.columns if ('day' not in col) & ('combat_char_cnt' not in col)]]\n",
    "    p = p.fillna(0).set_index('acc_id')\n",
    "    df = p.reset_index()\n",
    "    merge_flatten_df = pd.merge(merge_pay, df, on = 'acc_id')\n",
    "    \n",
    "    return merge_flatten_df\n",
    "\n",
    "\n",
    "###################################################################\n",
    "# 참고사항\n",
    "# return값 출력시 columns 중 amount_spent_x와 amount_spent_y가 존재\n",
    "# amount_spent_x : label 데이터에 있는 amount_spent\n",
    "# amount_spent_y : pay 데이터에 있는 amount_spent\n",
    "###################################################################"
   ]
  },
  {
   "cell_type": "code",
   "execution_count": 3,
   "metadata": {},
   "outputs": [],
   "source": [
    "# log1p 가중치 적용 함수\n",
    "def log_weight(df):\n",
    "    df_weight = df.copy()\n",
    "    day = list(map(str,list(range(1,29,1))))\n",
    "    weight = []\n",
    "    for i in day:\n",
    "        weight.append(np.log1p(int(i)))\n",
    "    \n",
    "    for j in df_weight.columns:\n",
    "        if j[-1] in day: # column의 맨 뒷글자(str)가 day에 있으면\n",
    "            index = int(j[-1]) - 1 # weight의 index로 사용하기 위해 1을 배줌\n",
    "            df_weight[j] = df_weight[j].apply(lambda x: x * weight[index])\n",
    "    \n",
    "    return df_weight"
   ]
  },
  {
   "cell_type": "code",
   "execution_count": 4,
   "metadata": {},
   "outputs": [],
   "source": [
    "pledge_dir = 'C:/Users/SAMSUNG/Desktop/new/빅콘테스트/2019빅콘테스트_챔피언스리그_데이터_수정/train_pledge.csv'\n",
    "label_dir ='C:/Users/SAMSUNG/Desktop/new/빅콘테스트/train_label_add.csv'\n",
    "pay_dir = 'C:/Users/SAMSUNG/Desktop/new/빅콘테스트/2019빅콘테스트_챔피언스리그_데이터_수정/train_payment.csv'\n",
    "\n",
    "merge_pledge = preprocessing_pledge(pledge_dir, label_dir, pay_dir)"
   ]
  },
  {
   "cell_type": "code",
   "execution_count": 59,
   "metadata": {},
   "outputs": [],
   "source": [
    "# flatten 부분 주석 처리 후 return값을 merge_pay로 설정\n",
    "\n",
    "merge_pledge_non_flatten = preprocessing_pledge(pledge_dir, label_dir, pay_dir)"
   ]
  },
  {
   "cell_type": "code",
   "execution_count": 60,
   "metadata": {},
   "outputs": [],
   "source": [
    "# label과 payment의 같은 컬럼명 amount_spent가 존재하여 각각 이름이\n",
    "# amount_spent_x와 amount_spent_y로 지정되어 있다.\n",
    "# 모델 저장 후 test set 돌릴 시 변수명 일치하지 않으면 안돌아가므로 변경해줌\n",
    "merge_pledge = merge_pledge.rename(columns = {'amount_spent_y':'amount_spent'})\n",
    "merge_pledge_non_flatten = merge_pledge_non_flatten.rename(columns = {'amount_spent_y':'amount_spent'})"
   ]
  },
  {
   "cell_type": "code",
   "execution_count": 27,
   "metadata": {},
   "outputs": [],
   "source": [
    "merge_pledge_weight = log_weight(merge_pledge)"
   ]
  },
  {
   "cell_type": "code",
   "execution_count": 28,
   "metadata": {},
   "outputs": [
    {
     "data": {
      "text/plain": [
       "((33854, 274), (33854, 274))"
      ]
     },
     "execution_count": 28,
     "metadata": {},
     "output_type": "execute_result"
    }
   ],
   "source": [
    "merge_pledge.shape, merge_pledge_weight.shape"
   ]
  },
  {
   "cell_type": "markdown",
   "metadata": {},
   "source": [
    "# 일별 가중치 적용 (log1p 사용), 전후비교"
   ]
  },
  {
   "cell_type": "markdown",
   "metadata": {},
   "source": [
    "### 이탈, 비이탈 이진분류 - 가중치 적용 전"
   ]
  },
  {
   "cell_type": "code",
   "execution_count": 8,
   "metadata": {},
   "outputs": [
    {
     "data": {
      "text/plain": [
       "((17772, 267), (5925, 267), (10157, 267), (17772,), (5925,), (10157,))"
      ]
     },
     "execution_count": 8,
     "metadata": {},
     "output_type": "execute_result"
    }
   ],
   "source": [
    "from sklearn.model_selection import train_test_split\n",
    "\n",
    "X_train, X_test, y_train, y_test = train_test_split(merge_pledge.drop(['acc_id',\n",
    "                                                                           'char_id',\n",
    "                                                                           'pledge_id',\n",
    "                                                                           'amount_spent_x',\n",
    "                                                                           'total_spent',\n",
    "                                                                          'secession',\n",
    "                                                                          'survival_time'], axis=1),\n",
    "                                                    merge_pledge.secession,\n",
    "                                                    test_size = 0.3, random_state=42)\n",
    "X_train, X_valid, y_train, y_valid = train_test_split(X_train, y_train, test_size = 0.25, random_state=42)\n",
    "\n",
    "X_train.shape, X_valid.shape, X_test.shape, y_train.shape, y_valid.shape, y_test.shape"
   ]
  },
  {
   "cell_type": "code",
   "execution_count": 17,
   "metadata": {},
   "outputs": [
    {
     "name": "stderr",
     "output_type": "stream",
     "text": [
      "C:\\Users\\SAMSUNG\\Desktop\\new\\anacanda\\envs\\mypython\\lib\\site-packages\\xgboost\\core.py:587: FutureWarning: Series.base is deprecated and will be removed in a future version\n",
      "  if getattr(data, 'base', None) is not None and \\\n"
     ]
    },
    {
     "name": "stdout",
     "output_type": "stream",
     "text": [
      "[0]\ttrain-auc:0.746162\tvalid-auc:0.728914\n",
      "Multiple eval metrics have been passed: 'valid-auc' will be used for early stopping.\n",
      "\n",
      "Will train until valid-auc hasn't improved in 30 rounds.\n",
      "[50]\ttrain-auc:0.87957\tvalid-auc:0.782579\n",
      "[100]\ttrain-auc:0.918569\tvalid-auc:0.789515\n",
      "[150]\ttrain-auc:0.942401\tvalid-auc:0.792197\n",
      "[200]\ttrain-auc:0.952209\tvalid-auc:0.793354\n",
      "Stopping. Best iteration:\n",
      "[195]\ttrain-auc:0.951208\tvalid-auc:0.793525\n",
      "\n"
     ]
    }
   ],
   "source": [
    "import xgboost as xgb\n",
    "\n",
    "params = {'n_estimators' : 475,\n",
    "         'learning_rate' : 0.1,\n",
    "          'nthread' : 15,\n",
    "          'num_boost_round' : 300,\n",
    "         'max_depth' : 6,\n",
    "          'eval_metric' : 'auc',\n",
    "          'gamma' : 1,\n",
    "          'subsample' : 0.9}\n",
    "\n",
    "VALID = True\n",
    "np.random.seed(42)\n",
    "if VALID == True:\n",
    "    \n",
    "    tr_data = xgb.DMatrix(X_train, y_train)\n",
    "    va_data = xgb.DMatrix(X_valid, y_valid)\n",
    "    \n",
    "    watchlist = [(tr_data, 'train'), (va_data, 'valid')]\n",
    "    \n",
    "    model = xgb.train(params, tr_data, 500, watchlist, verbose_eval = 50, early_stopping_rounds=30)"
   ]
  },
  {
   "cell_type": "code",
   "execution_count": 18,
   "metadata": {},
   "outputs": [
    {
     "data": {
      "text/plain": [
       "(0.7140888057497292, 0.6954059156702328)"
      ]
     },
     "execution_count": 18,
     "metadata": {},
     "output_type": "execute_result"
    }
   ],
   "source": [
    "from sklearn.metrics import accuracy_score, f1_score\n",
    "y_pred = np.where(model.predict(xgb.DMatrix(X_test)) > 0.5, 1, 0)\n",
    "accuracy_score(y_test, y_pred), f1_score(y_test, y_pred)"
   ]
  },
  {
   "cell_type": "markdown",
   "metadata": {},
   "source": [
    "### 64 category multi class - 가중치 적용 전"
   ]
  },
  {
   "cell_type": "markdown",
   "metadata": {},
   "source": [
    "#### OneVsRest Classifier"
   ]
  },
  {
   "cell_type": "code",
   "execution_count": 37,
   "metadata": {},
   "outputs": [
    {
     "data": {
      "text/plain": [
       "((23697, 267), (10157, 267), (23697,), (10157,))"
      ]
     },
     "execution_count": 37,
     "metadata": {},
     "output_type": "execute_result"
    }
   ],
   "source": [
    "from sklearn.model_selection import train_test_split\n",
    "\n",
    "X_train, X_test, y_train, y_test = train_test_split(merge_pledge.drop(['acc_id',\n",
    "                                                                           'char_id',\n",
    "                                                                           'pledge_id',\n",
    "                                                                           'amount_spent_x',\n",
    "                                                                           'total_spent',\n",
    "                                                                          'secession',\n",
    "                                                                          'survival_time'], axis=1),\n",
    "                                                    merge_pledge.survival_time,\n",
    "                                                    test_size = 0.3, random_state=42)\n",
    "# X_train, X_valid, y_train, y_valid = train_test_split(X_train, y_train, test_size = 0.25, random_state=42)\n",
    "\n",
    "X_train.shape, X_test.shape, y_train.shape, y_test.shape"
   ]
  },
  {
   "cell_type": "code",
   "execution_count": 38,
   "metadata": {},
   "outputs": [
    {
     "name": "stdout",
     "output_type": "stream",
     "text": [
      "One vs Rest accuracy : 0.908258\n"
     ]
    }
   ],
   "source": [
    "from sklearn.multiclass import OneVsRestClassifier\n",
    "from xgboost import XGBClassifier\n",
    "from sklearn.preprocessing import MultiLabelBinarizer\n",
    "\n",
    "np.random.seed(42)\n",
    "\n",
    "OVR = OneVsRestClassifier(XGBClassifier(n_estimator = 1000,n_jobs=-1, max_depth=8, silent = 1,\n",
    "                                       gamma = 1, subsample = 0.8 ))\n",
    "\n",
    "\n",
    "# You may need to use MultiLabelBinarizer to encode your variables from arrays [[x, y, z]] to a multilabel \n",
    "# format before training.\n",
    "\n",
    "\n",
    "OVR.fit(X_train, y_train)\n",
    "\n",
    "print('One vs Rest accuracy : %f' % OVR.score(X_train, y_train))"
   ]
  },
  {
   "cell_type": "code",
   "execution_count": 39,
   "metadata": {},
   "outputs": [
    {
     "data": {
      "text/plain": [
       "0.6077581963178104"
      ]
     },
     "execution_count": 39,
     "metadata": {},
     "output_type": "execute_result"
    }
   ],
   "source": [
    "from sklearn.metrics import accuracy_score\n",
    "\n",
    "y_pred = OVR.predict(X_test)\n",
    "accuracy_score(y_test, y_pred)"
   ]
  },
  {
   "cell_type": "code",
   "execution_count": 40,
   "metadata": {},
   "outputs": [
    {
     "data": {
      "text/plain": [
       "['0001.joblib']"
      ]
     },
     "execution_count": 40,
     "metadata": {},
     "output_type": "execute_result"
    }
   ],
   "source": [
    "from joblib import dump, load\n",
    "\n",
    "dump(OVR, '0001.joblib')"
   ]
  },
  {
   "cell_type": "markdown",
   "metadata": {},
   "source": [
    "### amount spent 예측 rmse - 가중치 적용 전"
   ]
  },
  {
   "cell_type": "code",
   "execution_count": 47,
   "metadata": {},
   "outputs": [
    {
     "data": {
      "text/plain": [
       "((17772, 267), (5925, 267), (10157, 267), (17772,), (5925,), (10157,))"
      ]
     },
     "execution_count": 47,
     "metadata": {},
     "output_type": "execute_result"
    }
   ],
   "source": [
    "from sklearn.model_selection import train_test_split\n",
    "\n",
    "X_train, X_test, y_train, y_test = train_test_split(merge_pledge.drop(['acc_id',\n",
    "                                                                           'char_id',\n",
    "                                                                           'pledge_id',\n",
    "                                                                           'amount_spent_x',\n",
    "                                                                           'total_spent',\n",
    "                                                                          'secession',\n",
    "                                                                          'survival_time'], axis=1),\n",
    "                                                    merge_pledge.amount_spent_x,\n",
    "                                                    test_size = 0.3, random_state=42)\n",
    "X_train, X_valid, y_train, y_valid = train_test_split(X_train, y_train, test_size = 0.25, random_state=42)\n",
    "\n",
    "X_train.shape, X_valid.shape, X_test.shape, y_train.shape, y_valid.shape, y_test.shape"
   ]
  },
  {
   "cell_type": "code",
   "execution_count": 50,
   "metadata": {
    "scrolled": true
   },
   "outputs": [
    {
     "name": "stdout",
     "output_type": "stream",
     "text": [
      "[22:24:42] WARNING: d:\\build\\xgboost\\xgboost-0.90.git\\src\\objective\\regression_obj.cu:152: reg:linear is now deprecated in favor of reg:squarederror.\n",
      "[0]\ttrain-rmse:0.738745\tvalid-rmse:0.531206\n",
      "Multiple eval metrics have been passed: 'valid-rmse' will be used for early stopping.\n",
      "\n",
      "Will train until valid-rmse hasn't improved in 30 rounds.\n",
      "[50]\ttrain-rmse:0.703645\tvalid-rmse:0.476474\n",
      "[100]\ttrain-rmse:0.703173\tvalid-rmse:0.475741\n",
      "[150]\ttrain-rmse:0.702997\tvalid-rmse:0.475417\n",
      "[200]\ttrain-rmse:0.702897\tvalid-rmse:0.47519\n",
      "[250]\ttrain-rmse:0.702833\tvalid-rmse:0.475028\n",
      "[300]\ttrain-rmse:0.702789\tvalid-rmse:0.474906\n",
      "[350]\ttrain-rmse:0.702756\tvalid-rmse:0.474816\n",
      "[400]\ttrain-rmse:0.702731\tvalid-rmse:0.474749\n",
      "[450]\ttrain-rmse:0.702711\tvalid-rmse:0.474699\n",
      "[500]\ttrain-rmse:0.702694\tvalid-rmse:0.474661\n",
      "[550]\ttrain-rmse:0.70268\tvalid-rmse:0.474632\n",
      "[600]\ttrain-rmse:0.702669\tvalid-rmse:0.474609\n",
      "[650]\ttrain-rmse:0.702659\tvalid-rmse:0.474594\n",
      "[700]\ttrain-rmse:0.70265\tvalid-rmse:0.474583\n",
      "[750]\ttrain-rmse:0.702643\tvalid-rmse:0.474575\n",
      "[800]\ttrain-rmse:0.702637\tvalid-rmse:0.474569\n",
      "[850]\ttrain-rmse:0.702631\tvalid-rmse:0.474566\n",
      "Stopping. Best iteration:\n",
      "[869]\ttrain-rmse:0.702629\tvalid-rmse:0.474564\n",
      "\n"
     ]
    }
   ],
   "source": [
    "import xgboost as xgb\n",
    "\n",
    "params = {'n_estimators' : 475,\n",
    "         'learning_rate' : 0.1,\n",
    "          'nthread' : 15,\n",
    "          'num_boost_round' : 300,\n",
    "         'max_depth' : 6,\n",
    "          'objective': 'reg:linear',\n",
    "          'booster' : 'gblinear',\n",
    "          'gamma' : 0,\n",
    "          'subsample' : 0.9}\n",
    "\n",
    "VALID = True\n",
    "np.random.seed(42)\n",
    "if VALID == True:\n",
    "    \n",
    "    tr_data = xgb.DMatrix(X_train, y_train)\n",
    "    va_data = xgb.DMatrix(X_valid, y_valid)\n",
    "    \n",
    "    watchlist = [(tr_data, 'train'), (va_data, 'valid')]\n",
    "    \n",
    "    model = xgb.train(params, tr_data, 1000, watchlist, verbose_eval = 50, early_stopping_rounds=30)"
   ]
  },
  {
   "cell_type": "code",
   "execution_count": 51,
   "metadata": {
    "scrolled": true
   },
   "outputs": [
    {
     "name": "stdout",
     "output_type": "stream",
     "text": [
      "RMSE: 0.587075\n"
     ]
    }
   ],
   "source": [
    "from sklearn.metrics import mean_squared_error\n",
    "\n",
    "y_pred = model.predict(xgb.DMatrix(pd.DataFrame(X_test)))\n",
    "rmse = np.sqrt(mean_squared_error(y_test, y_pred))\n",
    "print(\"RMSE: %f\" % (rmse))"
   ]
  },
  {
   "cell_type": "code",
   "execution_count": 32,
   "metadata": {},
   "outputs": [],
   "source": [
    "model.save_model('0002.model')"
   ]
  },
  {
   "cell_type": "markdown",
   "metadata": {},
   "source": [
    "## 가중치 적용"
   ]
  },
  {
   "cell_type": "markdown",
   "metadata": {},
   "source": [
    "### 이탈, 비이탈 이진분류 - 가중치 적용 후"
   ]
  },
  {
   "cell_type": "code",
   "execution_count": 19,
   "metadata": {},
   "outputs": [
    {
     "data": {
      "text/plain": [
       "((17772, 267), (5925, 267), (10157, 267), (17772,), (5925,), (10157,))"
      ]
     },
     "execution_count": 19,
     "metadata": {},
     "output_type": "execute_result"
    }
   ],
   "source": [
    "from sklearn.model_selection import train_test_split\n",
    "\n",
    "X_train, X_test, y_train, y_test = train_test_split(merge_pledge_weight.drop(['acc_id',\n",
    "                                                                           'char_id',\n",
    "                                                                           'pledge_id',\n",
    "                                                                           'amount_spent_x',\n",
    "                                                                           'total_spent',\n",
    "                                                                          'secession',\n",
    "                                                                          'survival_time'], axis=1),\n",
    "                                                    merge_pledge_weight.secession,\n",
    "                                                    test_size = 0.3, random_state=42)\n",
    "X_train, X_valid, y_train, y_valid = train_test_split(X_train, y_train, test_size = 0.25, random_state=42)\n",
    "\n",
    "X_train.shape, X_valid.shape, X_test.shape, y_train.shape, y_valid.shape, y_test.shape"
   ]
  },
  {
   "cell_type": "code",
   "execution_count": 20,
   "metadata": {},
   "outputs": [
    {
     "name": "stdout",
     "output_type": "stream",
     "text": [
      "[0]\ttrain-auc:0.746162\tvalid-auc:0.728914\n",
      "Multiple eval metrics have been passed: 'valid-auc' will be used for early stopping.\n",
      "\n",
      "Will train until valid-auc hasn't improved in 30 rounds.\n",
      "[50]\ttrain-auc:0.879572\tvalid-auc:0.782578\n",
      "[100]\ttrain-auc:0.918016\tvalid-auc:0.790052\n",
      "[150]\ttrain-auc:0.942326\tvalid-auc:0.794499\n",
      "[200]\ttrain-auc:0.954298\tvalid-auc:0.795656\n",
      "[250]\ttrain-auc:0.960356\tvalid-auc:0.796608\n",
      "[300]\ttrain-auc:0.963853\tvalid-auc:0.796946\n",
      "Stopping. Best iteration:\n",
      "[308]\ttrain-auc:0.965047\tvalid-auc:0.797268\n",
      "\n"
     ]
    }
   ],
   "source": [
    "import xgboost as xgb\n",
    "\n",
    "params = {'n_estimators' : 475,\n",
    "         'learning_rate' : 0.1,\n",
    "          'nthread' : 15,\n",
    "          'num_boost_round' : 300,\n",
    "         'max_depth' : 6,\n",
    "          'eval_metric' : 'auc',\n",
    "          'gamma' : 1,\n",
    "          'subsample' : 0.9}\n",
    "\n",
    "VALID = True\n",
    "np.random.seed(42)\n",
    "if VALID == True:\n",
    "    \n",
    "    tr_data = xgb.DMatrix(X_train, y_train)\n",
    "    va_data = xgb.DMatrix(X_valid, y_valid)\n",
    "    \n",
    "    watchlist = [(tr_data, 'train'), (va_data, 'valid')]\n",
    "    \n",
    "    model = xgb.train(params, tr_data, 500, watchlist, verbose_eval = 50, early_stopping_rounds=30)"
   ]
  },
  {
   "cell_type": "code",
   "execution_count": 21,
   "metadata": {},
   "outputs": [
    {
     "data": {
      "text/plain": [
       "(0.7130058088018115, 0.696953945316561)"
      ]
     },
     "execution_count": 21,
     "metadata": {},
     "output_type": "execute_result"
    }
   ],
   "source": [
    "from sklearn.metrics import accuracy_score, f1_score\n",
    "y_pred = np.where(model.predict(xgb.DMatrix(X_test)) > 0.5, 1, 0)\n",
    "accuracy_score(y_test, y_pred), f1_score(y_test, y_pred)"
   ]
  },
  {
   "cell_type": "markdown",
   "metadata": {},
   "source": [
    "### 64 category multi class - 가중치 적용 후"
   ]
  },
  {
   "cell_type": "markdown",
   "metadata": {},
   "source": [
    "#### OneVsRest Classifier"
   ]
  },
  {
   "cell_type": "code",
   "execution_count": 41,
   "metadata": {},
   "outputs": [
    {
     "data": {
      "text/plain": [
       "((23697, 267), (10157, 267), (23697,), (10157,))"
      ]
     },
     "execution_count": 41,
     "metadata": {},
     "output_type": "execute_result"
    }
   ],
   "source": [
    "from sklearn.model_selection import train_test_split\n",
    "\n",
    "X_train, X_test, y_train, y_test = train_test_split(merge_pledge_weight.drop(['acc_id',\n",
    "                                                                           'char_id',\n",
    "                                                                           'pledge_id',\n",
    "                                                                           'amount_spent_x',\n",
    "                                                                           'total_spent',\n",
    "                                                                          'secession',\n",
    "                                                                          'survival_time'], axis=1),\n",
    "                                                    merge_pledge_weight.survival_time,\n",
    "                                                    test_size = 0.3, random_state=42)\n",
    "# X_train, X_valid, y_train, y_valid = train_test_split(X_train, y_train, test_size = 0.25, random_state=42)\n",
    "\n",
    "X_train.shape, X_test.shape, y_train.shape, y_test.shape"
   ]
  },
  {
   "cell_type": "code",
   "execution_count": 42,
   "metadata": {},
   "outputs": [
    {
     "name": "stdout",
     "output_type": "stream",
     "text": [
      "One vs Rest accuracy : 0.907794\n"
     ]
    }
   ],
   "source": [
    "from sklearn.multiclass import OneVsRestClassifier\n",
    "from xgboost import XGBClassifier\n",
    "from sklearn.preprocessing import MultiLabelBinarizer\n",
    "\n",
    "np.random.seed(42)\n",
    "\n",
    "OVR = OneVsRestClassifier(XGBClassifier(n_estimator = 1000,n_jobs=-1, max_depth=8, silent = 1,\n",
    "                                       gamma = 1, subsample = 0.8 ))\n",
    "\n",
    "\n",
    "# You may need to use MultiLabelBinarizer to encode your variables from arrays [[x, y, z]] to a multilabel \n",
    "# format before training.\n",
    "\n",
    "\n",
    "OVR.fit(X_train, y_train)\n",
    "\n",
    "print('One vs Rest accuracy : %f' % OVR.score(X_train, y_train))"
   ]
  },
  {
   "cell_type": "code",
   "execution_count": 43,
   "metadata": {},
   "outputs": [
    {
     "data": {
      "text/plain": [
       "0.6070690164418627"
      ]
     },
     "execution_count": 43,
     "metadata": {},
     "output_type": "execute_result"
    }
   ],
   "source": [
    "from sklearn.metrics import accuracy_score\n",
    "\n",
    "y_pred = OVR.predict(X_test)\n",
    "accuracy_score(y_test, y_pred)"
   ]
  },
  {
   "cell_type": "code",
   "execution_count": 44,
   "metadata": {},
   "outputs": [
    {
     "data": {
      "text/plain": [
       "['0003.joblib']"
      ]
     },
     "execution_count": 44,
     "metadata": {},
     "output_type": "execute_result"
    }
   ],
   "source": [
    "from joblib import dump, load\n",
    "\n",
    "dump(OVR, '0003.joblib')"
   ]
  },
  {
   "cell_type": "markdown",
   "metadata": {},
   "source": [
    "#### Random Forest"
   ]
  },
  {
   "cell_type": "code",
   "execution_count": 10,
   "metadata": {
    "scrolled": true
   },
   "outputs": [
    {
     "data": {
      "text/plain": [
       "RandomForestClassifier(bootstrap=True, class_weight=None, criterion='gini',\n",
       "                       max_depth=None, max_features='auto', max_leaf_nodes=None,\n",
       "                       min_impurity_decrease=0.0, min_impurity_split=None,\n",
       "                       min_samples_leaf=1, min_samples_split=2,\n",
       "                       min_weight_fraction_leaf=0.0, n_estimators=130,\n",
       "                       n_jobs=None, oob_score=False, random_state=42, verbose=0,\n",
       "                       warm_start=False)"
      ]
     },
     "execution_count": 10,
     "metadata": {},
     "output_type": "execute_result"
    }
   ],
   "source": [
    "from sklearn.ensemble import RandomForestClassifier\n",
    "\n",
    "\n",
    "clf = RandomForestClassifier(n_estimators=130,\n",
    "                            criterion = 'gini',\n",
    "                              random_state=42)\n",
    "clf.fit(X_train, y_train)"
   ]
  },
  {
   "cell_type": "code",
   "execution_count": 11,
   "metadata": {},
   "outputs": [
    {
     "data": {
      "text/plain": [
       "0.6037215713301172"
      ]
     },
     "execution_count": 11,
     "metadata": {},
     "output_type": "execute_result"
    }
   ],
   "source": [
    "from sklearn.metrics import accuracy_score, f1_score\n",
    "\n",
    "y_pred = clf.predict(X_test)\n",
    "accuracy_score(y_test, y_pred)"
   ]
  },
  {
   "cell_type": "code",
   "execution_count": 15,
   "metadata": {},
   "outputs": [],
   "source": [
    "# clf.save_model('0003.model')\n",
    "import dill\n",
    "\n",
    "with open(\"./0003.obj\", \"wb\") as f:\n",
    "    dill.dump(clf, f)"
   ]
  },
  {
   "cell_type": "markdown",
   "metadata": {},
   "source": [
    "### amount spent 예측 rmse - 가중치 적용 후"
   ]
  },
  {
   "cell_type": "code",
   "execution_count": 53,
   "metadata": {},
   "outputs": [
    {
     "data": {
      "text/plain": [
       "((17772, 267), (5925, 267), (10157, 267), (17772,), (5925,), (10157,))"
      ]
     },
     "execution_count": 53,
     "metadata": {},
     "output_type": "execute_result"
    }
   ],
   "source": [
    "from sklearn.model_selection import train_test_split\n",
    "\n",
    "X_train, X_test, y_train, y_test = train_test_split(merge_pledge_weight.drop(['acc_id',\n",
    "                                                                           'char_id',\n",
    "                                                                           'pledge_id',\n",
    "                                                                           'amount_spent_x',\n",
    "                                                                           'total_spent',\n",
    "                                                                          'secession',\n",
    "                                                                          'survival_time'], axis=1),\n",
    "                                                    merge_pledge_weight.amount_spent_x,\n",
    "                                                    test_size = 0.3, random_state=42)\n",
    "X_train, X_valid, y_train, y_valid = train_test_split(X_train, y_train, test_size = 0.25, random_state=42)\n",
    "\n",
    "X_train.shape, X_valid.shape, X_test.shape, y_train.shape, y_valid.shape, y_test.shape"
   ]
  },
  {
   "cell_type": "code",
   "execution_count": 55,
   "metadata": {},
   "outputs": [
    {
     "name": "stdout",
     "output_type": "stream",
     "text": [
      "[22:26:45] WARNING: d:\\build\\xgboost\\xgboost-0.90.git\\src\\objective\\regression_obj.cu:152: reg:linear is now deprecated in favor of reg:squarederror.\n",
      "[0]\ttrain-rmse:0.738101\tvalid-rmse:0.530641\n",
      "Multiple eval metrics have been passed: 'valid-rmse' will be used for early stopping.\n",
      "\n",
      "Will train until valid-rmse hasn't improved in 30 rounds.\n",
      "[50]\ttrain-rmse:0.703647\tvalid-rmse:0.476503\n",
      "[100]\ttrain-rmse:0.703174\tvalid-rmse:0.475753\n",
      "[150]\ttrain-rmse:0.702997\tvalid-rmse:0.475418\n",
      "[200]\ttrain-rmse:0.702898\tvalid-rmse:0.475197\n",
      "[250]\ttrain-rmse:0.702833\tvalid-rmse:0.475031\n",
      "[300]\ttrain-rmse:0.702789\tvalid-rmse:0.47491\n",
      "[350]\ttrain-rmse:0.702756\tvalid-rmse:0.474822\n",
      "[400]\ttrain-rmse:0.70273\tvalid-rmse:0.474753\n",
      "[450]\ttrain-rmse:0.70271\tvalid-rmse:0.474704\n",
      "[500]\ttrain-rmse:0.702694\tvalid-rmse:0.474665\n",
      "[550]\ttrain-rmse:0.70268\tvalid-rmse:0.474636\n",
      "[600]\ttrain-rmse:0.702669\tvalid-rmse:0.474615\n",
      "[650]\ttrain-rmse:0.702659\tvalid-rmse:0.474601\n",
      "[700]\ttrain-rmse:0.70265\tvalid-rmse:0.474589\n",
      "[750]\ttrain-rmse:0.702643\tvalid-rmse:0.474581\n",
      "[800]\ttrain-rmse:0.702636\tvalid-rmse:0.474576\n",
      "[850]\ttrain-rmse:0.702631\tvalid-rmse:0.474572\n",
      "Stopping. Best iteration:\n",
      "[868]\ttrain-rmse:0.702629\tvalid-rmse:0.47457\n",
      "\n"
     ]
    }
   ],
   "source": [
    "import xgboost as xgb\n",
    "\n",
    "params = {'n_estimators' : 475,\n",
    "         'learning_rate' : 0.1,\n",
    "          'nthread' : 15,\n",
    "          'num_boost_round' : 300,\n",
    "         'max_depth' : 6,\n",
    "          'objective': 'reg:linear',\n",
    "          'booster' : 'gblinear',\n",
    "          'gamma' : 0,\n",
    "          'subsample' : 0.9}\n",
    "\n",
    "VALID = True\n",
    "np.random.seed(42)\n",
    "if VALID == True:\n",
    "    \n",
    "    tr_data = xgb.DMatrix(X_train, y_train)\n",
    "    va_data = xgb.DMatrix(X_valid, y_valid)\n",
    "    \n",
    "    watchlist = [(tr_data, 'train'), (va_data, 'valid')]\n",
    "    \n",
    "    model = xgb.train(params, tr_data, 1000, watchlist, verbose_eval = 50, early_stopping_rounds=30)"
   ]
  },
  {
   "cell_type": "code",
   "execution_count": 56,
   "metadata": {},
   "outputs": [
    {
     "name": "stdout",
     "output_type": "stream",
     "text": [
      "RMSE: 0.587074\n"
     ]
    }
   ],
   "source": [
    "from sklearn.metrics import mean_squared_error\n",
    "\n",
    "y_pred = model.predict(xgb.DMatrix(pd.DataFrame(X_test)))\n",
    "rmse = np.sqrt(mean_squared_error(y_test, y_pred))\n",
    "print(\"RMSE: %f\" % (rmse))"
   ]
  },
  {
   "cell_type": "code",
   "execution_count": 36,
   "metadata": {},
   "outputs": [],
   "source": [
    "model.save_model('0004.model')"
   ]
  },
  {
   "cell_type": "markdown",
   "metadata": {},
   "source": [
    "# catboost - 성능 떨어짐"
   ]
  },
  {
   "cell_type": "code",
   "execution_count": 23,
   "metadata": {},
   "outputs": [
    {
     "data": {
      "text/plain": [
       "((17772, 267), (5925, 267), (10157, 267), (17772,), (5925,), (10157,))"
      ]
     },
     "execution_count": 23,
     "metadata": {},
     "output_type": "execute_result"
    }
   ],
   "source": [
    "from sklearn.model_selection import train_test_split\n",
    "\n",
    "X_train, X_test, y_train, y_test = train_test_split(merge_pledge.drop(['acc_id',\n",
    "                                                                           'char_id',\n",
    "                                                                           'pledge_id',\n",
    "                                                                           'amount_spent_x',\n",
    "                                                                           'total_spent',\n",
    "                                                                          'secession',\n",
    "                                                                          'survival_time'], axis=1),\n",
    "                                                    merge_pledge.survival_time,\n",
    "                                                    test_size = 0.3, random_state=42)\n",
    "X_train, X_valid, y_train, y_valid = train_test_split(X_train, y_train, test_size = 0.25, random_state=42)\n",
    "\n",
    "X_train.shape, X_valid.shape, X_test.shape, y_train.shape, y_valid.shape, y_test.shape"
   ]
  },
  {
   "cell_type": "code",
   "execution_count": 27,
   "metadata": {
    "scrolled": true
   },
   "outputs": [
    {
     "name": "stdout",
     "output_type": "stream",
     "text": [
      "0:\tlearn: 3.6436040\ttest: 3.6512151\tbest: 3.6512151 (0)\ttotal: 28.9s\tremaining: 1h 59m 44s\n",
      "1:\tlearn: 3.4553108\ttest: 3.4634199\tbest: 3.4634199 (1)\ttotal: 59.3s\tremaining: 2h 2m 37s\n",
      "2:\tlearn: 3.3244946\ttest: 3.3328779\tbest: 3.3328779 (2)\ttotal: 1m 24s\tremaining: 1h 55m 29s\n",
      "3:\tlearn: 3.2244418\ttest: 3.2338854\tbest: 3.2338854 (3)\ttotal: 1m 50s\tremaining: 1h 52m 45s\n",
      "4:\tlearn: 3.1427841\ttest: 3.1528130\tbest: 3.1528130 (4)\ttotal: 2m 19s\tremaining: 1h 53m 42s\n",
      "5:\tlearn: 3.0741553\ttest: 3.0845124\tbest: 3.0845124 (5)\ttotal: 2m 47s\tremaining: 1h 53m 41s\n",
      "6:\tlearn: 3.0163761\ttest: 3.0271194\tbest: 3.0271194 (6)\ttotal: 3m 17s\tremaining: 1h 53m 59s\n",
      "7:\tlearn: 2.9652535\ttest: 2.9765536\tbest: 2.9765536 (7)\ttotal: 3m 45s\tremaining: 1h 53m 56s\n",
      "8:\tlearn: 2.9217859\ttest: 2.9339522\tbest: 2.9339522 (8)\ttotal: 4m 13s\tremaining: 1h 52m 56s\n",
      "9:\tlearn: 2.8815491\ttest: 2.8944088\tbest: 2.8944088 (9)\ttotal: 4m 40s\tremaining: 1h 52m 15s\n",
      "10:\tlearn: 2.8437348\ttest: 2.8572158\tbest: 2.8572158 (10)\ttotal: 5m 9s\tremaining: 1h 52m\n",
      "11:\tlearn: 2.8094637\ttest: 2.8238866\tbest: 2.8238866 (11)\ttotal: 5m 38s\tremaining: 1h 51m 53s\n",
      "12:\tlearn: 2.7800741\ttest: 2.7954561\tbest: 2.7954561 (12)\ttotal: 6m 5s\tremaining: 1h 51m 10s\n",
      "13:\tlearn: 2.7536100\ttest: 2.7697561\tbest: 2.7697561 (13)\ttotal: 6m 37s\tremaining: 1h 51m 36s\n",
      "14:\tlearn: 2.7279399\ttest: 2.7448565\tbest: 2.7448565 (14)\ttotal: 7m 4s\tremaining: 1h 50m 55s\n",
      "15:\tlearn: 2.7059716\ttest: 2.7231741\tbest: 2.7231741 (15)\ttotal: 7m 29s\tremaining: 1h 49m 27s\n",
      "16:\tlearn: 2.6846011\ttest: 2.7020458\tbest: 2.7020458 (16)\ttotal: 8m 1s\tremaining: 1h 50m 1s\n",
      "17:\tlearn: 2.6652031\ttest: 2.6835052\tbest: 2.6835052 (17)\ttotal: 8m 33s\tremaining: 1h 50m 13s\n",
      "18:\tlearn: 2.6467377\ttest: 2.6657279\tbest: 2.6657279 (18)\ttotal: 8m 58s\tremaining: 1h 49m 5s\n",
      "19:\tlearn: 2.6304426\ttest: 2.6497767\tbest: 2.6497767 (19)\ttotal: 9m 30s\tremaining: 1h 49m 15s\n",
      "20:\tlearn: 2.6145989\ttest: 2.6348902\tbest: 2.6348902 (20)\ttotal: 10m\tremaining: 1h 49m 10s\n",
      "21:\tlearn: 2.5995541\ttest: 2.6202249\tbest: 2.6202249 (21)\ttotal: 10m 26s\tremaining: 1h 48m 9s\n",
      "22:\tlearn: 2.5851713\ttest: 2.6069767\tbest: 2.6069767 (22)\ttotal: 10m 56s\tremaining: 1h 48m 1s\n",
      "23:\tlearn: 2.5715211\ttest: 2.5936683\tbest: 2.5936683 (23)\ttotal: 11m 23s\tremaining: 1h 47m 18s\n",
      "24:\tlearn: 2.5562622\ttest: 2.5796819\tbest: 2.5796819 (24)\ttotal: 11m 51s\tremaining: 1h 46m 46s\n",
      "25:\tlearn: 2.5429922\ttest: 2.5671663\tbest: 2.5671663 (25)\ttotal: 12m 23s\tremaining: 1h 46m 48s\n",
      "26:\tlearn: 2.5323925\ttest: 2.5571188\tbest: 2.5571188 (26)\ttotal: 12m 50s\tremaining: 1h 46m\n",
      "27:\tlearn: 2.5227663\ttest: 2.5477241\tbest: 2.5477241 (27)\ttotal: 12m 59s\tremaining: 1h 42m 59s\n",
      "28:\tlearn: 2.5137731\ttest: 2.5390292\tbest: 2.5390292 (28)\ttotal: 13m 27s\tremaining: 1h 42m 34s\n",
      "29:\tlearn: 2.5035939\ttest: 2.5300118\tbest: 2.5300118 (29)\ttotal: 13m 56s\tremaining: 1h 42m 16s\n",
      "30:\tlearn: 2.4951931\ttest: 2.5218418\tbest: 2.5218418 (30)\ttotal: 14m 24s\tremaining: 1h 41m 44s\n",
      "31:\tlearn: 2.4870154\ttest: 2.5141689\tbest: 2.5141689 (31)\ttotal: 14m 42s\tremaining: 1h 40m 8s\n",
      "32:\tlearn: 2.4800686\ttest: 2.5074447\tbest: 2.5074447 (32)\ttotal: 14m 55s\tremaining: 1h 38m 5s\n",
      "33:\tlearn: 2.4697736\ttest: 2.4986555\tbest: 2.4986555 (33)\ttotal: 15m 23s\tremaining: 1h 37m 45s\n",
      "34:\tlearn: 2.4621830\ttest: 2.4917006\tbest: 2.4917006 (34)\ttotal: 15m 50s\tremaining: 1h 37m 21s\n",
      "35:\tlearn: 2.4562969\ttest: 2.4859498\tbest: 2.4859498 (35)\ttotal: 16m 2s\tremaining: 1h 35m 21s\n",
      "36:\tlearn: 2.4500636\ttest: 2.4803464\tbest: 2.4803464 (36)\ttotal: 16m 34s\tremaining: 1h 35m 24s\n",
      "37:\tlearn: 2.4429834\ttest: 2.4741133\tbest: 2.4741133 (37)\ttotal: 17m 2s\tremaining: 1h 35m 1s\n",
      "38:\tlearn: 2.4378417\ttest: 2.4692080\tbest: 2.4692080 (38)\ttotal: 17m 19s\tremaining: 1h 33m 44s\n",
      "39:\tlearn: 2.4323218\ttest: 2.4642104\tbest: 2.4642104 (39)\ttotal: 17m 51s\tremaining: 1h 33m 43s\n",
      "40:\tlearn: 2.4268253\ttest: 2.4593447\tbest: 2.4593447 (40)\ttotal: 18m 23s\tremaining: 1h 33m 44s\n",
      "41:\tlearn: 2.4219969\ttest: 2.4549923\tbest: 2.4549923 (41)\ttotal: 18m 54s\tremaining: 1h 33m 39s\n",
      "42:\tlearn: 2.4184468\ttest: 2.4515371\tbest: 2.4515371 (42)\ttotal: 18m 56s\tremaining: 1h 31m 11s\n",
      "43:\tlearn: 2.4133876\ttest: 2.4470744\tbest: 2.4470744 (43)\ttotal: 19m 25s\tremaining: 1h 30m 57s\n",
      "44:\tlearn: 2.4088365\ttest: 2.4430886\tbest: 2.4430886 (44)\ttotal: 19m 56s\tremaining: 1h 30m 49s\n",
      "45:\tlearn: 2.4023209\ttest: 2.4375956\tbest: 2.4375956 (45)\ttotal: 20m 24s\tremaining: 1h 30m 31s\n",
      "46:\tlearn: 2.3982624\ttest: 2.4339316\tbest: 2.4339316 (46)\ttotal: 20m 56s\tremaining: 1h 30m 25s\n",
      "47:\tlearn: 2.3938360\ttest: 2.4302027\tbest: 2.4302027 (47)\ttotal: 21m 28s\tremaining: 1h 30m 22s\n",
      "48:\tlearn: 2.3904389\ttest: 2.4268732\tbest: 2.4268732 (48)\ttotal: 21m 37s\tremaining: 1h 28m 42s\n",
      "49:\tlearn: 2.3877682\ttest: 2.4243644\tbest: 2.4243644 (49)\ttotal: 21m 46s\tremaining: 1h 27m 4s\n",
      "50:\tlearn: 2.3825080\ttest: 2.4200520\tbest: 2.4200520 (50)\ttotal: 22m 15s\tremaining: 1h 26m 50s\n",
      "51:\tlearn: 2.3792454\ttest: 2.4172617\tbest: 2.4172617 (51)\ttotal: 22m 45s\tremaining: 1h 26m 38s\n",
      "52:\tlearn: 2.3741772\ttest: 2.4133019\tbest: 2.4133019 (52)\ttotal: 23m 13s\tremaining: 1h 26m 17s\n",
      "53:\tlearn: 2.3709602\ttest: 2.4103957\tbest: 2.4103957 (53)\ttotal: 23m 43s\tremaining: 1h 26m 5s\n",
      "54:\tlearn: 2.3662604\ttest: 2.4069329\tbest: 2.4069329 (54)\ttotal: 24m 13s\tremaining: 1h 25m 52s\n",
      "55:\tlearn: 2.3618117\ttest: 2.4032319\tbest: 2.4032319 (55)\ttotal: 24m 43s\tremaining: 1h 25m 39s\n",
      "56:\tlearn: 2.3589692\ttest: 2.4008449\tbest: 2.4008449 (56)\ttotal: 25m 14s\tremaining: 1h 25m 28s\n",
      "57:\tlearn: 2.3538472\ttest: 2.3966784\tbest: 2.3966784 (57)\ttotal: 25m 41s\tremaining: 1h 25m 2s\n",
      "58:\tlearn: 2.3509087\ttest: 2.3944564\tbest: 2.3944564 (58)\ttotal: 26m 11s\tremaining: 1h 24m 46s\n",
      "59:\tlearn: 2.3474497\ttest: 2.3918432\tbest: 2.3918432 (59)\ttotal: 26m 40s\tremaining: 1h 24m 29s\n",
      "60:\tlearn: 2.3436313\ttest: 2.3890204\tbest: 2.3890204 (60)\ttotal: 27m 10s\tremaining: 1h 24m 11s\n",
      "61:\tlearn: 2.3406875\ttest: 2.3867421\tbest: 2.3867421 (61)\ttotal: 27m 41s\tremaining: 1h 23m 59s\n",
      "62:\tlearn: 2.3365824\ttest: 2.3834827\tbest: 2.3834827 (62)\ttotal: 28m 10s\tremaining: 1h 23m 38s\n",
      "63:\tlearn: 2.3338183\ttest: 2.3813566\tbest: 2.3813566 (63)\ttotal: 28m 40s\tremaining: 1h 23m 20s\n",
      "64:\tlearn: 2.3312213\ttest: 2.3792823\tbest: 2.3792823 (64)\ttotal: 29m 9s\tremaining: 1h 22m 59s\n",
      "65:\tlearn: 2.3277997\ttest: 2.3769392\tbest: 2.3769392 (65)\ttotal: 29m 40s\tremaining: 1h 22m 43s\n",
      "66:\tlearn: 2.3237809\ttest: 2.3739447\tbest: 2.3739447 (66)\ttotal: 30m 11s\tremaining: 1h 22m 28s\n",
      "67:\tlearn: 2.3206656\ttest: 2.3715133\tbest: 2.3715133 (67)\ttotal: 30m 41s\tremaining: 1h 22m 9s\n",
      "68:\tlearn: 2.3158436\ttest: 2.3681793\tbest: 2.3681793 (68)\ttotal: 31m 9s\tremaining: 1h 21m 44s\n",
      "69:\tlearn: 2.3121982\ttest: 2.3659140\tbest: 2.3659140 (69)\ttotal: 31m 41s\tremaining: 1h 21m 28s\n",
      "70:\tlearn: 2.3096450\ttest: 2.3638524\tbest: 2.3638524 (70)\ttotal: 32m 8s\tremaining: 1h 21m 3s\n",
      "71:\tlearn: 2.3070635\ttest: 2.3621805\tbest: 2.3621805 (71)\ttotal: 32m 36s\tremaining: 1h 20m 36s\n",
      "72:\tlearn: 2.3038478\ttest: 2.3599358\tbest: 2.3599358 (72)\ttotal: 33m\tremaining: 1h 20m\n",
      "73:\tlearn: 2.2999988\ttest: 2.3556976\tbest: 2.3556976 (73)\ttotal: 33m 28s\tremaining: 1h 19m 37s\n",
      "74:\tlearn: 2.2958828\ttest: 2.3515819\tbest: 2.3515819 (74)\ttotal: 33m 55s\tremaining: 1h 19m 8s\n",
      "75:\tlearn: 2.2929869\ttest: 2.3496607\tbest: 2.3496607 (75)\ttotal: 34m 26s\tremaining: 1h 18m 51s\n",
      "76:\tlearn: 2.2916579\ttest: 2.3485163\tbest: 2.3485163 (76)\ttotal: 34m 58s\tremaining: 1h 18m 34s\n",
      "77:\tlearn: 2.2884161\ttest: 2.3451057\tbest: 2.3451057 (77)\ttotal: 35m 25s\tremaining: 1h 18m 6s\n",
      "78:\tlearn: 2.2862196\ttest: 2.3436396\tbest: 2.3436396 (78)\ttotal: 35m 49s\tremaining: 1h 17m 32s\n",
      "79:\tlearn: 2.2832312\ttest: 2.3403780\tbest: 2.3403780 (79)\ttotal: 36m 17s\tremaining: 1h 17m 7s\n",
      "80:\tlearn: 2.2814324\ttest: 2.3389010\tbest: 2.3389010 (80)\ttotal: 36m 44s\tremaining: 1h 16m 40s\n",
      "81:\tlearn: 2.2792105\ttest: 2.3372923\tbest: 2.3372923 (81)\ttotal: 37m 9s\tremaining: 1h 16m 8s\n",
      "82:\tlearn: 2.2779262\ttest: 2.3363570\tbest: 2.3363570 (82)\ttotal: 37m 38s\tremaining: 1h 15m 43s\n",
      "83:\tlearn: 2.2750069\ttest: 2.3345656\tbest: 2.3345656 (83)\ttotal: 38m 5s\tremaining: 1h 15m 17s\n",
      "84:\tlearn: 2.2714377\ttest: 2.3321173\tbest: 2.3321173 (84)\ttotal: 38m 34s\tremaining: 1h 14m 53s\n",
      "85:\tlearn: 2.2710291\ttest: 2.3316933\tbest: 2.3316933 (85)\ttotal: 38m 39s\tremaining: 1h 13m 43s\n",
      "86:\tlearn: 2.2675555\ttest: 2.3295515\tbest: 2.3295515 (86)\ttotal: 39m 7s\tremaining: 1h 13m 17s\n",
      "87:\tlearn: 2.2652020\ttest: 2.3276888\tbest: 2.3276888 (87)\ttotal: 39m 36s\tremaining: 1h 12m 54s\n"
     ]
    },
    {
     "name": "stdout",
     "output_type": "stream",
     "text": [
      "88:\tlearn: 2.2627211\ttest: 2.3252592\tbest: 2.3252592 (88)\ttotal: 40m 2s\tremaining: 1h 12m 26s\n",
      "89:\tlearn: 2.2599732\ttest: 2.3235759\tbest: 2.3235759 (89)\ttotal: 40m 27s\tremaining: 1h 11m 56s\n",
      "90:\tlearn: 2.2576924\ttest: 2.3209900\tbest: 2.3209900 (90)\ttotal: 40m 57s\tremaining: 1h 11m 34s\n",
      "91:\tlearn: 2.2572641\ttest: 2.3206205\tbest: 2.3206205 (91)\ttotal: 41m 3s\tremaining: 1h 10m 30s\n",
      "92:\tlearn: 2.2544283\ttest: 2.3181323\tbest: 2.3181323 (92)\ttotal: 41m 34s\tremaining: 1h 10m 11s\n",
      "93:\tlearn: 2.2522634\ttest: 2.3163901\tbest: 2.3163901 (93)\ttotal: 42m 3s\tremaining: 1h 9m 48s\n",
      "94:\tlearn: 2.2483397\ttest: 2.3140132\tbest: 2.3140132 (94)\ttotal: 42m 29s\tremaining: 1h 9m 19s\n",
      "95:\tlearn: 2.2466865\ttest: 2.3129498\tbest: 2.3129498 (95)\ttotal: 43m 1s\tremaining: 1h 9m 1s\n",
      "96:\tlearn: 2.2440726\ttest: 2.3113818\tbest: 2.3113818 (96)\ttotal: 43m 31s\tremaining: 1h 8m 39s\n",
      "97:\tlearn: 2.2427675\ttest: 2.3107618\tbest: 2.3107618 (97)\ttotal: 44m 1s\tremaining: 1h 8m 16s\n",
      "98:\tlearn: 2.2406898\ttest: 2.3099573\tbest: 2.3099573 (98)\ttotal: 44m 32s\tremaining: 1h 7m 56s\n",
      "99:\tlearn: 2.2385657\ttest: 2.3076527\tbest: 2.3076527 (99)\ttotal: 45m\tremaining: 1h 7m 31s\n",
      "100:\tlearn: 2.2355354\ttest: 2.3061162\tbest: 2.3061162 (100)\ttotal: 45m 28s\tremaining: 1h 7m 5s\n",
      "101:\tlearn: 2.2337657\ttest: 2.3051942\tbest: 2.3051942 (101)\ttotal: 46m\tremaining: 1h 6m 45s\n",
      "102:\tlearn: 2.2316982\ttest: 2.3031180\tbest: 2.3031180 (102)\ttotal: 46m 37s\tremaining: 1h 6m 32s\n",
      "103:\tlearn: 2.2299734\ttest: 2.3021417\tbest: 2.3021417 (103)\ttotal: 47m 10s\tremaining: 1h 6m 13s\n",
      "104:\tlearn: 2.2278805\ttest: 2.3009524\tbest: 2.3009524 (104)\ttotal: 47m 43s\tremaining: 1h 5m 54s\n",
      "105:\tlearn: 2.2256867\ttest: 2.2993387\tbest: 2.2993387 (105)\ttotal: 48m 13s\tremaining: 1h 5m 30s\n",
      "106:\tlearn: 2.2245203\ttest: 2.2987712\tbest: 2.2987712 (106)\ttotal: 48m 45s\tremaining: 1h 5m 10s\n",
      "107:\tlearn: 2.2233695\ttest: 2.2981648\tbest: 2.2981648 (107)\ttotal: 49m 17s\tremaining: 1h 4m 48s\n",
      "108:\tlearn: 2.2216772\ttest: 2.2974263\tbest: 2.2974263 (108)\ttotal: 49m 48s\tremaining: 1h 4m 26s\n",
      "109:\tlearn: 2.2215691\ttest: 2.2973334\tbest: 2.2973334 (109)\ttotal: 49m 51s\tremaining: 1h 3m 26s\n",
      "110:\tlearn: 2.2196433\ttest: 2.2960817\tbest: 2.2960817 (110)\ttotal: 50m 23s\tremaining: 1h 3m 6s\n",
      "111:\tlearn: 2.2175313\ttest: 2.2949083\tbest: 2.2949083 (111)\ttotal: 50m 53s\tremaining: 1h 2m 41s\n",
      "112:\tlearn: 2.2163966\ttest: 2.2943945\tbest: 2.2943945 (112)\ttotal: 51m 22s\tremaining: 1h 2m 17s\n",
      "113:\tlearn: 2.2151567\ttest: 2.2938737\tbest: 2.2938737 (113)\ttotal: 51m 57s\tremaining: 1h 1m 58s\n",
      "114:\tlearn: 2.2145226\ttest: 2.2935066\tbest: 2.2935066 (114)\ttotal: 52m 28s\tremaining: 1h 1m 36s\n",
      "115:\tlearn: 2.2132595\ttest: 2.2929347\tbest: 2.2929347 (115)\ttotal: 52m 59s\tremaining: 1h 1m 13s\n",
      "116:\tlearn: 2.2117595\ttest: 2.2924123\tbest: 2.2924123 (116)\ttotal: 53m 34s\tremaining: 1h 53s\n",
      "117:\tlearn: 2.2097600\ttest: 2.2903139\tbest: 2.2903139 (117)\ttotal: 54m 3s\tremaining: 1h 28s\n",
      "118:\tlearn: 2.2073612\ttest: 2.2883591\tbest: 2.2883591 (118)\ttotal: 54m 37s\tremaining: 1h 8s\n",
      "119:\tlearn: 2.2057887\ttest: 2.2867097\tbest: 2.2867097 (119)\ttotal: 55m 9s\tremaining: 59m 45s\n",
      "120:\tlearn: 2.2041061\ttest: 2.2850659\tbest: 2.2850659 (120)\ttotal: 55m 47s\tremaining: 59m 29s\n",
      "121:\tlearn: 2.2019251\ttest: 2.2838489\tbest: 2.2838489 (121)\ttotal: 56m 19s\tremaining: 59m 5s\n",
      "122:\tlearn: 2.2003824\ttest: 2.2825134\tbest: 2.2825134 (122)\ttotal: 56m 55s\tremaining: 58m 46s\n",
      "123:\tlearn: 2.1982308\ttest: 2.2811304\tbest: 2.2811304 (123)\ttotal: 57m 30s\tremaining: 58m 26s\n",
      "124:\tlearn: 2.1963986\ttest: 2.2794115\tbest: 2.2794115 (124)\ttotal: 57m 58s\tremaining: 57m 58s\n",
      "125:\tlearn: 2.1947541\ttest: 2.2779310\tbest: 2.2779310 (125)\ttotal: 58m 28s\tremaining: 57m 32s\n",
      "126:\tlearn: 2.1929581\ttest: 2.2765528\tbest: 2.2765528 (126)\ttotal: 58m 59s\tremaining: 57m 7s\n",
      "127:\tlearn: 2.1912074\ttest: 2.2751671\tbest: 2.2751671 (127)\ttotal: 59m 34s\tremaining: 56m 46s\n",
      "128:\tlearn: 2.1898376\ttest: 2.2743352\tbest: 2.2743352 (128)\ttotal: 1h 10s\tremaining: 56m 26s\n",
      "129:\tlearn: 2.1878451\ttest: 2.2729554\tbest: 2.2729554 (129)\ttotal: 1h 49s\tremaining: 56m 8s\n",
      "130:\tlearn: 2.1856775\ttest: 2.2716669\tbest: 2.2716669 (130)\ttotal: 1h 1m 26s\tremaining: 55m 48s\n",
      "131:\tlearn: 2.1846138\ttest: 2.2708027\tbest: 2.2708027 (131)\ttotal: 1h 1m 59s\tremaining: 55m 24s\n",
      "132:\tlearn: 2.1830687\ttest: 2.2695572\tbest: 2.2695572 (132)\ttotal: 1h 2m 32s\tremaining: 55m\n",
      "133:\tlearn: 2.1824839\ttest: 2.2693906\tbest: 2.2693906 (133)\ttotal: 1h 3m 7s\tremaining: 54m 38s\n",
      "134:\tlearn: 2.1811162\ttest: 2.2685660\tbest: 2.2685660 (134)\ttotal: 1h 3m 40s\tremaining: 54m 14s\n",
      "135:\tlearn: 2.1800993\ttest: 2.2678201\tbest: 2.2678201 (135)\ttotal: 1h 4m 18s\tremaining: 53m 54s\n",
      "136:\tlearn: 2.1786401\ttest: 2.2668552\tbest: 2.2668552 (136)\ttotal: 1h 4m 52s\tremaining: 53m 30s\n",
      "137:\tlearn: 2.1771039\ttest: 2.2662409\tbest: 2.2662409 (137)\ttotal: 1h 5m 24s\tremaining: 53m 4s\n",
      "138:\tlearn: 2.1755322\ttest: 2.2652464\tbest: 2.2652464 (138)\ttotal: 1h 5m 57s\tremaining: 52m 40s\n",
      "139:\tlearn: 2.1744862\ttest: 2.2643677\tbest: 2.2643677 (139)\ttotal: 1h 6m 30s\tremaining: 52m 15s\n",
      "140:\tlearn: 2.1730053\ttest: 2.2633147\tbest: 2.2633147 (140)\ttotal: 1h 7m 7s\tremaining: 51m 53s\n",
      "141:\tlearn: 2.1718536\ttest: 2.2623254\tbest: 2.2623254 (141)\ttotal: 1h 7m 42s\tremaining: 51m 29s\n",
      "142:\tlearn: 2.1703906\ttest: 2.2617108\tbest: 2.2617108 (142)\ttotal: 1h 8m 17s\tremaining: 51m 5s\n",
      "143:\tlearn: 2.1692776\ttest: 2.2610988\tbest: 2.2610988 (143)\ttotal: 1h 8m 47s\tremaining: 50m 38s\n",
      "144:\tlearn: 2.1674646\ttest: 2.2604409\tbest: 2.2604409 (144)\ttotal: 1h 9m 14s\tremaining: 50m 8s\n",
      "145:\tlearn: 2.1664419\ttest: 2.2599095\tbest: 2.2599095 (145)\ttotal: 1h 9m 46s\tremaining: 49m 41s\n",
      "146:\tlearn: 2.1649609\ttest: 2.2589259\tbest: 2.2589259 (146)\ttotal: 1h 10m 17s\tremaining: 49m 15s\n",
      "147:\tlearn: 2.1640172\ttest: 2.2585610\tbest: 2.2585610 (147)\ttotal: 1h 10m 52s\tremaining: 48m 50s\n",
      "148:\tlearn: 2.1629489\ttest: 2.2578713\tbest: 2.2578713 (148)\ttotal: 1h 11m 28s\tremaining: 48m 26s\n",
      "149:\tlearn: 2.1618412\ttest: 2.2571434\tbest: 2.2571434 (149)\ttotal: 1h 12m 4s\tremaining: 48m 2s\n",
      "150:\tlearn: 2.1604968\ttest: 2.2563236\tbest: 2.2563236 (150)\ttotal: 1h 12m 36s\tremaining: 47m 36s\n",
      "151:\tlearn: 2.1596781\ttest: 2.2559479\tbest: 2.2559479 (151)\ttotal: 1h 13m 9s\tremaining: 47m 10s\n",
      "152:\tlearn: 2.1593110\ttest: 2.2556870\tbest: 2.2556870 (152)\ttotal: 1h 13m 38s\tremaining: 46m 41s\n",
      "153:\tlearn: 2.1575344\ttest: 2.2547853\tbest: 2.2547853 (153)\ttotal: 1h 14m 7s\tremaining: 46m 12s\n",
      "154:\tlearn: 2.1566096\ttest: 2.2540717\tbest: 2.2540717 (154)\ttotal: 1h 14m 39s\tremaining: 45m 45s\n",
      "155:\tlearn: 2.1556314\ttest: 2.2537208\tbest: 2.2537208 (155)\ttotal: 1h 15m 5s\tremaining: 45m 14s\n",
      "156:\tlearn: 2.1540948\ttest: 2.2525878\tbest: 2.2525878 (156)\ttotal: 1h 15m 37s\tremaining: 44m 47s\n",
      "157:\tlearn: 2.1531789\ttest: 2.2518034\tbest: 2.2518034 (157)\ttotal: 1h 16m 7s\tremaining: 44m 19s\n",
      "158:\tlearn: 2.1523622\ttest: 2.2515768\tbest: 2.2515768 (158)\ttotal: 1h 16m 39s\tremaining: 43m 52s\n",
      "159:\tlearn: 2.1517155\ttest: 2.2511180\tbest: 2.2511180 (159)\ttotal: 1h 17m 7s\tremaining: 43m 23s\n",
      "160:\tlearn: 2.1508506\ttest: 2.2507981\tbest: 2.2507981 (160)\ttotal: 1h 17m 39s\tremaining: 42m 55s\n",
      "161:\tlearn: 2.1496951\ttest: 2.2504590\tbest: 2.2504590 (161)\ttotal: 1h 18m 8s\tremaining: 42m 26s\n",
      "162:\tlearn: 2.1481636\ttest: 2.2495811\tbest: 2.2495811 (162)\ttotal: 1h 18m 35s\tremaining: 41m 57s\n",
      "163:\tlearn: 2.1470899\ttest: 2.2493266\tbest: 2.2493266 (163)\ttotal: 1h 19m 5s\tremaining: 41m 28s\n",
      "164:\tlearn: 2.1459116\ttest: 2.2490597\tbest: 2.2490597 (164)\ttotal: 1h 19m 33s\tremaining: 40m 59s\n",
      "165:\tlearn: 2.1446080\ttest: 2.2485040\tbest: 2.2485040 (165)\ttotal: 1h 20m 4s\tremaining: 40m 31s\n",
      "166:\tlearn: 2.1431428\ttest: 2.2479769\tbest: 2.2479769 (166)\ttotal: 1h 20m 37s\tremaining: 40m 4s\n",
      "167:\tlearn: 2.1418144\ttest: 2.2471691\tbest: 2.2471691 (167)\ttotal: 1h 21m 8s\tremaining: 39m 36s\n",
      "168:\tlearn: 2.1407858\ttest: 2.2467042\tbest: 2.2467042 (168)\ttotal: 1h 21m 42s\tremaining: 39m 9s\n",
      "169:\tlearn: 2.1401539\ttest: 2.2462777\tbest: 2.2462777 (169)\ttotal: 1h 22m 11s\tremaining: 38m 40s\n",
      "170:\tlearn: 2.1383205\ttest: 2.2454196\tbest: 2.2454196 (170)\ttotal: 1h 22m 41s\tremaining: 38m 12s\n",
      "171:\tlearn: 2.1374013\ttest: 2.2451241\tbest: 2.2451241 (171)\ttotal: 1h 23m 10s\tremaining: 37m 43s\n",
      "172:\tlearn: 2.1360898\ttest: 2.2446572\tbest: 2.2446572 (172)\ttotal: 1h 23m 39s\tremaining: 37m 13s\n",
      "173:\tlearn: 2.1344013\ttest: 2.2441656\tbest: 2.2441656 (173)\ttotal: 1h 24m 8s\tremaining: 36m 45s\n",
      "174:\tlearn: 2.1333056\ttest: 2.2436497\tbest: 2.2436497 (174)\ttotal: 1h 24m 39s\tremaining: 36m 16s\n"
     ]
    },
    {
     "name": "stdout",
     "output_type": "stream",
     "text": [
      "175:\tlearn: 2.1322874\ttest: 2.2433131\tbest: 2.2433131 (175)\ttotal: 1h 25m 8s\tremaining: 35m 47s\n",
      "176:\tlearn: 2.1314664\ttest: 2.2431818\tbest: 2.2431818 (176)\ttotal: 1h 25m 41s\tremaining: 35m 20s\n",
      "177:\tlearn: 2.1309725\ttest: 2.2429876\tbest: 2.2429876 (177)\ttotal: 1h 26m 12s\tremaining: 34m 52s\n",
      "178:\tlearn: 2.1305034\ttest: 2.2428083\tbest: 2.2428083 (178)\ttotal: 1h 26m 41s\tremaining: 34m 23s\n",
      "179:\tlearn: 2.1292425\ttest: 2.2420766\tbest: 2.2420766 (179)\ttotal: 1h 27m 10s\tremaining: 33m 54s\n",
      "180:\tlearn: 2.1282661\ttest: 2.2417446\tbest: 2.2417446 (180)\ttotal: 1h 27m 38s\tremaining: 33m 24s\n",
      "181:\tlearn: 2.1275788\ttest: 2.2415107\tbest: 2.2415107 (181)\ttotal: 1h 28m 3s\tremaining: 32m 54s\n",
      "182:\tlearn: 2.1271097\ttest: 2.2413969\tbest: 2.2413969 (182)\ttotal: 1h 28m 36s\tremaining: 32m 26s\n",
      "183:\tlearn: 2.1263841\ttest: 2.2409687\tbest: 2.2409687 (183)\ttotal: 1h 29m 1s\tremaining: 31m 56s\n",
      "184:\tlearn: 2.1254901\ttest: 2.2406587\tbest: 2.2406587 (184)\ttotal: 1h 29m 31s\tremaining: 31m 27s\n",
      "185:\tlearn: 2.1246707\ttest: 2.2401786\tbest: 2.2401786 (185)\ttotal: 1h 29m 59s\tremaining: 30m 57s\n",
      "186:\tlearn: 2.1238669\ttest: 2.2397184\tbest: 2.2397184 (186)\ttotal: 1h 30m 27s\tremaining: 30m 28s\n",
      "187:\tlearn: 2.1233179\ttest: 2.2394626\tbest: 2.2394626 (187)\ttotal: 1h 31m 1s\tremaining: 30m 1s\n",
      "188:\tlearn: 2.1226200\ttest: 2.2391263\tbest: 2.2391263 (188)\ttotal: 1h 31m 31s\tremaining: 29m 32s\n",
      "189:\tlearn: 2.1215324\ttest: 2.2385835\tbest: 2.2385835 (189)\ttotal: 1h 32m 1s\tremaining: 29m 3s\n",
      "190:\tlearn: 2.1205791\ttest: 2.2380513\tbest: 2.2380513 (190)\ttotal: 1h 32m 27s\tremaining: 28m 33s\n",
      "191:\tlearn: 2.1197663\ttest: 2.2377499\tbest: 2.2377499 (191)\ttotal: 1h 32m 56s\tremaining: 28m 4s\n",
      "192:\tlearn: 2.1191108\ttest: 2.2376699\tbest: 2.2376699 (192)\ttotal: 1h 33m 26s\tremaining: 27m 35s\n",
      "193:\tlearn: 2.1181587\ttest: 2.2372877\tbest: 2.2372877 (193)\ttotal: 1h 33m 54s\tremaining: 27m 6s\n",
      "194:\tlearn: 2.1171212\ttest: 2.2370083\tbest: 2.2370083 (194)\ttotal: 1h 34m 25s\tremaining: 26m 38s\n",
      "195:\tlearn: 2.1158511\ttest: 2.2364521\tbest: 2.2364521 (195)\ttotal: 1h 34m 49s\tremaining: 26m 7s\n",
      "196:\tlearn: 2.1151497\ttest: 2.2362827\tbest: 2.2362827 (196)\ttotal: 1h 35m 23s\tremaining: 25m 39s\n",
      "197:\tlearn: 2.1143070\ttest: 2.2360706\tbest: 2.2360706 (197)\ttotal: 1h 35m 54s\tremaining: 25m 11s\n",
      "198:\tlearn: 2.1137159\ttest: 2.2360580\tbest: 2.2360580 (198)\ttotal: 1h 36m 27s\tremaining: 24m 43s\n",
      "199:\tlearn: 2.1121294\ttest: 2.2355231\tbest: 2.2355231 (199)\ttotal: 1h 36m 52s\tremaining: 24m 13s\n",
      "200:\tlearn: 2.1113786\ttest: 2.2352947\tbest: 2.2352947 (200)\ttotal: 1h 37m 21s\tremaining: 23m 44s\n",
      "201:\tlearn: 2.1103861\ttest: 2.2350252\tbest: 2.2350252 (201)\ttotal: 1h 37m 51s\tremaining: 23m 15s\n",
      "202:\tlearn: 2.1091120\ttest: 2.2347270\tbest: 2.2347270 (202)\ttotal: 1h 38m 18s\tremaining: 22m 45s\n",
      "203:\tlearn: 2.1082592\ttest: 2.2345589\tbest: 2.2345589 (203)\ttotal: 1h 38m 52s\tremaining: 22m 17s\n",
      "204:\tlearn: 2.1069360\ttest: 2.2342639\tbest: 2.2342639 (204)\ttotal: 1h 39m 20s\tremaining: 21m 48s\n",
      "205:\tlearn: 2.1056714\ttest: 2.2338260\tbest: 2.2338260 (205)\ttotal: 1h 39m 50s\tremaining: 21m 19s\n",
      "206:\tlearn: 2.1049654\ttest: 2.2336570\tbest: 2.2336570 (206)\ttotal: 1h 40m 22s\tremaining: 20m 50s\n",
      "207:\tlearn: 2.1043965\ttest: 2.2335515\tbest: 2.2335515 (207)\ttotal: 1h 40m 51s\tremaining: 20m 21s\n",
      "208:\tlearn: 2.1033566\ttest: 2.2334038\tbest: 2.2334038 (208)\ttotal: 1h 41m 24s\tremaining: 19m 53s\n",
      "209:\tlearn: 2.1027442\ttest: 2.2332844\tbest: 2.2332844 (209)\ttotal: 1h 41m 52s\tremaining: 19m 24s\n",
      "210:\tlearn: 2.1018504\ttest: 2.2331054\tbest: 2.2331054 (210)\ttotal: 1h 42m 22s\tremaining: 18m 55s\n",
      "211:\tlearn: 2.1012470\ttest: 2.2329245\tbest: 2.2329245 (211)\ttotal: 1h 42m 54s\tremaining: 18m 26s\n",
      "212:\tlearn: 2.0999835\ttest: 2.2327587\tbest: 2.2327587 (212)\ttotal: 1h 43m 27s\tremaining: 17m 58s\n",
      "213:\tlearn: 2.0988951\ttest: 2.2324165\tbest: 2.2324165 (213)\ttotal: 1h 43m 55s\tremaining: 17m 28s\n",
      "214:\tlearn: 2.0983351\ttest: 2.2322801\tbest: 2.2322801 (214)\ttotal: 1h 44m 26s\tremaining: 17m\n",
      "215:\tlearn: 2.0970835\ttest: 2.2317518\tbest: 2.2317518 (215)\ttotal: 1h 44m 57s\tremaining: 16m 31s\n",
      "216:\tlearn: 2.0963583\ttest: 2.2315019\tbest: 2.2315019 (216)\ttotal: 1h 45m 28s\tremaining: 16m 2s\n",
      "217:\tlearn: 2.0960929\ttest: 2.2314286\tbest: 2.2314286 (217)\ttotal: 1h 45m 59s\tremaining: 15m 33s\n",
      "218:\tlearn: 2.0943549\ttest: 2.2307181\tbest: 2.2307181 (218)\ttotal: 1h 46m 27s\tremaining: 15m 4s\n",
      "219:\tlearn: 2.0934066\ttest: 2.2303558\tbest: 2.2303558 (219)\ttotal: 1h 46m 55s\tremaining: 14m 34s\n",
      "220:\tlearn: 2.0920002\ttest: 2.2296884\tbest: 2.2296884 (220)\ttotal: 1h 47m 25s\tremaining: 14m 5s\n",
      "221:\tlearn: 2.0910973\ttest: 2.2291325\tbest: 2.2291325 (221)\ttotal: 1h 47m 57s\tremaining: 13m 36s\n",
      "222:\tlearn: 2.0903616\ttest: 2.2291125\tbest: 2.2291125 (222)\ttotal: 1h 48m 27s\tremaining: 13m 7s\n",
      "223:\tlearn: 2.0884944\ttest: 2.2283692\tbest: 2.2283692 (223)\ttotal: 1h 48m 54s\tremaining: 12m 38s\n",
      "224:\tlearn: 2.0877505\ttest: 2.2280023\tbest: 2.2280023 (224)\ttotal: 1h 49m 25s\tremaining: 12m 9s\n",
      "225:\tlearn: 2.0865613\ttest: 2.2278481\tbest: 2.2278481 (225)\ttotal: 1h 49m 55s\tremaining: 11m 40s\n",
      "226:\tlearn: 2.0858828\ttest: 2.2276977\tbest: 2.2276977 (226)\ttotal: 1h 50m 27s\tremaining: 11m 11s\n",
      "227:\tlearn: 2.0848461\ttest: 2.2273753\tbest: 2.2273753 (227)\ttotal: 1h 50m 54s\tremaining: 10m 42s\n",
      "228:\tlearn: 2.0839247\ttest: 2.2271457\tbest: 2.2271457 (228)\ttotal: 1h 51m 24s\tremaining: 10m 12s\n",
      "229:\tlearn: 2.0832432\ttest: 2.2271622\tbest: 2.2271457 (228)\ttotal: 1h 51m 50s\tremaining: 9m 43s\n",
      "230:\tlearn: 2.0822421\ttest: 2.2269290\tbest: 2.2269290 (230)\ttotal: 1h 52m 20s\tremaining: 9m 14s\n",
      "231:\tlearn: 2.0812149\ttest: 2.2266891\tbest: 2.2266891 (231)\ttotal: 1h 52m 51s\tremaining: 8m 45s\n",
      "232:\tlearn: 2.0807058\ttest: 2.2266549\tbest: 2.2266549 (232)\ttotal: 1h 53m 21s\tremaining: 8m 16s\n",
      "233:\tlearn: 2.0801916\ttest: 2.2264163\tbest: 2.2264163 (233)\ttotal: 1h 53m 53s\tremaining: 7m 47s\n",
      "234:\tlearn: 2.0795354\ttest: 2.2261974\tbest: 2.2261974 (234)\ttotal: 1h 54m 24s\tremaining: 7m 18s\n",
      "235:\tlearn: 2.0789463\ttest: 2.2260492\tbest: 2.2260492 (235)\ttotal: 1h 54m 55s\tremaining: 6m 49s\n",
      "236:\tlearn: 2.0778249\ttest: 2.2257605\tbest: 2.2257605 (236)\ttotal: 1h 55m 25s\tremaining: 6m 19s\n",
      "237:\tlearn: 2.0771265\ttest: 2.2256362\tbest: 2.2256362 (237)\ttotal: 1h 55m 53s\tremaining: 5m 50s\n",
      "238:\tlearn: 2.0763284\ttest: 2.2254437\tbest: 2.2254437 (238)\ttotal: 1h 56m 27s\tremaining: 5m 21s\n",
      "239:\tlearn: 2.0754360\ttest: 2.2252256\tbest: 2.2252256 (239)\ttotal: 1h 56m 56s\tremaining: 4m 52s\n",
      "240:\tlearn: 2.0750955\ttest: 2.2251241\tbest: 2.2251241 (240)\ttotal: 1h 57m 27s\tremaining: 4m 23s\n",
      "241:\tlearn: 2.0747085\ttest: 2.2251128\tbest: 2.2251128 (241)\ttotal: 1h 57m 57s\tremaining: 3m 53s\n",
      "242:\tlearn: 2.0737919\ttest: 2.2250582\tbest: 2.2250582 (242)\ttotal: 1h 58m 30s\tremaining: 3m 24s\n",
      "243:\tlearn: 2.0729903\ttest: 2.2247253\tbest: 2.2247253 (243)\ttotal: 1h 59m\tremaining: 2m 55s\n",
      "244:\tlearn: 2.0722903\ttest: 2.2246495\tbest: 2.2246495 (244)\ttotal: 1h 59m 31s\tremaining: 2m 26s\n",
      "245:\tlearn: 2.0715512\ttest: 2.2245754\tbest: 2.2245754 (245)\ttotal: 2h 2s\tremaining: 1m 57s\n",
      "246:\tlearn: 2.0704378\ttest: 2.2245634\tbest: 2.2245634 (246)\ttotal: 2h 31s\tremaining: 1m 27s\n",
      "247:\tlearn: 2.0688809\ttest: 2.2241967\tbest: 2.2241967 (247)\ttotal: 2h 1m 4s\tremaining: 58.6s\n",
      "248:\tlearn: 2.0681055\ttest: 2.2238472\tbest: 2.2238472 (248)\ttotal: 2h 1m 38s\tremaining: 29.3s\n",
      "249:\tlearn: 2.0675426\ttest: 2.2236589\tbest: 2.2236589 (249)\ttotal: 2h 2m 2s\tremaining: 0us\n",
      "\n",
      "bestTest = 2.223658922\n",
      "bestIteration = 249\n",
      "\n"
     ]
    }
   ],
   "source": [
    "from catboost import CatBoostClassifier, Pool\n",
    "\n",
    "np.random.seed(42)\n",
    "\n",
    "\n",
    "categorical_var = np.where(X_train.dtypes != np.float)[0]\n",
    "\n",
    "model = CatBoostClassifier(iterations=250, use_best_model = True, od_type = 'Iter',\n",
    "                          random_seed = 42)\n",
    "# Fit model\n",
    "model.fit(X_train, y_train, cat_features = categorical_var, plot = False, eval_set = (X_valid, y_valid))\n",
    "\n",
    "y_pred = model.predict(X_test)"
   ]
  },
  {
   "cell_type": "code",
   "execution_count": 28,
   "metadata": {},
   "outputs": [
    {
     "data": {
      "text/plain": [
       "0.5577434281776115"
      ]
     },
     "execution_count": 28,
     "metadata": {},
     "output_type": "execute_result"
    }
   ],
   "source": [
    "from sklearn.metrics import accuracy_score, f1_score\n",
    "\n",
    "accuracy_score(y_test, y_pred)"
   ]
  },
  {
   "cell_type": "markdown",
   "metadata": {},
   "source": [
    "# flatten전 과 비교"
   ]
  },
  {
   "cell_type": "markdown",
   "metadata": {},
   "source": [
    "### 이진분류"
   ]
  },
  {
   "cell_type": "code",
   "execution_count": 63,
   "metadata": {},
   "outputs": [
    {
     "data": {
      "text/plain": [
       "((17772, 15), (5925, 15), (10157, 15), (17772,), (5925,), (10157,))"
      ]
     },
     "execution_count": 63,
     "metadata": {},
     "output_type": "execute_result"
    }
   ],
   "source": [
    "from sklearn.model_selection import train_test_split\n",
    "\n",
    "X_train, X_test, y_train, y_test = train_test_split(merge_pledge_non_flatten.drop(['acc_id',\n",
    "                                                                           'char_id',\n",
    "                                                                           'pledge_id',\n",
    "                                                                           'amount_spent_x',\n",
    "                                                                           'total_spent',\n",
    "                                                                          'secession',\n",
    "                                                                          'survival_time'], axis=1),\n",
    "                                                    merge_pledge_non_flatten.secession,\n",
    "                                                    test_size = 0.3, random_state=42)\n",
    "X_train, X_valid, y_train, y_valid = train_test_split(X_train, y_train, test_size = 0.25, random_state=42)\n",
    "\n",
    "X_train.shape, X_valid.shape, X_test.shape, y_train.shape, y_valid.shape, y_test.shape"
   ]
  },
  {
   "cell_type": "code",
   "execution_count": 64,
   "metadata": {},
   "outputs": [
    {
     "name": "stdout",
     "output_type": "stream",
     "text": [
      "[0]\ttrain-auc:0.741184\tvalid-auc:0.720395\n",
      "Multiple eval metrics have been passed: 'valid-auc' will be used for early stopping.\n",
      "\n",
      "Will train until valid-auc hasn't improved in 30 rounds.\n",
      "[50]\ttrain-auc:0.8409\tvalid-auc:0.772741\n",
      "[100]\ttrain-auc:0.868687\tvalid-auc:0.776566\n",
      "[150]\ttrain-auc:0.886052\tvalid-auc:0.778128\n",
      "Stopping. Best iteration:\n",
      "[154]\ttrain-auc:0.887367\tvalid-auc:0.778332\n",
      "\n"
     ]
    }
   ],
   "source": [
    "import xgboost as xgb\n",
    "\n",
    "params = {'n_estimators' : 475,\n",
    "         'learning_rate' : 0.1,\n",
    "          'nthread' : 15,\n",
    "          'num_boost_round' : 300,\n",
    "         'max_depth' : 6,\n",
    "          'eval_metric' : 'auc',\n",
    "          'gamma' : 1,\n",
    "          'subsample' : 0.9}\n",
    "\n",
    "VALID = True\n",
    "np.random.seed(42)\n",
    "if VALID == True:\n",
    "    \n",
    "    tr_data = xgb.DMatrix(X_train, y_train)\n",
    "    va_data = xgb.DMatrix(X_valid, y_valid)\n",
    "    \n",
    "    watchlist = [(tr_data, 'train'), (va_data, 'valid')]\n",
    "    \n",
    "    model = xgb.train(params, tr_data, 500, watchlist, verbose_eval = 50, early_stopping_rounds=30)"
   ]
  },
  {
   "cell_type": "code",
   "execution_count": 67,
   "metadata": {},
   "outputs": [
    {
     "data": {
      "text/plain": [
       "(0.7055232844343803, 0.6889882499740044)"
      ]
     },
     "execution_count": 67,
     "metadata": {},
     "output_type": "execute_result"
    }
   ],
   "source": [
    "from sklearn.metrics import accuracy_score, f1_score\n",
    "y_pred = np.where(model.predict(xgb.DMatrix(X_test)) > 0.5, 1, 0)\n",
    "accuracy_score(y_test, y_pred), f1_score(y_test, y_pred)"
   ]
  },
  {
   "cell_type": "markdown",
   "metadata": {},
   "source": [
    "이진 분류는 정확도 0.5~1.0정도 떨어짐"
   ]
  },
  {
   "cell_type": "markdown",
   "metadata": {},
   "source": [
    "### 64category 분류  "
   ]
  },
  {
   "cell_type": "code",
   "execution_count": 69,
   "metadata": {},
   "outputs": [
    {
     "data": {
      "text/plain": [
       "((17772, 15), (5925, 15), (10157, 15), (17772,), (5925,), (10157,))"
      ]
     },
     "execution_count": 69,
     "metadata": {},
     "output_type": "execute_result"
    }
   ],
   "source": [
    "from sklearn.model_selection import train_test_split\n",
    "\n",
    "X_train, X_test, y_train, y_test = train_test_split(merge_pledge_non_flatten.drop(['acc_id',\n",
    "                                                                           'char_id',\n",
    "                                                                           'pledge_id',\n",
    "                                                                           'amount_spent_x',\n",
    "                                                                           'total_spent',\n",
    "                                                                          'secession',\n",
    "                                                                          'survival_time'], axis=1),\n",
    "                                                    merge_pledge_non_flatten.survival_time,\n",
    "                                                    test_size = 0.3, random_state=42)\n",
    "X_train, X_valid, y_train, y_valid = train_test_split(X_train, y_train, test_size = 0.25, random_state=42)\n",
    "\n",
    "X_train.shape, X_valid.shape, X_test.shape, y_train.shape, y_valid.shape, y_test.shape"
   ]
  },
  {
   "cell_type": "code",
   "execution_count": 70,
   "metadata": {},
   "outputs": [
    {
     "name": "stdout",
     "output_type": "stream",
     "text": [
      "One vs Rest accuracy : 0.824555\n"
     ]
    }
   ],
   "source": [
    "from sklearn.multiclass import OneVsRestClassifier\n",
    "from xgboost import XGBClassifier\n",
    "from sklearn.preprocessing import MultiLabelBinarizer\n",
    "\n",
    "np.random.seed(42)\n",
    "\n",
    "OVR = OneVsRestClassifier(XGBClassifier(n_estimator = 1000,n_jobs=-1, max_depth=8, silent = 1,\n",
    "                                       gamma = 1, subsample = 0.8 ))\n",
    "\n",
    "\n",
    "# You may need to use MultiLabelBinarizer to encode your variables from arrays [[x, y, z]] to a multilabel \n",
    "# format before training.\n",
    "\n",
    "\n",
    "OVR.fit(X_train, y_train)\n",
    "\n",
    "print('One vs Rest accuracy : %f' % OVR.score(X_train, y_train))"
   ]
  },
  {
   "cell_type": "code",
   "execution_count": 72,
   "metadata": {},
   "outputs": [
    {
     "data": {
      "text/plain": [
       "0.5937776902628729"
      ]
     },
     "execution_count": 72,
     "metadata": {},
     "output_type": "execute_result"
    }
   ],
   "source": [
    "from sklearn.metrics import accuracy_score\n",
    "\n",
    "y_pred = OVR.predict(X_test)\n",
    "accuracy_score(y_test, y_pred)"
   ]
  },
  {
   "cell_type": "markdown",
   "metadata": {},
   "source": [
    "64 카테고리 또한 정확도 약 1.5% 떨어짐"
   ]
  },
  {
   "cell_type": "markdown",
   "metadata": {},
   "source": [
    "# Regression으로 예측 후 카테고리화 하여 정확도 측정"
   ]
  },
  {
   "cell_type": "code",
   "execution_count": 147,
   "metadata": {},
   "outputs": [
    {
     "data": {
      "text/plain": [
       "((17772, 267), (5925, 267), (10157, 267), (17772,), (5925,), (10157,))"
      ]
     },
     "execution_count": 147,
     "metadata": {},
     "output_type": "execute_result"
    }
   ],
   "source": [
    "from sklearn.model_selection import train_test_split\n",
    "\n",
    "X_train, X_test, y_train, y_test = train_test_split(merge_pledge.drop(['acc_id',\n",
    "                                                                           'char_id',\n",
    "                                                                           'pledge_id',\n",
    "                                                                           'amount_spent_x',\n",
    "                                                                           'total_spent',\n",
    "                                                                          'secession',\n",
    "                                                                          'survival_time'], axis=1),\n",
    "                                                    merge_pledge.survival_time,\n",
    "                                                    test_size = 0.3, random_state=42)\n",
    "X_train, X_valid, y_train, y_valid = train_test_split(X_train, y_train, test_size = 0.25, random_state=42)\n",
    "\n",
    "X_train.shape, X_valid.shape, X_test.shape, y_train.shape, y_valid.shape, y_test.shape"
   ]
  },
  {
   "cell_type": "code",
   "execution_count": 148,
   "metadata": {
    "scrolled": true
   },
   "outputs": [
    {
     "name": "stdout",
     "output_type": "stream",
     "text": [
      "[0]\tvalidation_0-merror:0.430677\tvalidation_1-merror:0.449283\n",
      "Multiple eval metrics have been passed: 'validation_1-merror' will be used for early stopping.\n",
      "\n",
      "Will train until validation_1-merror hasn't improved in 20 rounds.\n",
      "[1]\tvalidation_0-merror:0.420268\tvalidation_1-merror:0.440169\n",
      "[2]\tvalidation_0-merror:0.411152\tvalidation_1-merror:0.435781\n",
      "[3]\tvalidation_0-merror:0.4053\tvalidation_1-merror:0.432068\n",
      "[4]\tvalidation_0-merror:0.398548\tvalidation_1-merror:0.427173\n",
      "[5]\tvalidation_0-merror:0.392415\tvalidation_1-merror:0.423291\n",
      "[6]\tvalidation_0-merror:0.386226\tvalidation_1-merror:0.420084\n",
      "[7]\tvalidation_0-merror:0.381274\tvalidation_1-merror:0.417722\n",
      "[8]\tvalidation_0-merror:0.376435\tvalidation_1-merror:0.416371\n",
      "[9]\tvalidation_0-merror:0.371877\tvalidation_1-merror:0.415359\n",
      "[10]\tvalidation_0-merror:0.366194\tvalidation_1-merror:0.414177\n",
      "[11]\tvalidation_0-merror:0.36113\tvalidation_1-merror:0.412827\n",
      "[12]\tvalidation_0-merror:0.356235\tvalidation_1-merror:0.412321\n",
      "[13]\tvalidation_0-merror:0.351452\tvalidation_1-merror:0.411477\n",
      "[14]\tvalidation_0-merror:0.345881\tvalidation_1-merror:0.409789\n",
      "[15]\tvalidation_0-merror:0.339185\tvalidation_1-merror:0.40962\n",
      "[16]\tvalidation_0-merror:0.334121\tvalidation_1-merror:0.40962\n",
      "[17]\tvalidation_0-merror:0.328044\tvalidation_1-merror:0.407764\n",
      "[18]\tvalidation_0-merror:0.321686\tvalidation_1-merror:0.407089\n",
      "[19]\tvalidation_0-merror:0.315159\tvalidation_1-merror:0.406582\n",
      "[20]\tvalidation_0-merror:0.308069\tvalidation_1-merror:0.406076\n",
      "[21]\tvalidation_0-merror:0.300867\tvalidation_1-merror:0.406751\n",
      "[22]\tvalidation_0-merror:0.294621\tvalidation_1-merror:0.406751\n",
      "[23]\tvalidation_0-merror:0.2877\tvalidation_1-merror:0.405738\n",
      "[24]\tvalidation_0-merror:0.280835\tvalidation_1-merror:0.405738\n",
      "[25]\tvalidation_0-merror:0.273633\tvalidation_1-merror:0.405738\n",
      "[26]\tvalidation_0-merror:0.26795\tvalidation_1-merror:0.406245\n",
      "[27]\tvalidation_0-merror:0.260635\tvalidation_1-merror:0.404726\n",
      "[28]\tvalidation_0-merror:0.254445\tvalidation_1-merror:0.403544\n",
      "[29]\tvalidation_0-merror:0.249043\tvalidation_1-merror:0.403713\n",
      "[30]\tvalidation_0-merror:0.243248\tvalidation_1-merror:0.403882\n",
      "[31]\tvalidation_0-merror:0.235314\tvalidation_1-merror:0.403882\n",
      "[32]\tvalidation_0-merror:0.229518\tvalidation_1-merror:0.403544\n",
      "[33]\tvalidation_0-merror:0.223498\tvalidation_1-merror:0.403882\n",
      "[34]\tvalidation_0-merror:0.216126\tvalidation_1-merror:0.402869\n",
      "[35]\tvalidation_0-merror:0.210725\tvalidation_1-merror:0.4027\n",
      "[36]\tvalidation_0-merror:0.203804\tvalidation_1-merror:0.402025\n",
      "[37]\tvalidation_0-merror:0.197896\tvalidation_1-merror:0.401857\n",
      "[38]\tvalidation_0-merror:0.19255\tvalidation_1-merror:0.400844\n",
      "[39]\tvalidation_0-merror:0.186304\tvalidation_1-merror:0.400675\n",
      "[40]\tvalidation_0-merror:0.18079\tvalidation_1-merror:0.400338\n",
      "[41]\tvalidation_0-merror:0.175276\tvalidation_1-merror:0.399662\n",
      "[42]\tvalidation_0-merror:0.170324\tvalidation_1-merror:0.399494\n",
      "[43]\tvalidation_0-merror:0.165035\tvalidation_1-merror:0.399662\n",
      "[44]\tvalidation_0-merror:0.159521\tvalidation_1-merror:0.399494\n",
      "[45]\tvalidation_0-merror:0.154963\tvalidation_1-merror:0.399156\n",
      "[46]\tvalidation_0-merror:0.150236\tvalidation_1-merror:0.398987\n",
      "[47]\tvalidation_0-merror:0.144553\tvalidation_1-merror:0.398987\n",
      "[48]\tvalidation_0-merror:0.140389\tvalidation_1-merror:0.398987\n",
      "[49]\tvalidation_0-merror:0.135213\tvalidation_1-merror:0.399156\n",
      "[50]\tvalidation_0-merror:0.129923\tvalidation_1-merror:0.398312\n",
      "[51]\tvalidation_0-merror:0.125141\tvalidation_1-merror:0.398143\n",
      "[52]\tvalidation_0-merror:0.121596\tvalidation_1-merror:0.398143\n",
      "[53]\tvalidation_0-merror:0.118388\tvalidation_1-merror:0.397637\n",
      "[54]\tvalidation_0-merror:0.113606\tvalidation_1-merror:0.397975\n",
      "[55]\tvalidation_0-merror:0.110004\tvalidation_1-merror:0.397131\n",
      "[56]\tvalidation_0-merror:0.105784\tvalidation_1-merror:0.3973\n",
      "[57]\tvalidation_0-merror:0.102239\tvalidation_1-merror:0.397131\n",
      "[58]\tvalidation_0-merror:0.099257\tvalidation_1-merror:0.397131\n",
      "[59]\tvalidation_0-merror:0.095769\tvalidation_1-merror:0.396962\n",
      "[60]\tvalidation_0-merror:0.092336\tvalidation_1-merror:0.396962\n",
      "[61]\tvalidation_0-merror:0.089242\tvalidation_1-merror:0.396456\n",
      "[62]\tvalidation_0-merror:0.086541\tvalidation_1-merror:0.396624\n",
      "[63]\tvalidation_0-merror:0.084402\tvalidation_1-merror:0.396456\n",
      "[64]\tvalidation_0-merror:0.081645\tvalidation_1-merror:0.395949\n",
      "[65]\tvalidation_0-merror:0.07962\tvalidation_1-merror:0.396456\n",
      "[66]\tvalidation_0-merror:0.077369\tvalidation_1-merror:0.396962\n",
      "[67]\tvalidation_0-merror:0.075006\tvalidation_1-merror:0.396118\n",
      "[68]\tvalidation_0-merror:0.072474\tvalidation_1-merror:0.396118\n",
      "[69]\tvalidation_0-merror:0.071179\tvalidation_1-merror:0.396793\n",
      "[70]\tvalidation_0-merror:0.06876\tvalidation_1-merror:0.396287\n",
      "[71]\tvalidation_0-merror:0.066903\tvalidation_1-merror:0.396793\n",
      "[72]\tvalidation_0-merror:0.064033\tvalidation_1-merror:0.396624\n",
      "[73]\tvalidation_0-merror:0.063077\tvalidation_1-merror:0.396624\n",
      "[74]\tvalidation_0-merror:0.06167\tvalidation_1-merror:0.396793\n",
      "[75]\tvalidation_0-merror:0.059532\tvalidation_1-merror:0.396624\n",
      "[76]\tvalidation_0-merror:0.057844\tvalidation_1-merror:0.396793\n",
      "[77]\tvalidation_0-merror:0.056325\tvalidation_1-merror:0.396456\n",
      "[78]\tvalidation_0-merror:0.054299\tvalidation_1-merror:0.396793\n",
      "[79]\tvalidation_0-merror:0.052892\tvalidation_1-merror:0.396456\n",
      "[80]\tvalidation_0-merror:0.051598\tvalidation_1-merror:0.396793\n",
      "[81]\tvalidation_0-merror:0.049572\tvalidation_1-merror:0.396287\n",
      "[82]\tvalidation_0-merror:0.048278\tvalidation_1-merror:0.396287\n",
      "[83]\tvalidation_0-merror:0.047434\tvalidation_1-merror:0.397131\n",
      "[84]\tvalidation_0-merror:0.046027\tvalidation_1-merror:0.3973\n",
      "Stopping. Best iteration:\n",
      "[64]\tvalidation_0-merror:0.081645\tvalidation_1-merror:0.395949\n",
      "\n"
     ]
    }
   ],
   "source": [
    "import xgboost as xgb\n",
    "\n",
    "np.random.seed(42)\n",
    "\n",
    "\n",
    "xg_reg = xgb.XGBClassifier(n_estimators = 475, learning_rate = 0.1, nthread = 15, max_depth = 8,\n",
    "                          objective = 'multi:softprob', gamma = 0, subsample=0.9)\n",
    "\n",
    "\n",
    "eval_set = [(X_train, y_train), (X_valid, y_valid)]\n",
    "\n",
    "xg_reg.fit(X_train,y_train, eval_set = eval_set, early_stopping_rounds=20)\n",
    "y_pred = xg_reg.predict(X_test)"
   ]
  },
  {
   "cell_type": "code",
   "execution_count": 149,
   "metadata": {},
   "outputs": [
    {
     "name": "stdout",
     "output_type": "stream",
     "text": [
      "accuracy : 0.602933937186177\n"
     ]
    }
   ],
   "source": [
    "print('accuracy :', accuracy_score(y_test, y_pred))"
   ]
  },
  {
   "cell_type": "code",
   "execution_count": 150,
   "metadata": {},
   "outputs": [
    {
     "data": {
      "text/plain": [
       "144344"
      ]
     },
     "execution_count": 150,
     "metadata": {},
     "output_type": "execute_result"
    }
   ],
   "source": [
    "# 카테고리로 설정했을 떄 차이의 합\n",
    "de = 0\n",
    "for i in range(len(y_test)):\n",
    "    aa = y_test.tolist()[i]-y_pred[i]\n",
    "    if aa < 0:\n",
    "        de += -aa\n",
    "    else:\n",
    "        de += aa\n",
    "        \n",
    "de"
   ]
  },
  {
   "cell_type": "code",
   "execution_count": 151,
   "metadata": {},
   "outputs": [
    {
     "name": "stdout",
     "output_type": "stream",
     "text": [
      "[02:18:35] WARNING: d:\\build\\xgboost\\xgboost-0.90.git\\src\\objective\\regression_obj.cu:152: reg:linear is now deprecated in favor of reg:squarederror.\n",
      "[0]\ttrain-rmse:30.813\tvalid-rmse:30.5893\n",
      "Multiple eval metrics have been passed: 'valid-rmse' will be used for early stopping.\n",
      "\n",
      "Will train until valid-rmse hasn't improved in 20 rounds.\n",
      "[50]\ttrain-rmse:20.7248\tvalid-rmse:20.9068\n",
      "[100]\ttrain-rmse:20.6382\tvalid-rmse:20.87\n",
      "[150]\ttrain-rmse:20.601\tvalid-rmse:20.8566\n",
      "[200]\ttrain-rmse:20.5779\tvalid-rmse:20.8492\n",
      "[250]\ttrain-rmse:20.5619\tvalid-rmse:20.8449\n",
      "[300]\ttrain-rmse:20.55\tvalid-rmse:20.8422\n",
      "[350]\ttrain-rmse:20.5407\tvalid-rmse:20.8401\n",
      "[400]\ttrain-rmse:20.5332\tvalid-rmse:20.8386\n",
      "[450]\ttrain-rmse:20.5271\tvalid-rmse:20.8377\n",
      "[500]\ttrain-rmse:20.522\tvalid-rmse:20.837\n",
      "[550]\ttrain-rmse:20.5176\tvalid-rmse:20.8366\n",
      "[600]\ttrain-rmse:20.514\tvalid-rmse:20.8363\n",
      "[650]\ttrain-rmse:20.5108\tvalid-rmse:20.8361\n",
      "Stopping. Best iteration:\n",
      "[637]\ttrain-rmse:20.5116\tvalid-rmse:20.836\n",
      "\n"
     ]
    }
   ],
   "source": [
    "import xgboost as xgb\n",
    "\n",
    "params = {'n_estimators' : 475,\n",
    "         'learning_rate' : 0.1,\n",
    "          'nthread' : 15,\n",
    "          'num_boost_round' : 300,\n",
    "         'max_depth' : 6,\n",
    "          'objective': 'reg:linear',\n",
    "          'booster' : 'gblinear',\n",
    "          'gamma' : 0,\n",
    "          'subsample' : 0.9}\n",
    "\n",
    "VALID = True\n",
    "np.random.seed(42)\n",
    "if VALID == True:\n",
    "    \n",
    "    tr_data = xgb.DMatrix(X_train, y_train)\n",
    "    va_data = xgb.DMatrix(X_valid, y_valid)\n",
    "    \n",
    "    watchlist = [(tr_data, 'train'), (va_data, 'valid')]\n",
    "    \n",
    "    model = xgb.train(params, tr_data, 1000, watchlist, verbose_eval = 50, early_stopping_rounds=20)"
   ]
  },
  {
   "cell_type": "code",
   "execution_count": 152,
   "metadata": {},
   "outputs": [
    {
     "data": {
      "text/plain": [
       "array([20.321339, 42.772808, 51.716362, ..., 48.04666 , 50.168293,\n",
       "       41.209946], dtype=float32)"
      ]
     },
     "execution_count": 152,
     "metadata": {},
     "output_type": "execute_result"
    }
   ],
   "source": [
    "y_pred = model.predict(xgb.DMatrix(X_test))\n",
    "y_pred"
   ]
  },
  {
   "cell_type": "code",
   "execution_count": 156,
   "metadata": {},
   "outputs": [],
   "source": [
    "y_pred = y_pred.round()"
   ]
  },
  {
   "cell_type": "code",
   "execution_count": 157,
   "metadata": {},
   "outputs": [],
   "source": [
    "for i, x in enumerate(y_pred):\n",
    "    if x < 0:\n",
    "        y_pred[i] = 0\n",
    "    elif x > 64:\n",
    "        y_pred[i] = 64"
   ]
  },
  {
   "cell_type": "code",
   "execution_count": 159,
   "metadata": {},
   "outputs": [
    {
     "data": {
      "text/plain": [
       "182023.0"
      ]
     },
     "execution_count": 159,
     "metadata": {},
     "output_type": "execute_result"
    }
   ],
   "source": [
    "# 카테고리로 설정했을 떄 차이의 합\n",
    "de = 0\n",
    "for i in range(len(y_test)):\n",
    "    aa = y_test.tolist()[i]-y_pred[i]\n",
    "    if aa < 0:\n",
    "        de += -aa\n",
    "    else:\n",
    "        de += aa\n",
    "        \n",
    "de"
   ]
  },
  {
   "cell_type": "markdown",
   "metadata": {},
   "source": [
    " 64category classify : 144344\n",
    " \n",
    " linear classify : 182023\n",
    " \n",
    " 굉장히 큰 차이를 보이므로 잔존 vs 이탈로 분류 후 linear classify 진행"
   ]
  },
  {
   "cell_type": "code",
   "execution_count": 162,
   "metadata": {},
   "outputs": [
    {
     "data": {
      "text/plain": [
       "((17772, 267), (5925, 267), (10157, 267), (17772,), (5925,), (10157,))"
      ]
     },
     "execution_count": 162,
     "metadata": {},
     "output_type": "execute_result"
    }
   ],
   "source": [
    "from sklearn.model_selection import train_test_split\n",
    "\n",
    "X_train, X_test, y_train, y_test = train_test_split(merge_pledge.drop(['acc_id',\n",
    "                                                                           'char_id',\n",
    "                                                                           'pledge_id',\n",
    "                                                                           'amount_spent_x',\n",
    "                                                                           'total_spent',\n",
    "                                                                          'secession',\n",
    "                                                                          'survival_time'], axis=1),\n",
    "                                                    merge_pledge.secession,\n",
    "                                                    test_size = 0.3, random_state=42)\n",
    "X_train, X_valid, y_train, y_valid = train_test_split(X_train, y_train, test_size = 0.25, random_state=42)\n",
    "\n",
    "X_train.shape, X_valid.shape, X_test.shape, y_train.shape, y_valid.shape, y_test.shape"
   ]
  },
  {
   "cell_type": "code",
   "execution_count": 163,
   "metadata": {},
   "outputs": [
    {
     "name": "stdout",
     "output_type": "stream",
     "text": [
      "[0]\ttrain-auc:0.746162\tvalid-auc:0.728914\n",
      "Multiple eval metrics have been passed: 'valid-auc' will be used for early stopping.\n",
      "\n",
      "Will train until valid-auc hasn't improved in 25 rounds.\n",
      "[50]\ttrain-auc:0.87957\tvalid-auc:0.782579\n",
      "[100]\ttrain-auc:0.918569\tvalid-auc:0.789515\n",
      "[150]\ttrain-auc:0.942401\tvalid-auc:0.792197\n",
      "[200]\ttrain-auc:0.952209\tvalid-auc:0.793354\n",
      "Stopping. Best iteration:\n",
      "[195]\ttrain-auc:0.951208\tvalid-auc:0.793525\n",
      "\n"
     ]
    }
   ],
   "source": [
    "import xgboost as xgb\n",
    "\n",
    "params = {'n_estimators' : 475,\n",
    "         'learning_rate' : 0.1,\n",
    "          'nthread' : 15,\n",
    "          'num_boost_round' : 300,\n",
    "         'max_depth' : 6,\n",
    "          'eval_metric' : 'auc',\n",
    "          'gamma' : 1,\n",
    "          'subsample' : 0.9}\n",
    "\n",
    "VALID = True\n",
    "np.random.seed(42)\n",
    "if VALID == True:\n",
    "    \n",
    "    tr_data = xgb.DMatrix(X_train, y_train)\n",
    "    va_data = xgb.DMatrix(X_valid, y_valid)\n",
    "    \n",
    "    watchlist = [(tr_data, 'train'), (va_data, 'valid')]\n",
    "    \n",
    "    model = xgb.train(params, tr_data, 500, watchlist, verbose_eval = 50, early_stopping_rounds=25)"
   ]
  },
  {
   "cell_type": "code",
   "execution_count": 165,
   "metadata": {},
   "outputs": [
    {
     "data": {
      "text/plain": [
       "(0.7145810770896919, 0.6960897368696929)"
      ]
     },
     "execution_count": 165,
     "metadata": {},
     "output_type": "execute_result"
    }
   ],
   "source": [
    "from sklearn.metrics import accuracy_score, f1_score\n",
    "y_pred = np.where(model.predict(xgb.DMatrix(X_test)) > 0.5, 1, 0)\n",
    "accuracy_score(y_test, y_pred), f1_score(y_test, y_pred)"
   ]
  },
  {
   "cell_type": "code",
   "execution_count": 171,
   "metadata": {},
   "outputs": [
    {
     "data": {
      "text/plain": [
       "(10157, (10157, 267))"
      ]
     },
     "execution_count": 171,
     "metadata": {},
     "output_type": "execute_result"
    }
   ],
   "source": [
    "len(y_pred), X_test.shape"
   ]
  },
  {
   "cell_type": "code",
   "execution_count": null,
   "metadata": {},
   "outputs": [],
   "source": []
  }
 ],
 "metadata": {
  "kernelspec": {
   "display_name": "MyPython",
   "language": "python",
   "name": "mypython"
  },
  "language_info": {
   "codemirror_mode": {
    "name": "ipython",
    "version": 3
   },
   "file_extension": ".py",
   "mimetype": "text/x-python",
   "name": "python",
   "nbconvert_exporter": "python",
   "pygments_lexer": "ipython3",
   "version": "3.7.3"
  }
 },
 "nbformat": 4,
 "nbformat_minor": 2
}
