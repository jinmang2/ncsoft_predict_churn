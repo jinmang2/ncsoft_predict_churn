{
 "cells": [
  {
   "cell_type": "code",
   "execution_count": 1,
   "metadata": {},
   "outputs": [],
   "source": [
    "import pandas as pd\n",
    "from pandas import DataFrame\n",
    "import numpy as np\n",
    "import matplotlib.pyplot as plt"
   ]
  },
  {
   "cell_type": "code",
   "execution_count": 2,
   "metadata": {},
   "outputs": [],
   "source": [
    "data_6part = pd.read_csv('./data_6part.csv') \n",
    "train_label = pd.read_csv('./train_label_add.csv')\n",
    "train_payment = pd.read_csv('./train_payment.csv')"
   ]
  },
  {
   "cell_type": "code",
   "execution_count": 3,
   "metadata": {},
   "outputs": [
    {
     "data": {
      "text/html": [
       "<div>\n",
       "<style scoped>\n",
       "    .dataframe tbody tr th:only-of-type {\n",
       "        vertical-align: middle;\n",
       "    }\n",
       "\n",
       "    .dataframe tbody tr th {\n",
       "        vertical-align: top;\n",
       "    }\n",
       "\n",
       "    .dataframe thead th {\n",
       "        text-align: right;\n",
       "    }\n",
       "</style>\n",
       "<table border=\"1\" class=\"dataframe\">\n",
       "  <thead>\n",
       "    <tr style=\"text-align: right;\">\n",
       "      <th></th>\n",
       "      <th>day</th>\n",
       "      <th>acc_id</th>\n",
       "      <th>amount_spent</th>\n",
       "    </tr>\n",
       "  </thead>\n",
       "  <tbody>\n",
       "    <tr>\n",
       "      <th>0</th>\n",
       "      <td>18</td>\n",
       "      <td>27835</td>\n",
       "      <td>0.826123</td>\n",
       "    </tr>\n",
       "    <tr>\n",
       "      <th>1</th>\n",
       "      <td>23</td>\n",
       "      <td>27835</td>\n",
       "      <td>0.011735</td>\n",
       "    </tr>\n",
       "    <tr>\n",
       "      <th>2</th>\n",
       "      <td>27</td>\n",
       "      <td>27835</td>\n",
       "      <td>0.035204</td>\n",
       "    </tr>\n",
       "    <tr>\n",
       "      <th>3</th>\n",
       "      <td>17</td>\n",
       "      <td>12351</td>\n",
       "      <td>0.528062</td>\n",
       "    </tr>\n",
       "    <tr>\n",
       "      <th>4</th>\n",
       "      <td>11</td>\n",
       "      <td>125437</td>\n",
       "      <td>0.633674</td>\n",
       "    </tr>\n",
       "  </tbody>\n",
       "</table>\n",
       "</div>"
      ],
      "text/plain": [
       "   day  acc_id  amount_spent\n",
       "0   18   27835      0.826123\n",
       "1   23   27835      0.011735\n",
       "2   27   27835      0.035204\n",
       "3   17   12351      0.528062\n",
       "4   11  125437      0.633674"
      ]
     },
     "execution_count": 3,
     "metadata": {},
     "output_type": "execute_result"
    }
   ],
   "source": [
    "# 유저를 둘로 나눠서 분석한다?\n",
    "train_payment.head()"
   ]
  },
  {
   "cell_type": "code",
   "execution_count": 4,
   "metadata": {},
   "outputs": [],
   "source": [
    "# 일평균 결제량 구하기\n",
    "mean_spent = train_payment.groupby('acc_id').mean()\n",
    "mean_spent = mean_spent.reset_index()\n",
    "mean_spent['mean_spent'] = mean_spent['amount_spent']\n",
    "mean_spent = mean_spent.drop(['day','amount_spent'],axis=1)"
   ]
  },
  {
   "cell_type": "code",
   "execution_count": 5,
   "metadata": {},
   "outputs": [],
   "source": [
    "train_payment_mean = train_payment.groupby('acc_id').sum()\n",
    "train_payment_mean = train_payment_mean.reset_index()\n",
    "train_payment_mean = pd.merge(train_payment_mean, mean_spent, on ='acc_id')\n",
    "train_payment_mean['sum_spent'] = train_payment_mean['amount_spent']\n",
    "train_payment_mean = train_payment_mean.drop(['day','amount_spent'],axis=1)"
   ]
  },
  {
   "cell_type": "code",
   "execution_count": 6,
   "metadata": {},
   "outputs": [
    {
     "data": {
      "text/html": [
       "<div>\n",
       "<style scoped>\n",
       "    .dataframe tbody tr th:only-of-type {\n",
       "        vertical-align: middle;\n",
       "    }\n",
       "\n",
       "    .dataframe tbody tr th {\n",
       "        vertical-align: top;\n",
       "    }\n",
       "\n",
       "    .dataframe thead th {\n",
       "        text-align: right;\n",
       "    }\n",
       "</style>\n",
       "<table border=\"1\" class=\"dataframe\">\n",
       "  <thead>\n",
       "    <tr style=\"text-align: right;\">\n",
       "      <th></th>\n",
       "      <th>acc_id</th>\n",
       "      <th>mean_spent</th>\n",
       "      <th>sum_spent</th>\n",
       "    </tr>\n",
       "  </thead>\n",
       "  <tbody>\n",
       "    <tr>\n",
       "      <th>0</th>\n",
       "      <td>8</td>\n",
       "      <td>0.702322</td>\n",
       "      <td>1.404644</td>\n",
       "    </tr>\n",
       "    <tr>\n",
       "      <th>1</th>\n",
       "      <td>20</td>\n",
       "      <td>0.298844</td>\n",
       "      <td>0.896531</td>\n",
       "    </tr>\n",
       "    <tr>\n",
       "      <th>2</th>\n",
       "      <td>21</td>\n",
       "      <td>1.347730</td>\n",
       "      <td>2.695461</td>\n",
       "    </tr>\n",
       "    <tr>\n",
       "      <th>3</th>\n",
       "      <td>38</td>\n",
       "      <td>2.103250</td>\n",
       "      <td>6.309749</td>\n",
       "    </tr>\n",
       "    <tr>\n",
       "      <th>4</th>\n",
       "      <td>41</td>\n",
       "      <td>0.035204</td>\n",
       "      <td>0.035204</td>\n",
       "    </tr>\n",
       "  </tbody>\n",
       "</table>\n",
       "</div>"
      ],
      "text/plain": [
       "   acc_id  mean_spent  sum_spent\n",
       "0       8    0.702322   1.404644\n",
       "1      20    0.298844   0.896531\n",
       "2      21    1.347730   2.695461\n",
       "3      38    2.103250   6.309749\n",
       "4      41    0.035204   0.035204"
      ]
     },
     "execution_count": 6,
     "metadata": {},
     "output_type": "execute_result"
    }
   ],
   "source": [
    "train_payment_mean.head()"
   ]
  },
  {
   "cell_type": "code",
   "execution_count": 7,
   "metadata": {},
   "outputs": [],
   "source": [
    "pay_label = pd.merge(train_payment_mean, train_label, on ='acc_id')"
   ]
  },
  {
   "cell_type": "code",
   "execution_count": 8,
   "metadata": {},
   "outputs": [],
   "source": [
    "pay_label = pay_label.drop('Unnamed: 0', axis=1)"
   ]
  },
  {
   "cell_type": "code",
   "execution_count": 9,
   "metadata": {},
   "outputs": [
    {
     "data": {
      "text/html": [
       "<div>\n",
       "<style scoped>\n",
       "    .dataframe tbody tr th:only-of-type {\n",
       "        vertical-align: middle;\n",
       "    }\n",
       "\n",
       "    .dataframe tbody tr th {\n",
       "        vertical-align: top;\n",
       "    }\n",
       "\n",
       "    .dataframe thead th {\n",
       "        text-align: right;\n",
       "    }\n",
       "</style>\n",
       "<table border=\"1\" class=\"dataframe\">\n",
       "  <thead>\n",
       "    <tr style=\"text-align: right;\">\n",
       "      <th></th>\n",
       "      <th>acc_id</th>\n",
       "      <th>mean_spent</th>\n",
       "      <th>sum_spent</th>\n",
       "      <th>survival_time</th>\n",
       "      <th>amount_spent</th>\n",
       "      <th>secession</th>\n",
       "    </tr>\n",
       "  </thead>\n",
       "  <tbody>\n",
       "    <tr>\n",
       "      <th>count</th>\n",
       "      <td>23726.000000</td>\n",
       "      <td>23726.000000</td>\n",
       "      <td>23726.000000</td>\n",
       "      <td>23726.000000</td>\n",
       "      <td>23726.000000</td>\n",
       "      <td>23726.000000</td>\n",
       "    </tr>\n",
       "    <tr>\n",
       "      <th>mean</th>\n",
       "      <td>65474.651648</td>\n",
       "      <td>0.677377</td>\n",
       "      <td>1.870931</td>\n",
       "      <td>47.223679</td>\n",
       "      <td>0.180331</td>\n",
       "      <td>0.441119</td>\n",
       "    </tr>\n",
       "    <tr>\n",
       "      <th>std</th>\n",
       "      <td>37508.886798</td>\n",
       "      <td>0.722512</td>\n",
       "      <td>2.098117</td>\n",
       "      <td>22.125926</td>\n",
       "      <td>0.838281</td>\n",
       "      <td>0.496531</td>\n",
       "    </tr>\n",
       "    <tr>\n",
       "      <th>min</th>\n",
       "      <td>8.000000</td>\n",
       "      <td>0.011735</td>\n",
       "      <td>0.011735</td>\n",
       "      <td>1.000000</td>\n",
       "      <td>0.000000</td>\n",
       "      <td>0.000000</td>\n",
       "    </tr>\n",
       "    <tr>\n",
       "      <th>25%</th>\n",
       "      <td>32925.750000</td>\n",
       "      <td>0.276157</td>\n",
       "      <td>0.371990</td>\n",
       "      <td>28.000000</td>\n",
       "      <td>0.015388</td>\n",
       "      <td>0.000000</td>\n",
       "    </tr>\n",
       "    <tr>\n",
       "      <th>50%</th>\n",
       "      <td>65825.500000</td>\n",
       "      <td>0.472126</td>\n",
       "      <td>1.056123</td>\n",
       "      <td>64.000000</td>\n",
       "      <td>0.063949</td>\n",
       "      <td>0.000000</td>\n",
       "    </tr>\n",
       "    <tr>\n",
       "      <th>75%</th>\n",
       "      <td>97751.500000</td>\n",
       "      <td>0.844382</td>\n",
       "      <td>2.461911</td>\n",
       "      <td>64.000000</td>\n",
       "      <td>0.182257</td>\n",
       "      <td>1.000000</td>\n",
       "    </tr>\n",
       "    <tr>\n",
       "      <th>max</th>\n",
       "      <td>130473.000000</td>\n",
       "      <td>11.733528</td>\n",
       "      <td>12.556131</td>\n",
       "      <td>64.000000</td>\n",
       "      <td>39.412632</td>\n",
       "      <td>1.000000</td>\n",
       "    </tr>\n",
       "  </tbody>\n",
       "</table>\n",
       "</div>"
      ],
      "text/plain": [
       "              acc_id    mean_spent     sum_spent  survival_time  amount_spent  \\\n",
       "count   23726.000000  23726.000000  23726.000000   23726.000000  23726.000000   \n",
       "mean    65474.651648      0.677377      1.870931      47.223679      0.180331   \n",
       "std     37508.886798      0.722512      2.098117      22.125926      0.838281   \n",
       "min         8.000000      0.011735      0.011735       1.000000      0.000000   \n",
       "25%     32925.750000      0.276157      0.371990      28.000000      0.015388   \n",
       "50%     65825.500000      0.472126      1.056123      64.000000      0.063949   \n",
       "75%     97751.500000      0.844382      2.461911      64.000000      0.182257   \n",
       "max    130473.000000     11.733528     12.556131      64.000000     39.412632   \n",
       "\n",
       "          secession  \n",
       "count  23726.000000  \n",
       "mean       0.441119  \n",
       "std        0.496531  \n",
       "min        0.000000  \n",
       "25%        0.000000  \n",
       "50%        0.000000  \n",
       "75%        1.000000  \n",
       "max        1.000000  "
      ]
     },
     "execution_count": 9,
     "metadata": {},
     "output_type": "execute_result"
    }
   ],
   "source": [
    "pay_label.describe()"
   ]
  },
  {
   "cell_type": "code",
   "execution_count": 10,
   "metadata": {},
   "outputs": [
    {
     "data": {
      "text/html": [
       "<div>\n",
       "<style scoped>\n",
       "    .dataframe tbody tr th:only-of-type {\n",
       "        vertical-align: middle;\n",
       "    }\n",
       "\n",
       "    .dataframe tbody tr th {\n",
       "        vertical-align: top;\n",
       "    }\n",
       "\n",
       "    .dataframe thead th {\n",
       "        text-align: right;\n",
       "    }\n",
       "</style>\n",
       "<table border=\"1\" class=\"dataframe\">\n",
       "  <thead>\n",
       "    <tr style=\"text-align: right;\">\n",
       "      <th></th>\n",
       "      <th>acc_id</th>\n",
       "      <th>mean_spent</th>\n",
       "      <th>sum_spent</th>\n",
       "      <th>survival_time</th>\n",
       "      <th>amount_spent</th>\n",
       "      <th>secession</th>\n",
       "    </tr>\n",
       "  </thead>\n",
       "  <tbody>\n",
       "    <tr>\n",
       "      <th>acc_id</th>\n",
       "      <td>1.000000</td>\n",
       "      <td>0.002052</td>\n",
       "      <td>-0.005115</td>\n",
       "      <td>-0.004793</td>\n",
       "      <td>0.005616</td>\n",
       "      <td>0.003728</td>\n",
       "    </tr>\n",
       "    <tr>\n",
       "      <th>mean_spent</th>\n",
       "      <td>0.002052</td>\n",
       "      <td>1.000000</td>\n",
       "      <td>0.622518</td>\n",
       "      <td>0.029655</td>\n",
       "      <td>0.051750</td>\n",
       "      <td>-0.032554</td>\n",
       "    </tr>\n",
       "    <tr>\n",
       "      <th>sum_spent</th>\n",
       "      <td>-0.005115</td>\n",
       "      <td>0.622518</td>\n",
       "      <td>1.000000</td>\n",
       "      <td>0.116470</td>\n",
       "      <td>0.060252</td>\n",
       "      <td>-0.102223</td>\n",
       "    </tr>\n",
       "    <tr>\n",
       "      <th>survival_time</th>\n",
       "      <td>-0.004793</td>\n",
       "      <td>0.029655</td>\n",
       "      <td>0.116470</td>\n",
       "      <td>1.000000</td>\n",
       "      <td>-0.136000</td>\n",
       "      <td>-0.853465</td>\n",
       "    </tr>\n",
       "    <tr>\n",
       "      <th>amount_spent</th>\n",
       "      <td>0.005616</td>\n",
       "      <td>0.051750</td>\n",
       "      <td>0.060252</td>\n",
       "      <td>-0.136000</td>\n",
       "      <td>1.000000</td>\n",
       "      <td>0.066001</td>\n",
       "    </tr>\n",
       "    <tr>\n",
       "      <th>secession</th>\n",
       "      <td>0.003728</td>\n",
       "      <td>-0.032554</td>\n",
       "      <td>-0.102223</td>\n",
       "      <td>-0.853465</td>\n",
       "      <td>0.066001</td>\n",
       "      <td>1.000000</td>\n",
       "    </tr>\n",
       "  </tbody>\n",
       "</table>\n",
       "</div>"
      ],
      "text/plain": [
       "                 acc_id  mean_spent  sum_spent  survival_time  amount_spent  \\\n",
       "acc_id         1.000000    0.002052  -0.005115      -0.004793      0.005616   \n",
       "mean_spent     0.002052    1.000000   0.622518       0.029655      0.051750   \n",
       "sum_spent     -0.005115    0.622518   1.000000       0.116470      0.060252   \n",
       "survival_time -0.004793    0.029655   0.116470       1.000000     -0.136000   \n",
       "amount_spent   0.005616    0.051750   0.060252      -0.136000      1.000000   \n",
       "secession      0.003728   -0.032554  -0.102223      -0.853465      0.066001   \n",
       "\n",
       "               secession  \n",
       "acc_id          0.003728  \n",
       "mean_spent     -0.032554  \n",
       "sum_spent      -0.102223  \n",
       "survival_time  -0.853465  \n",
       "amount_spent    0.066001  \n",
       "secession       1.000000  "
      ]
     },
     "execution_count": 10,
     "metadata": {},
     "output_type": "execute_result"
    }
   ],
   "source": [
    "corr_matrix= pay_label.corr()\n",
    "corr_matrix\n",
    "# 결제량은 합이나 곱이나 타겟이랑 상관관계 별반 차이 없는 듯"
   ]
  },
  {
   "cell_type": "code",
   "execution_count": 11,
   "metadata": {},
   "outputs": [],
   "source": [
    "data_6part['secession'] = train_label['secession']"
   ]
  },
  {
   "cell_type": "code",
   "execution_count": 12,
   "metadata": {
    "scrolled": false
   },
   "outputs": [
    {
     "data": {
      "text/plain": [
       "(array([21996.,     0.,     0.,     0.,     0.,     0.,     0.,     0.,\n",
       "            0., 18004.]),\n",
       " array([0. , 0.1, 0.2, 0.3, 0.4, 0.5, 0.6, 0.7, 0.8, 0.9, 1. ]),\n",
       " <a list of 10 Patch objects>)"
      ]
     },
     "execution_count": 12,
     "metadata": {},
     "output_type": "execute_result"
    },
    {
     "data": {
      "image/png": "[encoded data removed]",
      "text/plain": [
       "<Figure size 432x288 with 1 Axes>"
      ]
     },
     "metadata": {
      "needs_background": "light"
     },
     "output_type": "display_data"
    }
   ],
   "source": [
    "# 이탈 vs 비이탈자 비율은 균등한 편\n",
    "plt.hist(data_6part['secession'])"
   ]
  },
  {
   "cell_type": "code",
   "execution_count": 13,
   "metadata": {},
   "outputs": [
    {
     "name": "stdout",
     "output_type": "stream",
     "text": [
      "<class 'pandas.core.frame.DataFrame'>\n",
      "RangeIndex: 40000 entries, 0 to 39999\n",
      "Data columns (total 40 columns):\n",
      "Unnamed: 0              40000 non-null int64\n",
      "acc_id                  40000 non-null int64\n",
      "day                     40000 non-null int64\n",
      "playtime                40000 non-null float64\n",
      "npc_kill                40000 non-null float64\n",
      "solo_exp                40000 non-null float64\n",
      "party_exp               40000 non-null float64\n",
      "quest_exp               40000 non-null float64\n",
      "rich_monster            40000 non-null float64\n",
      "death                   40000 non-null float64\n",
      "revive                  40000 non-null float64\n",
      "exp_recovery            40000 non-null float64\n",
      "fishing                 40000 non-null float64\n",
      "private_shop            40000 non-null float64\n",
      "game_money_change       40000 non-null float64\n",
      "enchant_count           40000 non-null float64\n",
      "class                   40000 non-null float64\n",
      "level                   40000 non-null float64\n",
      "pledge_cnt              40000 non-null float64\n",
      "random_attacker_cnt     40000 non-null float64\n",
      "random_defender_cnt     40000 non-null float64\n",
      "temp_cnt                40000 non-null float64\n",
      "same_pledge_cnt         40000 non-null float64\n",
      "etc_cnt                 40000 non-null float64\n",
      "num_opponent            40000 non-null float64\n",
      "pledge_id               40000 non-null float64\n",
      "play_char_cnt           40000 non-null float64\n",
      "combat_char_cnt         40000 non-null float64\n",
      "pledge_combat_cnt       40000 non-null float64\n",
      "combat_play_time        40000 non-null float64\n",
      "non_combat_play_time    40000 non-null float64\n",
      "type                    40000 non-null float64\n",
      "item_amount             40000 non-null float64\n",
      "item_price_x            40000 non-null float64\n",
      "item_price_y            40000 non-null float64\n",
      "amount_spent_x          40000 non-null float64\n",
      "survival_time           40000 non-null int64\n",
      "amount_spent_y          40000 non-null float64\n",
      "acc_id_count            40000 non-null int64\n",
      "secession               40000 non-null int64\n",
      "dtypes: float64(34), int64(6)\n",
      "memory usage: 12.2 MB\n"
     ]
    }
   ],
   "source": [
    "data_6part.info()"
   ]
  },
  {
   "cell_type": "code",
   "execution_count": 14,
   "metadata": {},
   "outputs": [],
   "source": [
    "# 이탈자 분류를 위한 샘플링\n",
    "from sklearn.model_selection import train_test_split\n",
    "data_se = data_6part.drop(['Unnamed: 0', 'acc_id','amount_spent_y', 'survival_time'],axis=1)\n",
    "train_set = data_se.drop('secession', axis=1)\n",
    "target = data_se['secession']\n",
    "train_x, test_x, train_y, test_y = train_test_split(train_set,target,test_size=0.3, random_state=0 )"
   ]
  },
  {
   "cell_type": "code",
   "execution_count": 15,
   "metadata": {},
   "outputs": [
    {
     "data": {
      "text/plain": [
       "(28000,)"
      ]
     },
     "execution_count": 15,
     "metadata": {},
     "output_type": "execute_result"
    }
   ],
   "source": [
    "train_y.shape"
   ]
  },
  {
   "cell_type": "code",
   "execution_count": 17,
   "metadata": {},
   "outputs": [
    {
     "data": {
      "text/plain": [
       "0.5225"
      ]
     },
     "execution_count": 17,
     "metadata": {},
     "output_type": "execute_result"
    }
   ],
   "source": [
    "# knn 분류 실험: 이탈 비이탈로 나뉠까/\n",
    "from sklearn.neighbors import KNeighborsClassifier\n",
    "knn = KNeighborsClassifier(n_neighbors=2)\n",
    "knn.fit(train_x, train_y)\n",
    "knn.score(test_x, test_y)\n",
    "# 망함"
   ]
  },
  {
   "cell_type": "code",
   "execution_count": null,
   "metadata": {},
   "outputs": [],
   "source": [
    "from sklearn.svm import SVC\n",
    "from sklearn.metrics import accuracy_score\n",
    "from sklearn.metrics import f1_score\n",
    "svm = SVC(C=100, random_state=42)\n",
    "svm.fit(train_x, train_y)\n",
    "y_pred = svm.predict(test_x)\n",
    "print(f1_score(test_y, y_pred))\n",
    "print(accuracy_score(test_y, y_pred))    \n",
    "# 망함"
   ]
  },
  {
   "cell_type": "code",
   "execution_count": null,
   "metadata": {},
   "outputs": [],
   "source": [
    "from sklearn.svm import LinearSVC, SVC\n",
    "poly_svm_clf = SVC(C=50, kernel='poly',degree=3).fit(train_x,train_y)\n",
    "y_pred = poly_svm_clf.predict(test_x)\n",
    "print(f1_score(test_y, y_pred))\n",
    "print(accuracy_score(test_y, y_pred))                                         "
   ]
  },
  {
   "cell_type": "code",
   "execution_count": 1,
   "metadata": {},
   "outputs": [
    {
     "ename": "NameError",
     "evalue": "name 'train_x' is not defined",
     "output_type": "error",
     "traceback": [
      "\u001b[1;31m---------------------------------------------------------------------------\u001b[0m",
      "\u001b[1;31mNameError\u001b[0m                                 Traceback (most recent call last)",
      "\u001b[1;32m<ipython-input-1-6748f9659263>\u001b[0m in \u001b[0;36m<module>\u001b[1;34m\u001b[0m\n\u001b[0;32m      4\u001b[0m \u001b[1;32mfrom\u001b[0m \u001b[0msklearn\u001b[0m\u001b[1;33m.\u001b[0m\u001b[0mensemble\u001b[0m \u001b[1;32mimport\u001b[0m \u001b[0mRandomForestClassifier\u001b[0m\u001b[1;33m\u001b[0m\u001b[1;33m\u001b[0m\u001b[0m\n\u001b[0;32m      5\u001b[0m \u001b[0mrnd_clf\u001b[0m \u001b[1;33m=\u001b[0m \u001b[0mRandomForestClassifier\u001b[0m\u001b[1;33m(\u001b[0m\u001b[0mn_estimators\u001b[0m\u001b[1;33m=\u001b[0m\u001b[1;36m700\u001b[0m\u001b[1;33m,\u001b[0m\u001b[0mrandom_state\u001b[0m\u001b[1;33m=\u001b[0m\u001b[1;36m42\u001b[0m\u001b[1;33m)\u001b[0m\u001b[1;33m\u001b[0m\u001b[1;33m\u001b[0m\u001b[0m\n\u001b[1;32m----> 6\u001b[1;33m \u001b[0mrnd_clf\u001b[0m\u001b[1;33m.\u001b[0m\u001b[0mfit\u001b[0m\u001b[1;33m(\u001b[0m\u001b[0mtrain_x\u001b[0m\u001b[1;33m,\u001b[0m\u001b[0mtrain_y\u001b[0m\u001b[1;33m)\u001b[0m\u001b[1;33m\u001b[0m\u001b[1;33m\u001b[0m\u001b[0m\n\u001b[0m\u001b[0;32m      7\u001b[0m \u001b[0my_pred\u001b[0m \u001b[1;33m=\u001b[0m \u001b[0mrnd_clf\u001b[0m\u001b[1;33m.\u001b[0m\u001b[0mpredict\u001b[0m\u001b[1;33m(\u001b[0m\u001b[0mtest_x\u001b[0m\u001b[1;33m)\u001b[0m\u001b[1;33m\u001b[0m\u001b[1;33m\u001b[0m\u001b[0m\n\u001b[0;32m      8\u001b[0m \u001b[0mprint\u001b[0m\u001b[1;33m(\u001b[0m\u001b[0mrnd_clf\u001b[0m\u001b[1;33m.\u001b[0m\u001b[0m__class__\u001b[0m\u001b[1;33m.\u001b[0m\u001b[0m__name__\u001b[0m\u001b[1;33m,\u001b[0m \u001b[0maccuracy_score\u001b[0m\u001b[1;33m(\u001b[0m\u001b[0mtest_y\u001b[0m\u001b[1;33m,\u001b[0m \u001b[0my_pred\u001b[0m\u001b[1;33m)\u001b[0m\u001b[1;33m)\u001b[0m\u001b[1;33m\u001b[0m\u001b[1;33m\u001b[0m\u001b[0m\n",
      "\u001b[1;31mNameError\u001b[0m: name 'train_x' is not defined"
     ]
    }
   ],
   "source": [
    "from sklearn.metrics import accuracy_score\n",
    "from sklearn.metrics import f1_score\n",
    "from sklearn.svm import SVC\n",
    "from sklearn.ensemble import RandomForestClassifier\n",
    "rnd_clf = RandomForestClassifier(n_estimators=700,random_state=42)\n",
    "rnd_clf.fit(train_x,train_y)\n",
    "y_pred = rnd_clf.predict(test_x)\n",
    "print(rnd_clf.__class__.__name__, accuracy_score(test_y, y_pred))"
   ]
  },
  {
   "cell_type": "code",
   "execution_count": null,
   "metadata": {},
   "outputs": [],
   "source": []
  }
 ],
 "metadata": {
  "kernelspec": {
   "display_name": "ds",
   "language": "python",
   "name": "ds"
  },
  "language_info": {
   "codemirror_mode": {
    "name": "ipython",
    "version": 3
   },
   "file_extension": ".py",
   "mimetype": "text/x-python",
   "name": "python",
   "nbconvert_exporter": "python",
   "pygments_lexer": "ipython3",
   "version": "3.6.5"
  },
  "widgets": {
   "state": {},
   "version": "1.1.2"
  }
 },
 "nbformat": 4,
 "nbformat_minor": 2
}
