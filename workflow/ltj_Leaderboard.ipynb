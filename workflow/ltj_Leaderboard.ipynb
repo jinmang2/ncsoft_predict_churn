{
 "cells": [
  {
   "cell_type": "code",
   "execution_count": 10,
   "metadata": {},
   "outputs": [],
   "source": [
    "import numpy as np\n",
    "import pandas as pd\n",
    "import matplotlib.pyplot as plt\n",
    "import seaborn as sns\n",
    "import os\n",
    "import xgboost as xgb\n",
    "%matplotlib inline"
   ]
  },
  {
   "cell_type": "code",
   "execution_count": 3,
   "metadata": {},
   "outputs": [],
   "source": [
    "# dir = 'C:/Users/SAMSUNG/Desktop/new/빅콘테스트/2019빅콘테스트_챔피언스리그_데이터_수정/train_pledge.csv'\n",
    "\n",
    "def preprocessing_pledge(pledge_dir, pay_dir):\n",
    "    # file load\n",
    "    tr_pledge = pd.read_csv(pledge_dir)\n",
    "    pay = pd.read_csv(pay_dir)\n",
    "    \n",
    "    # 공지에 올라온 error 부분 제거\n",
    "    del tr_pledge['non_combat_play_time']\n",
    "    \n",
    "    # 가입한 혈맹의 순위\n",
    "    bbb = tr_pledge.pledge_id.value_counts().to_frame().reset_index()\n",
    "    bbb.columns = ['pledge_id','count']\n",
    "    bbb['rank'] = bbb['count'].rank(ascending = False, method = 'min')\n",
    "    pledge_rank = {}\n",
    "    # dictionary를 활용해 원데이터의 pledge_id에 rank값을 mapping\n",
    "    for i, j in enumerate(list(bbb['rank'])):\n",
    "        pledge_rank[bbb['pledge_id'][i]] = j\n",
    "    tr_pledge['pledge_rank'] = tr_pledge['pledge_id'].map(pledge_rank)\n",
    "\n",
    "\n",
    "    # 혈맹원의 합\n",
    "    pledge_member_num = {}\n",
    "    for i in tr_pledge.pledge_id:\n",
    "        if i not in pledge_member_num.keys():\n",
    "            pledge_member_num[i] = 0\n",
    "        pledge_member_num[i] += 1\n",
    "    tr_pledge['pledge_member_num'] = tr_pledge['pledge_id'].map(pledge_member_num)\n",
    "\n",
    "\n",
    "    # acc_id 기준으로 데이터 압축\n",
    "    group = tr_pledge.groupby(['acc_id', 'day']).sum().reset_index()\n",
    "    groups = group.groupby(['acc_id']).sum().reset_index()\n",
    "    # label 데이터 merge\n",
    "    merge_df = groups.copy()\n",
    "\n",
    "\n",
    "    # 접속일 변수 log_in_freq 생성\n",
    "    freq = []\n",
    "    for i in group.acc_id.unique():\n",
    "        freq.append([i,group[group.acc_id == i].shape[0]])\n",
    "    new = pd.DataFrame(sorted(freq))\n",
    "    new.columns = ['acc_id', 'log_in_freq']\n",
    "    merge_df = pd.merge(merge_df, new, how = 'left', on = 'acc_id')\n",
    "\n",
    "\n",
    "    # 유저별 가입한 혈맹 수\n",
    "    act_pledge_num = {}\n",
    "    for i in tr_pledge.acc_id.unique():\n",
    "        act_pledge_num[i] = tr_pledge[tr_pledge.acc_id == i].pledge_id.nunique()\n",
    "    merge_df['join_pledge_num'] = merge_df['acc_id'].map(act_pledge_num)\n",
    "\n",
    "\n",
    "    # payment 데이터 곃합\n",
    "    pay = pay.groupby(pay.acc_id).sum().reset_index().drop('day', axis=1)\n",
    "    merge_pay = pd.merge(merge_df, pay, on = 'acc_id', how = 'left')\n",
    "    merge_pay = merge_pay.fillna(0)\n",
    "\n",
    "\n",
    "    # 일자별 혈맹 활동 내역 flatten (pledge_rank와 combat_char_cnt는 flatten을 안시키는게 퍼포먼스 향상에 더 좋음)\n",
    "    df = tr_pledge[[col for col in tr_pledge.columns if col not in ['server', 'char_id','pledge_id',\n",
    "                                                                   'pledge_rank']]\n",
    "                  ].groupby(['day', 'acc_id']).sum().reset_index()\n",
    "    df_grouped = df.groupby('day')\n",
    "    p = df_grouped.get_group(1)\n",
    "    for i in range(2, 29):\n",
    "        p = pd.merge(p, df_grouped.get_group(i), on='acc_id', how='outer',\n",
    "                     suffixes=('_'+str(i-1), '_'+str(i)))\n",
    "    p = p[[col for col in p.columns if ('day' not in col) & ('combat_char_cnt' not in col)]]\n",
    "    p = p.fillna(0).set_index('acc_id')\n",
    "    df = p.reset_index()\n",
    "    merge_flatten_df = pd.merge(merge_pay, df, on = 'acc_id')\n",
    "    \n",
    "    return merge_flatten_df"
   ]
  },
  {
   "cell_type": "code",
   "execution_count": 4,
   "metadata": {},
   "outputs": [],
   "source": [
    "# log1p 가중치 적용 함수\n",
    "def log_weight(df):\n",
    "    df_weight = df.copy()\n",
    "    day = list(map(str,list(range(1,29,1))))\n",
    "    weight = []\n",
    "    for i in day:\n",
    "        weight.append(np.log1p(int(i)))\n",
    "    \n",
    "    for j in df_weight.columns:\n",
    "        if j[-1] in day: # column의 맨 뒷글자(str)가 day에 있으면\n",
    "            index = int(j[-1]) - 1 # weight의 index로 사용하기 위해 1을 배줌\n",
    "            df_weight[j] = df_weight[j].apply(lambda x: x * weight[index])\n",
    "    \n",
    "    return df_weight"
   ]
  },
  {
   "cell_type": "code",
   "execution_count": 46,
   "metadata": {},
   "outputs": [],
   "source": [
    "pledge_dir_1 = 'C:/Users/SAMSUNG/Desktop/new/빅콘테스트/2019빅콘테스트_챔피언스리그_데이터_수정/test1_pledge.csv'\n",
    "pay_dir_1 = 'C:/Users/SAMSUNG/Desktop/new/빅콘테스트/2019빅콘테스트_챔피언스리그_데이터_수정/test1_payment.csv'\n",
    "pledge_dir_2 = 'C:/Users/SAMSUNG/Desktop/new/빅콘테스트/2019빅콘테스트_챔피언스리그_데이터_수정/test2_pledge.csv'\n",
    "pay_dir_2 = 'C:/Users/SAMSUNG/Desktop/new/빅콘테스트/2019빅콘테스트_챔피언스리그_데이터_수정/test2_payment.csv'\n",
    "\n",
    "test1_df = preprocessing_pledge(pledge_dir_1, pay_dir_1)\n",
    "test2_df = preprocessing_pledge(pledge_dir_2, pay_dir_2)"
   ]
  },
  {
   "cell_type": "code",
   "execution_count": 47,
   "metadata": {},
   "outputs": [],
   "source": [
    "# 28일치에 대한 weight 적용\n",
    "test1_df_log = log_weight(test1_df)\n",
    "test2_df_log = log_weight(test2_df)"
   ]
  },
  {
   "cell_type": "code",
   "execution_count": 48,
   "metadata": {},
   "outputs": [],
   "source": [
    "# acc_id를 익덱스로 변환\n",
    "test1_df = test1_df.set_index('acc_id')\n",
    "test1_df_log = test1_df_log.set_index('acc_id')\n",
    "test2_df = test2_df.set_index('acc_id')\n",
    "test2_df_log = test2_df_log.set_index('acc_id')"
   ]
  },
  {
   "cell_type": "code",
   "execution_count": 49,
   "metadata": {},
   "outputs": [],
   "source": [
    "# 분석에 필요 없는 char_id와 pledge_id 제거\n",
    "X_test1 = test1_df.drop(['char_id', 'pledge_id'], axis=1)\n",
    "X_test1_log = test1_df_log.drop(['char_id', 'pledge_id'], axis=1)\n",
    "X_test2 = test2_df.drop(['char_id', 'pledge_id'], axis=1)\n",
    "X_test2_log = test2_df_log.drop(['char_id', 'pledge_id'], axis=1)"
   ]
  },
  {
   "cell_type": "code",
   "execution_count": null,
   "metadata": {},
   "outputs": [],
   "source": []
  },
  {
   "cell_type": "markdown",
   "metadata": {},
   "source": [
    "# raw"
   ]
  },
  {
   "cell_type": "code",
   "execution_count": 50,
   "metadata": {},
   "outputs": [],
   "source": [
    "# 64 categorical\n",
    "from joblib import dump, load\n",
    "\n",
    "model_1 = load('0001.joblib')\n",
    "y_pred_churn_1 = model_1.predict(X_test1)\n",
    "y_pred_churn_2 = model_1.predict(X_test2)"
   ]
  },
  {
   "cell_type": "code",
   "execution_count": 51,
   "metadata": {},
   "outputs": [
    {
     "name": "stdout",
     "output_type": "stream",
     "text": [
      "[02:00:47] WARNING: d:\\build\\xgboost\\xgboost-0.90.git\\src\\objective\\regression_obj.cu:152: reg:linear is now deprecated in favor of reg:squarederror.\n"
     ]
    }
   ],
   "source": [
    "# amount spent\n",
    "bst_2 = xgb.Booster({'nthread' : 4}) # init model\n",
    "bst_2.load_model('0002.model')\n",
    "y_pred_spent_1 = bst_2.predict(xgb.DMatrix(pd.DataFrame(X_test1)))\n",
    "y_pred_spent_2 = bst_2.predict(xgb.DMatrix(pd.DataFrame(X_test2)))"
   ]
  },
  {
   "cell_type": "markdown",
   "metadata": {},
   "source": [
    "# log"
   ]
  },
  {
   "cell_type": "code",
   "execution_count": 52,
   "metadata": {},
   "outputs": [],
   "source": [
    "# 64 categorical\n",
    "from joblib import dump, load\n",
    "\n",
    "model_3 = load('0003.joblib')\n",
    "y_pred_churn_log_1 = model_3.predict(X_test1_log)\n",
    "y_pred_churn_log_2 = model_3.predict(X_test2_log)"
   ]
  },
  {
   "cell_type": "code",
   "execution_count": 53,
   "metadata": {},
   "outputs": [
    {
     "name": "stdout",
     "output_type": "stream",
     "text": [
      "[02:01:17] WARNING: d:\\build\\xgboost\\xgboost-0.90.git\\src\\objective\\regression_obj.cu:152: reg:linear is now deprecated in favor of reg:squarederror.\n"
     ]
    }
   ],
   "source": [
    "# amount spent\n",
    "bst_4 = xgb.Booster({'nthread' : 4}) # init model\n",
    "bst_4.load_model('0004.model')\n",
    "y_pred_spent_log_1 = bst_4.predict(xgb.DMatrix(pd.DataFrame(X_test1_log)))\n",
    "y_pred_spent_log_2 = bst_4.predict(xgb.DMatrix(pd.DataFrame(X_test2_log)))"
   ]
  },
  {
   "cell_type": "markdown",
   "metadata": {},
   "source": [
    "## spent에 음수로 예측한 값 0으로 바꾸기"
   ]
  },
  {
   "cell_type": "code",
   "execution_count": 65,
   "metadata": {},
   "outputs": [],
   "source": [
    "def find_negative(lst):\n",
    "    for i, x in enumerate(lst):\n",
    "        if x < 0:\n",
    "            lst[i] = 0\n",
    "    return lst"
   ]
  },
  {
   "cell_type": "code",
   "execution_count": 67,
   "metadata": {},
   "outputs": [],
   "source": [
    "y_pred_spent_1 = find_negative(y_pred_spent_1)\n",
    "y_pred_spent_2 = find_negative(y_pred_spent_2)\n",
    "y_pred_spent_log_1 = find_negative(y_pred_spent_log_1)\n",
    "y_pred_spent_log_2 = find_negative(y_pred_spent_log_2)"
   ]
  },
  {
   "cell_type": "markdown",
   "metadata": {},
   "source": [
    "# save csv"
   ]
  },
  {
   "cell_type": "code",
   "execution_count": 54,
   "metadata": {},
   "outputs": [],
   "source": [
    "X_test1 = X_test1.reset_index()\n",
    "X_test1_log = X_test1_log.reset_index()\n",
    "X_test2 = X_test2.reset_index()\n",
    "X_test2_log = X_test2_log.reset_index()"
   ]
  },
  {
   "cell_type": "code",
   "execution_count": 68,
   "metadata": {
    "scrolled": true
   },
   "outputs": [],
   "source": [
    "test1_raw = pd.DataFrame({'acc_id' : X_test1['acc_id'],\n",
    "                          'survival_time' : y_pred_churn_1,\n",
    "                          'amount_spent' : y_pred_spent_1})\n",
    "test1_log = pd.DataFrame({'acc_id' : X_test1_log['acc_id'],\n",
    "                          'survival_time' : y_pred_churn_log_1,\n",
    "                          'amount_spent' : y_pred_spent_log_1})\n",
    "test2_raw = pd.DataFrame({'acc_id' : X_test2['acc_id'],\n",
    "                          'survival_time' : y_pred_churn_2,\n",
    "                          'amount_spent' : y_pred_spent_2})\n",
    "test2_log = pd.DataFrame({'acc_id' : X_test2_log['acc_id'],\n",
    "                          'survival_time' : y_pred_churn_log_2,\n",
    "                          'amount_spent' : y_pred_spent_log_2})"
   ]
  },
  {
   "cell_type": "code",
   "execution_count": 71,
   "metadata": {},
   "outputs": [],
   "source": [
    "test1_raw.to_csv(\"C:/Users/SAMSUNG/Desktop/test1_predict.csv\", index = False)"
   ]
  },
  {
   "cell_type": "code",
   "execution_count": 72,
   "metadata": {},
   "outputs": [],
   "source": [
    "test2_raw.to_csv(\"C:/Users/SAMSUNG/Desktop/test2_predict.csv\", index = False)"
   ]
  },
  {
   "cell_type": "code",
   "execution_count": null,
   "metadata": {},
   "outputs": [],
   "source": [
    "test1_log.to_csv(\"C:/Users/SAMSUNG/Desktop/test1_predict.csv\", index = False)"
   ]
  },
  {
   "cell_type": "code",
   "execution_count": null,
   "metadata": {},
   "outputs": [],
   "source": [
    "test2_log.to_csv(\"C:/Users/SAMSUNG/Desktop/test2_predict.csv\", index = False)"
   ]
  }
 ],
 "metadata": {
  "kernelspec": {
   "display_name": "MyPython",
   "language": "python",
   "name": "mypython"
  },
  "language_info": {
   "codemirror_mode": {
    "name": "ipython",
    "version": 3
   },
   "file_extension": ".py",
   "mimetype": "text/x-python",
   "name": "python",
   "nbconvert_exporter": "python",
   "pygments_lexer": "ipython3",
   "version": "3.7.3"
  }
 },
 "nbformat": 4,
 "nbformat_minor": 2
}
