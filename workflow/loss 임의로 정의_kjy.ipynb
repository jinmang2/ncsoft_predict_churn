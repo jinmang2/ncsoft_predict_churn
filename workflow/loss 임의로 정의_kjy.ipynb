{
 "cells": [
  {
   "cell_type": "code",
   "execution_count": 147,
   "metadata": {},
   "outputs": [
    {
     "ename": "ImportError",
     "evalue": "cannot import name 'Dropout'",
     "output_type": "error",
     "traceback": [
      "\u001b[1;31m---------------------------------------------------------------------------\u001b[0m",
      "\u001b[1;31mImportError\u001b[0m                               Traceback (most recent call last)",
      "\u001b[1;32m<ipython-input-147-ed4cf9d129ef>\u001b[0m in \u001b[0;36m<module>\u001b[1;34m\u001b[0m\n\u001b[0;32m      2\u001b[0m \u001b[1;32mfrom\u001b[0m \u001b[0mkeras\u001b[0m\u001b[1;33m.\u001b[0m\u001b[0mlayers\u001b[0m \u001b[1;32mimport\u001b[0m \u001b[0mBatchNormalization\u001b[0m\u001b[1;33m,\u001b[0m \u001b[0mDropout\u001b[0m\u001b[1;33m,\u001b[0m \u001b[0mDense\u001b[0m\u001b[1;33m,\u001b[0m \u001b[0mTimeDistributed\u001b[0m\u001b[1;33m\u001b[0m\u001b[1;33m\u001b[0m\u001b[0m\n\u001b[0;32m      3\u001b[0m \u001b[1;32mimport\u001b[0m \u001b[0mkeras\u001b[0m\u001b[1;33m.\u001b[0m\u001b[0mbackend\u001b[0m \u001b[1;32mas\u001b[0m \u001b[0mK\u001b[0m\u001b[1;33m\u001b[0m\u001b[1;33m\u001b[0m\u001b[0m\n\u001b[1;32m----> 4\u001b[1;33m \u001b[1;32mfrom\u001b[0m \u001b[0mkeras\u001b[0m\u001b[1;33m.\u001b[0m\u001b[0mmodels\u001b[0m \u001b[1;32mimport\u001b[0m \u001b[0mSequential\u001b[0m\u001b[1;33m,\u001b[0m \u001b[0mModel\u001b[0m\u001b[1;33m,\u001b[0m\u001b[0mDropout\u001b[0m\u001b[1;33m\u001b[0m\u001b[1;33m\u001b[0m\u001b[0m\n\u001b[0m\u001b[0;32m      5\u001b[0m \u001b[1;32mfrom\u001b[0m  \u001b[0mkeras\u001b[0m\u001b[1;33m.\u001b[0m\u001b[0mlayers\u001b[0m \u001b[1;32mimport\u001b[0m \u001b[0mconcatenate\u001b[0m\u001b[1;33m\u001b[0m\u001b[1;33m\u001b[0m\u001b[0m\n\u001b[0;32m      6\u001b[0m \u001b[1;32mimport\u001b[0m \u001b[0mnumpy\u001b[0m \u001b[1;32mas\u001b[0m \u001b[0mnp\u001b[0m\u001b[1;33m\u001b[0m\u001b[1;33m\u001b[0m\u001b[0m\n",
      "\u001b[1;31mImportError\u001b[0m: cannot import name 'Dropout'"
     ]
    }
   ],
   "source": [
    "from keras import Input\n",
    "from keras.layers import BatchNormalization, Dropout, Dense, TimeDistributed\n",
    "import keras.backend as K\n",
    "from keras.models import Sequential, Model,Dropout\n",
    "from  keras.layers import concatenate\n",
    "import numpy as np\n",
    "import pandas as pd"
   ]
  },
  {
   "cell_type": "code",
   "execution_count": 69,
   "metadata": {},
   "outputs": [
    {
     "name": "stdout",
     "output_type": "stream",
     "text": [
      "__________________________________________________________________________________________________\n",
      "Layer (type)                    Output Shape         Param #     Connected to                     \n",
      "==================================================================================================\n",
      "input_1 (InputLayer)            (None, 1)            0                                            \n",
      "__________________________________________________________________________________________________\n",
      "dense_68 (Dense)                (None, 8)            16          input_1[0][0]                    \n",
      "__________________________________________________________________________________________________\n",
      "dense_70 (Dense)                (None, 128)          256         input_1[0][0]                    \n",
      "__________________________________________________________________________________________________\n",
      "dense_69 (Dense)                (None, 1)            9           dense_68[0][0]                   \n",
      "__________________________________________________________________________________________________\n",
      "dense_71 (Dense)                (None, 1)            129         dense_70[0][0]                   \n",
      "__________________________________________________________________________________________________\n",
      "concatenate_6 (Concatenate)     (None, 2)            0           dense_69[0][0]                   \n",
      "                                                                 dense_71[0][0]                   \n",
      "__________________________________________________________________________________________________\n",
      "dense_72 (Dense)                (None, 1)            3           concatenate_6[0][0]              \n",
      "==================================================================================================\n",
      "Total params: 413\n",
      "Trainable params: 413\n",
      "Non-trainable params: 0\n",
      "__________________________________________________________________________________________________\n"
     ]
    }
   ],
   "source": [
    "# model 1 \n",
    "input_1 = Input(shape = (1,), name='input_1')\n",
    "x = Dense(8,activation='relu')(input_1)\n",
    "x = Dense(1, activation='relu')(x)\n",
    "\n",
    "# model 2\n",
    "y = Dense(128,activation='relu')(input_1)\n",
    "y = Dense(1, activation='relu')(y)\n",
    "\n",
    "# loss\n",
    "def loss(real,pred):\n",
    "    return K.min(real-pred)\n",
    "    \n",
    "# Concat x, y\n",
    "z = concatenate([x, y])\n",
    "main_output = Dense(1, activation='relu')(z)\n",
    "\n",
    "# model\n",
    "model = Model(inputs=input_1, outputs=main_output)\n",
    "\n",
    "\n",
    "model.compile(optimizer='rmsprop',\n",
    "              loss=loss,\n",
    "              metrics=['accuracy'])    \n",
    "\n",
    "model.summary()"
   ]
  },
  {
   "cell_type": "code",
   "execution_count": 143,
   "metadata": {},
   "outputs": [],
   "source": [
    "data = pd.read_csv('./sorry.csv')"
   ]
  },
  {
   "cell_type": "code",
   "execution_count": 115,
   "metadata": {},
   "outputs": [],
   "source": [
    "data = data.drop('Unnamed: 0', axis=1)"
   ]
  },
  {
   "cell_type": "code",
   "execution_count": 117,
   "metadata": {},
   "outputs": [],
   "source": [
    "train_lable = pd.read_csv('./train_label_add.csv')\n",
    "train_lable = train_lable.sort_values('acc_id')"
   ]
  },
  {
   "cell_type": "code",
   "execution_count": 144,
   "metadata": {},
   "outputs": [
    {
     "data": {
      "text/html": [
       "<div>\n",
       "<style scoped>\n",
       "    .dataframe tbody tr th:only-of-type {\n",
       "        vertical-align: middle;\n",
       "    }\n",
       "\n",
       "    .dataframe tbody tr th {\n",
       "        vertical-align: top;\n",
       "    }\n",
       "\n",
       "    .dataframe thead th {\n",
       "        text-align: right;\n",
       "    }\n",
       "</style>\n",
       "<table border=\"1\" class=\"dataframe\">\n",
       "  <thead>\n",
       "    <tr style=\"text-align: right;\">\n",
       "      <th></th>\n",
       "      <th>acc_id</th>\n",
       "      <th>class</th>\n",
       "      <th>temp_cnt</th>\n",
       "      <th>private_shop</th>\n",
       "      <th>level</th>\n",
       "      <th>party_exp</th>\n",
       "      <th>pledge_cnt</th>\n",
       "      <th>random_attacker_cnt</th>\n",
       "      <th>random_defender_cnt</th>\n",
       "      <th>same_pledge_cnt</th>\n",
       "      <th>...</th>\n",
       "      <th>play_char_cnt</th>\n",
       "      <th>combat_char_cnt</th>\n",
       "      <th>pledge_combat_cnt</th>\n",
       "      <th>p_random_attacker_cnt</th>\n",
       "      <th>p_random_defender_cnt</th>\n",
       "      <th>p_same_pledge_cnt</th>\n",
       "      <th>p_temp_cnt</th>\n",
       "      <th>p_etc_cnt</th>\n",
       "      <th>combat_play_time</th>\n",
       "      <th>pledge_rank</th>\n",
       "    </tr>\n",
       "  </thead>\n",
       "  <tbody>\n",
       "    <tr>\n",
       "      <th>0</th>\n",
       "      <td>2</td>\n",
       "      <td>28</td>\n",
       "      <td>0.000000</td>\n",
       "      <td>84.900753</td>\n",
       "      <td>0</td>\n",
       "      <td>0.000000</td>\n",
       "      <td>0.000000</td>\n",
       "      <td>0.000000</td>\n",
       "      <td>0.000000</td>\n",
       "      <td>0.000000</td>\n",
       "      <td>...</td>\n",
       "      <td>0.000000</td>\n",
       "      <td>0.000000</td>\n",
       "      <td>0.000000</td>\n",
       "      <td>0.000000</td>\n",
       "      <td>0.000000</td>\n",
       "      <td>0.000000</td>\n",
       "      <td>0.000000</td>\n",
       "      <td>0.000000</td>\n",
       "      <td>0.000000</td>\n",
       "      <td>0</td>\n",
       "    </tr>\n",
       "    <tr>\n",
       "      <th>1</th>\n",
       "      <td>5</td>\n",
       "      <td>36</td>\n",
       "      <td>0.479728</td>\n",
       "      <td>0.000000</td>\n",
       "      <td>173</td>\n",
       "      <td>0.695285</td>\n",
       "      <td>0.000000</td>\n",
       "      <td>0.000000</td>\n",
       "      <td>0.000000</td>\n",
       "      <td>0.000000</td>\n",
       "      <td>...</td>\n",
       "      <td>5.557755</td>\n",
       "      <td>1.587930</td>\n",
       "      <td>0.000000</td>\n",
       "      <td>1.936569</td>\n",
       "      <td>0.929907</td>\n",
       "      <td>0.000000</td>\n",
       "      <td>2.570959</td>\n",
       "      <td>0.814001</td>\n",
       "      <td>5.097608</td>\n",
       "      <td>69961</td>\n",
       "    </tr>\n",
       "    <tr>\n",
       "      <th>2</th>\n",
       "      <td>8</td>\n",
       "      <td>485</td>\n",
       "      <td>3.837822</td>\n",
       "      <td>0.000000</td>\n",
       "      <td>1922</td>\n",
       "      <td>0.000000</td>\n",
       "      <td>0.128368</td>\n",
       "      <td>4.270875</td>\n",
       "      <td>0.000000</td>\n",
       "      <td>0.000000</td>\n",
       "      <td>...</td>\n",
       "      <td>201.306223</td>\n",
       "      <td>58.031626</td>\n",
       "      <td>2.717332</td>\n",
       "      <td>33.631748</td>\n",
       "      <td>21.745527</td>\n",
       "      <td>29.441536</td>\n",
       "      <td>92.455650</td>\n",
       "      <td>61.354404</td>\n",
       "      <td>136.879854</td>\n",
       "      <td>171584</td>\n",
       "    </tr>\n",
       "    <tr>\n",
       "      <th>3</th>\n",
       "      <td>17</td>\n",
       "      <td>34</td>\n",
       "      <td>3.358094</td>\n",
       "      <td>0.000000</td>\n",
       "      <td>687</td>\n",
       "      <td>8.823094</td>\n",
       "      <td>0.000000</td>\n",
       "      <td>0.000000</td>\n",
       "      <td>2.366129</td>\n",
       "      <td>12.398273</td>\n",
       "      <td>...</td>\n",
       "      <td>71.312495</td>\n",
       "      <td>21.689681</td>\n",
       "      <td>0.486279</td>\n",
       "      <td>9.230979</td>\n",
       "      <td>10.872763</td>\n",
       "      <td>1.591434</td>\n",
       "      <td>36.784494</td>\n",
       "      <td>12.514373</td>\n",
       "      <td>65.693573</td>\n",
       "      <td>11178</td>\n",
       "    </tr>\n",
       "    <tr>\n",
       "      <th>4</th>\n",
       "      <td>20</td>\n",
       "      <td>230</td>\n",
       "      <td>0.959456</td>\n",
       "      <td>2.917510</td>\n",
       "      <td>930</td>\n",
       "      <td>0.110339</td>\n",
       "      <td>1.540422</td>\n",
       "      <td>0.000000</td>\n",
       "      <td>2.366129</td>\n",
       "      <td>0.000000</td>\n",
       "      <td>...</td>\n",
       "      <td>54.891855</td>\n",
       "      <td>25.515149</td>\n",
       "      <td>7.964404</td>\n",
       "      <td>11.974452</td>\n",
       "      <td>6.580883</td>\n",
       "      <td>11.140041</td>\n",
       "      <td>28.379435</td>\n",
       "      <td>44.409036</td>\n",
       "      <td>66.451919</td>\n",
       "      <td>5260</td>\n",
       "    </tr>\n",
       "  </tbody>\n",
       "</table>\n",
       "<p>5 rows × 129 columns</p>\n",
       "</div>"
      ],
      "text/plain": [
       "   acc_id  class  temp_cnt  private_shop  level  party_exp  pledge_cnt  \\\n",
       "0       2     28  0.000000     84.900753      0   0.000000    0.000000   \n",
       "1       5     36  0.479728      0.000000    173   0.695285    0.000000   \n",
       "2       8    485  3.837822      0.000000   1922   0.000000    0.128368   \n",
       "3      17     34  3.358094      0.000000    687   8.823094    0.000000   \n",
       "4      20    230  0.959456      2.917510    930   0.110339    1.540422   \n",
       "\n",
       "   random_attacker_cnt  random_defender_cnt  same_pledge_cnt  ...  \\\n",
       "0             0.000000             0.000000         0.000000  ...   \n",
       "1             0.000000             0.000000         0.000000  ...   \n",
       "2             4.270875             0.000000         0.000000  ...   \n",
       "3             0.000000             2.366129        12.398273  ...   \n",
       "4             0.000000             2.366129         0.000000  ...   \n",
       "\n",
       "   play_char_cnt  combat_char_cnt  pledge_combat_cnt  p_random_attacker_cnt  \\\n",
       "0       0.000000         0.000000           0.000000               0.000000   \n",
       "1       5.557755         1.587930           0.000000               1.936569   \n",
       "2     201.306223        58.031626           2.717332              33.631748   \n",
       "3      71.312495        21.689681           0.486279               9.230979   \n",
       "4      54.891855        25.515149           7.964404              11.974452   \n",
       "\n",
       "   p_random_defender_cnt  p_same_pledge_cnt  p_temp_cnt  p_etc_cnt  \\\n",
       "0               0.000000           0.000000    0.000000   0.000000   \n",
       "1               0.929907           0.000000    2.570959   0.814001   \n",
       "2              21.745527          29.441536   92.455650  61.354404   \n",
       "3              10.872763           1.591434   36.784494  12.514373   \n",
       "4               6.580883          11.140041   28.379435  44.409036   \n",
       "\n",
       "   combat_play_time  pledge_rank  \n",
       "0          0.000000            0  \n",
       "1          5.097608        69961  \n",
       "2        136.879854       171584  \n",
       "3         65.693573        11178  \n",
       "4         66.451919         5260  \n",
       "\n",
       "[5 rows x 129 columns]"
      ]
     },
     "execution_count": 144,
     "metadata": {},
     "output_type": "execute_result"
    }
   ],
   "source": [
    "data.head()"
   ]
  },
  {
   "cell_type": "code",
   "execution_count": 226,
   "metadata": {},
   "outputs": [],
   "source": [
    "data2 = pd.merge(data, train_lable[train_lable['total_spent']!=0]['acc_id'], on ='acc_id', how='inner')"
   ]
  },
  {
   "cell_type": "code",
   "execution_count": 227,
   "metadata": {},
   "outputs": [
    {
     "data": {
      "text/plain": [
       "(23562, 129)"
      ]
     },
     "execution_count": 227,
     "metadata": {},
     "output_type": "execute_result"
    }
   ],
   "source": [
    "data2.shape"
   ]
  },
  {
   "cell_type": "code",
   "execution_count": 230,
   "metadata": {},
   "outputs": [
    {
     "data": {
      "text/plain": [
       "((12369, 128), (4124, 128), (7069, 128), (12369,), (4124,), (7069,))"
      ]
     },
     "execution_count": 230,
     "metadata": {},
     "output_type": "execute_result"
    }
   ],
   "source": [
    "from sklearn.model_selection import train_test_split\n",
    "\n",
    "X_train, X_test, y_train, y_test = train_test_split(data2[data2.columns[1:]], train_lable[train_lable['total_spent']!=0]['total_spent'], test_size=0.3, random_state=42)\n",
    "X_train, X_valid, y_train, y_valid = train_test_split(X_train, y_train, test_size=0.25, random_state=42)\n",
    "\n",
    "X_train.shape, X_valid.shape, X_test.shape, y_train.shape, y_valid.shape, y_test.shape"
   ]
  },
  {
   "cell_type": "code",
   "execution_count": 237,
   "metadata": {},
   "outputs": [
    {
     "name": "stdout",
     "output_type": "stream",
     "text": [
      "_________________________________________________________________\n",
      "Layer (type)                 Output Shape              Param #   \n",
      "=================================================================\n",
      "input_34 (InputLayer)        (None, 128)               0         \n",
      "_________________________________________________________________\n",
      "dense_199 (Dense)            (None, 256)               33024     \n",
      "_________________________________________________________________\n",
      "dense_200 (Dense)            (None, 512)               131584    \n",
      "_________________________________________________________________\n",
      "dense_201 (Dense)            (None, 800)               410400    \n",
      "_________________________________________________________________\n",
      "dense_202 (Dense)            (None, 800)               640800    \n",
      "_________________________________________________________________\n",
      "dense_203 (Dense)            (None, 800)               640800    \n",
      "_________________________________________________________________\n",
      "dense_204 (Dense)            (None, 512)               410112    \n",
      "_________________________________________________________________\n",
      "dropout_11 (Dropout)         (None, 512)               0         \n",
      "_________________________________________________________________\n",
      "dense_205 (Dense)            (None, 256)               131328    \n",
      "_________________________________________________________________\n",
      "dense_206 (Dense)            (None, 32)                8224      \n",
      "_________________________________________________________________\n",
      "dense_207 (Dense)            (None, 1)                 33        \n",
      "=================================================================\n",
      "Total params: 2,406,305\n",
      "Trainable params: 2,406,305\n",
      "Non-trainable params: 0\n",
      "_________________________________________________________________\n"
     ]
    }
   ],
   "source": [
    "\n",
    "# Build a model\n",
    "inputs = Input(shape=(128,))\n",
    "layer1 = Dense(256, activation='relu')(inputs)\n",
    "layer2 = Dense(512, activation='relu')(layer1)\n",
    "layer3 = Dense(800, activation='relu')(layer2)\n",
    "layer4 = Dense(800, activation='relu')(layer3)\n",
    "layer5 = Dense(800, activation='relu')(layer4)\n",
    "layer6 = Dense(512, activation='relu')(layer5)\n",
    "layer7 = Dropout(0.5)(layer6)\n",
    "layer8 = Dense(256, activation='relu')(layer7)\n",
    "layer9 = Dense(32, activation='relu')(layer8)\n",
    "predictions = Dense(1)(layer9)\n",
    "model = Model(inputs=inputs, outputs=predictions)\n",
    "\n",
    "# Define custom loss\n",
    "def custom_loss(y_true,y_pred):\n",
    "\n",
    "        return K.mean(K.square((y_pred - y_true)), axis=-1)\n",
    "   \n",
    "    # Return a function\n",
    "model.summary()"
   ]
  },
  {
   "cell_type": "code",
   "execution_count": 238,
   "metadata": {},
   "outputs": [],
   "source": [
    "# Compile the model\n",
    "model.compile(optimizer='adam',\n",
    "              loss=custom_loss, # Call the loss function with the selected layer\n",
    "              metrics=['accuracy',custom_loss])"
   ]
  },
  {
   "cell_type": "code",
   "execution_count": 239,
   "metadata": {},
   "outputs": [],
   "source": [
    "# callback\n",
    "from keras.callbacks import EarlyStopping\n",
    "early_stopping = EarlyStopping(monitor='val_custom_loss', patience=20, mode='min')"
   ]
  },
  {
   "cell_type": "code",
   "execution_count": 240,
   "metadata": {
    "scrolled": true
   },
   "outputs": [
    {
     "name": "stdout",
     "output_type": "stream",
     "text": [
      "Train on 12369 samples, validate on 7069 samples\n",
      "Epoch 1/1000000\n",
      "12369/12369 [==============================] - 4s 331us/step - loss: 577367.4039 - acc: 0.0000e+00 - custom_loss: 577367.4039 - val_loss: 203.0442 - val_acc: 0.0000e+00 - val_custom_loss: 203.0442\n",
      "Epoch 2/1000000\n",
      "12369/12369 [==============================] - 1s 106us/step - loss: 157.4279 - acc: 0.0000e+00 - custom_loss: 157.4279 - val_loss: 80.1674 - val_acc: 0.0000e+00 - val_custom_loss: 80.1674\n",
      "Epoch 3/1000000\n",
      "12369/12369 [==============================] - 1s 107us/step - loss: 95.9589 - acc: 0.0000e+00 - custom_loss: 95.9589 - val_loss: 71.9441 - val_acc: 0.0000e+00 - val_custom_loss: 71.9441\n",
      "Epoch 4/1000000\n",
      "12369/12369 [==============================] - 1s 107us/step - loss: 117.8345 - acc: 0.0000e+00 - custom_loss: 117.8345 - val_loss: 64.4805 - val_acc: 0.0000e+00 - val_custom_loss: 64.4805\n",
      "Epoch 5/1000000\n",
      "12369/12369 [==============================] - 1s 108us/step - loss: 72.8669 - acc: 0.0000e+00 - custom_loss: 72.8669 - val_loss: 75.2595 - val_acc: 0.0000e+00 - val_custom_loss: 75.2595\n",
      "Epoch 6/1000000\n",
      "12369/12369 [==============================] - 1s 108us/step - loss: 75.1021 - acc: 0.0000e+00 - custom_loss: 75.1021 - val_loss: 56.9996 - val_acc: 0.0000e+00 - val_custom_loss: 56.9996\n",
      "Epoch 7/1000000\n",
      "12369/12369 [==============================] - 1s 112us/step - loss: 69.2658 - acc: 0.0000e+00 - custom_loss: 69.2658 - val_loss: 60.5578 - val_acc: 0.0000e+00 - val_custom_loss: 60.5578\n",
      "Epoch 8/1000000\n",
      "12369/12369 [==============================] - 1s 112us/step - loss: 65.7546 - acc: 0.0000e+00 - custom_loss: 65.7546 - val_loss: 59.5585 - val_acc: 0.0000e+00 - val_custom_loss: 59.5585\n",
      "Epoch 9/1000000\n",
      "12369/12369 [==============================] - 1s 111us/step - loss: 69.2537 - acc: 0.0000e+00 - custom_loss: 69.2537 - val_loss: 70.2864 - val_acc: 0.0000e+00 - val_custom_loss: 70.2864\n",
      "Epoch 10/1000000\n",
      "12369/12369 [==============================] - 1s 112us/step - loss: 84.7947 - acc: 0.0000e+00 - custom_loss: 84.7947 - val_loss: 56.7176 - val_acc: 0.0000e+00 - val_custom_loss: 56.7176\n",
      "Epoch 11/1000000\n",
      "12369/12369 [==============================] - 1s 112us/step - loss: 63.1640 - acc: 0.0000e+00 - custom_loss: 63.1640 - val_loss: 57.1489 - val_acc: 0.0000e+00 - val_custom_loss: 57.1489\n",
      "Epoch 12/1000000\n",
      "12369/12369 [==============================] - 1s 114us/step - loss: 58.9567 - acc: 0.0000e+00 - custom_loss: 58.9567 - val_loss: 53.5573 - val_acc: 0.0000e+00 - val_custom_loss: 53.5573\n",
      "Epoch 13/1000000\n",
      "12369/12369 [==============================] - 1s 114us/step - loss: 57.2245 - acc: 0.0000e+00 - custom_loss: 57.2245 - val_loss: 55.2164 - val_acc: 0.0000e+00 - val_custom_loss: 55.2164\n",
      "Epoch 14/1000000\n",
      "12369/12369 [==============================] - 1s 114us/step - loss: 56.5546 - acc: 0.0000e+00 - custom_loss: 56.5546 - val_loss: 55.8556 - val_acc: 0.0000e+00 - val_custom_loss: 55.8556\n",
      "Epoch 15/1000000\n",
      "12369/12369 [==============================] - 1s 114us/step - loss: 56.2166 - acc: 0.0000e+00 - custom_loss: 56.2166 - val_loss: 56.5209 - val_acc: 0.0000e+00 - val_custom_loss: 56.5209\n",
      "Epoch 16/1000000\n",
      "12369/12369 [==============================] - 1s 115us/step - loss: 56.1367 - acc: 0.0000e+00 - custom_loss: 56.1367 - val_loss: 55.7803 - val_acc: 0.0000e+00 - val_custom_loss: 55.7803\n",
      "Epoch 17/1000000\n",
      "12369/12369 [==============================] - 1s 116us/step - loss: 55.9291 - acc: 0.0000e+00 - custom_loss: 55.9291 - val_loss: 58.1070 - val_acc: 0.0000e+00 - val_custom_loss: 58.1070\n",
      "Epoch 18/1000000\n",
      "12369/12369 [==============================] - 1s 119us/step - loss: 54.3048 - acc: 0.0000e+00 - custom_loss: 54.3048 - val_loss: 55.5800 - val_acc: 0.0000e+00 - val_custom_loss: 55.5800\n",
      "Epoch 19/1000000\n",
      "12369/12369 [==============================] - 1s 118us/step - loss: 55.4402 - acc: 0.0000e+00 - custom_loss: 55.4402 - val_loss: 55.7659 - val_acc: 0.0000e+00 - val_custom_loss: 55.7659\n",
      "Epoch 20/1000000\n",
      "12369/12369 [==============================] - 1s 118us/step - loss: 55.5895 - acc: 0.0000e+00 - custom_loss: 55.5895 - val_loss: 55.6400 - val_acc: 0.0000e+00 - val_custom_loss: 55.6400\n",
      "Epoch 21/1000000\n",
      "12369/12369 [==============================] - 1s 119us/step - loss: 55.4689 - acc: 0.0000e+00 - custom_loss: 55.4689 - val_loss: 55.2569 - val_acc: 0.0000e+00 - val_custom_loss: 55.2569\n",
      "Epoch 22/1000000\n",
      "12369/12369 [==============================] - 1s 118us/step - loss: 54.3689 - acc: 0.0000e+00 - custom_loss: 54.3689 - val_loss: 53.7791 - val_acc: 0.0000e+00 - val_custom_loss: 53.7791\n",
      "Epoch 23/1000000\n",
      "12369/12369 [==============================] - 1s 120us/step - loss: 53.3706 - acc: 0.0000e+00 - custom_loss: 53.3706 - val_loss: 57.5551 - val_acc: 0.0000e+00 - val_custom_loss: 57.5551\n",
      "Epoch 24/1000000\n",
      "12369/12369 [==============================] - 1s 120us/step - loss: 54.0781 - acc: 0.0000e+00 - custom_loss: 54.0781 - val_loss: 55.0621 - val_acc: 0.0000e+00 - val_custom_loss: 55.0621\n",
      "Epoch 25/1000000\n",
      "12369/12369 [==============================] - 2s 121us/step - loss: 52.5740 - acc: 0.0000e+00 - custom_loss: 52.5740 - val_loss: 53.7474 - val_acc: 0.0000e+00 - val_custom_loss: 53.7474\n",
      "Epoch 26/1000000\n",
      "12369/12369 [==============================] - 2s 123us/step - loss: 73.6077 - acc: 0.0000e+00 - custom_loss: 73.6077 - val_loss: 62.1862 - val_acc: 0.0000e+00 - val_custom_loss: 62.1862\n",
      "Epoch 27/1000000\n",
      "12369/12369 [==============================] - 2s 123us/step - loss: 78.0965 - acc: 0.0000e+00 - custom_loss: 78.0965 - val_loss: 70.1823 - val_acc: 0.0000e+00 - val_custom_loss: 70.1823\n",
      "Epoch 28/1000000\n",
      "12369/12369 [==============================] - 2s 126us/step - loss: 58.7417 - acc: 0.0000e+00 - custom_loss: 58.7417 - val_loss: 53.4726 - val_acc: 0.0000e+00 - val_custom_loss: 53.4726\n",
      "Epoch 29/1000000\n",
      "12369/12369 [==============================] - 2s 127us/step - loss: 65.8420 - acc: 0.0000e+00 - custom_loss: 65.8420 - val_loss: 58.4466 - val_acc: 0.0000e+00 - val_custom_loss: 58.4466\n",
      "Epoch 30/1000000\n",
      "12369/12369 [==============================] - 2s 127us/step - loss: 56.0396 - acc: 0.0000e+00 - custom_loss: 56.0396 - val_loss: 59.3965 - val_acc: 0.0000e+00 - val_custom_loss: 59.3965\n",
      "Epoch 31/1000000\n",
      "12369/12369 [==============================] - 2s 128us/step - loss: 56.0295 - acc: 0.0000e+00 - custom_loss: 56.0295 - val_loss: 62.5041 - val_acc: 0.0000e+00 - val_custom_loss: 62.5041\n",
      "Epoch 32/1000000\n",
      "12369/12369 [==============================] - 2s 129us/step - loss: 54.4145 - acc: 0.0000e+00 - custom_loss: 54.4145 - val_loss: 58.6820 - val_acc: 0.0000e+00 - val_custom_loss: 58.6820\n",
      "Epoch 33/1000000\n",
      "12369/12369 [==============================] - 2s 135us/step - loss: 53.2730 - acc: 0.0000e+00 - custom_loss: 53.2730 - val_loss: 53.4215 - val_acc: 0.0000e+00 - val_custom_loss: 53.4215\n",
      "Epoch 34/1000000\n",
      "12369/12369 [==============================] - 2s 133us/step - loss: 51.6840 - acc: 0.0000e+00 - custom_loss: 51.6840 - val_loss: 56.1170 - val_acc: 0.0000e+00 - val_custom_loss: 56.1170\n",
      "Epoch 35/1000000\n",
      "12369/12369 [==============================] - 2s 134us/step - loss: 51.4824 - acc: 0.0000e+00 - custom_loss: 51.4824 - val_loss: 56.9547 - val_acc: 0.0000e+00 - val_custom_loss: 56.9547\n",
      "Epoch 36/1000000\n",
      "12369/12369 [==============================] - 2s 132us/step - loss: 51.7009 - acc: 0.0000e+00 - custom_loss: 51.7009 - val_loss: 55.7225 - val_acc: 0.0000e+00 - val_custom_loss: 55.7225\n",
      "Epoch 37/1000000\n",
      "12369/12369 [==============================] - 2s 137us/step - loss: 51.1127 - acc: 0.0000e+00 - custom_loss: 51.1127 - val_loss: 59.3521 - val_acc: 0.0000e+00 - val_custom_loss: 59.3521\n",
      "Epoch 38/1000000\n",
      "12369/12369 [==============================] - 2s 136us/step - loss: 51.0063 - acc: 0.0000e+00 - custom_loss: 51.0063 - val_loss: 53.9928 - val_acc: 0.0000e+00 - val_custom_loss: 53.9928\n",
      "Epoch 39/1000000\n",
      "12369/12369 [==============================] - 2s 139us/step - loss: 51.1356 - acc: 0.0000e+00 - custom_loss: 51.1356 - val_loss: 66.4495 - val_acc: 0.0000e+00 - val_custom_loss: 66.4495\n",
      "Epoch 40/1000000\n",
      "12369/12369 [==============================] - 2s 137us/step - loss: 51.1077 - acc: 0.0000e+00 - custom_loss: 51.1077 - val_loss: 57.3175 - val_acc: 0.0000e+00 - val_custom_loss: 57.3175\n"
     ]
    },
    {
     "name": "stdout",
     "output_type": "stream",
     "text": [
      "Epoch 41/1000000\n",
      "12369/12369 [==============================] - 2s 133us/step - loss: 59.5250 - acc: 0.0000e+00 - custom_loss: 59.5250 - val_loss: 57.4763 - val_acc: 0.0000e+00 - val_custom_loss: 57.4763\n",
      "Epoch 42/1000000\n",
      "12369/12369 [==============================] - 2s 135us/step - loss: 53.7266 - acc: 0.0000e+00 - custom_loss: 53.7266 - val_loss: 59.9184 - val_acc: 0.0000e+00 - val_custom_loss: 59.9184\n",
      "Epoch 43/1000000\n",
      "12369/12369 [==============================] - 2s 136us/step - loss: 51.9206 - acc: 0.0000e+00 - custom_loss: 51.9206 - val_loss: 55.9218 - val_acc: 0.0000e+00 - val_custom_loss: 55.9218\n",
      "Epoch 44/1000000\n",
      "12369/12369 [==============================] - 2s 135us/step - loss: 52.0520 - acc: 0.0000e+00 - custom_loss: 52.0520 - val_loss: 65.0081 - val_acc: 0.0000e+00 - val_custom_loss: 65.0081\n",
      "Epoch 45/1000000\n",
      "12369/12369 [==============================] - 2s 137us/step - loss: 51.3595 - acc: 0.0000e+00 - custom_loss: 51.3595 - val_loss: 53.7038 - val_acc: 0.0000e+00 - val_custom_loss: 53.7038\n",
      "Epoch 46/1000000\n",
      "12369/12369 [==============================] - 2s 137us/step - loss: 52.8155 - acc: 0.0000e+00 - custom_loss: 52.8155 - val_loss: 55.4805 - val_acc: 0.0000e+00 - val_custom_loss: 55.4805\n",
      "Epoch 47/1000000\n",
      "12369/12369 [==============================] - 2s 147us/step - loss: 54.5134 - acc: 0.0000e+00 - custom_loss: 54.5134 - val_loss: 61.2462 - val_acc: 0.0000e+00 - val_custom_loss: 61.2462\n",
      "Epoch 48/1000000\n",
      "12369/12369 [==============================] - 2s 145us/step - loss: 51.4753 - acc: 0.0000e+00 - custom_loss: 51.4753 - val_loss: 53.7618 - val_acc: 0.0000e+00 - val_custom_loss: 53.7618\n",
      "Epoch 49/1000000\n",
      "12369/12369 [==============================] - 2s 145us/step - loss: 50.1677 - acc: 0.0000e+00 - custom_loss: 50.1677 - val_loss: 57.5607 - val_acc: 0.0000e+00 - val_custom_loss: 57.5607\n",
      "Epoch 50/1000000\n",
      "12369/12369 [==============================] - 2s 143us/step - loss: 50.5902 - acc: 0.0000e+00 - custom_loss: 50.5902 - val_loss: 54.0751 - val_acc: 0.0000e+00 - val_custom_loss: 54.0751\n",
      "Epoch 51/1000000\n",
      "12369/12369 [==============================] - 2s 141us/step - loss: 51.1235 - acc: 0.0000e+00 - custom_loss: 51.1235 - val_loss: 60.2402 - val_acc: 0.0000e+00 - val_custom_loss: 60.2402\n",
      "Epoch 52/1000000\n",
      "12369/12369 [==============================] - 2s 145us/step - loss: 50.0738 - acc: 0.0000e+00 - custom_loss: 50.0738 - val_loss: 55.5904 - val_acc: 0.0000e+00 - val_custom_loss: 55.5904\n",
      "Epoch 53/1000000\n",
      "12369/12369 [==============================] - 2s 147us/step - loss: 49.9989 - acc: 0.0000e+00 - custom_loss: 49.9989 - val_loss: 59.6874 - val_acc: 0.0000e+00 - val_custom_loss: 59.6874\n"
     ]
    },
    {
     "data": {
      "text/plain": [
       "<keras.callbacks.History at 0x21647f3f358>"
      ]
     },
     "execution_count": 240,
     "metadata": {},
     "output_type": "execute_result"
    }
   ],
   "source": [
    "# train\n",
    "model.fit(X_train, y_train, epochs=1000000, batch_size=128, validation_data=(X_test, y_test),\n",
    "          callbacks=[early_stopping])"
   ]
  },
  {
   "cell_type": "code",
   "execution_count": 241,
   "metadata": {},
   "outputs": [],
   "source": [
    "y_pred = model.predict(X_test)"
   ]
  },
  {
   "cell_type": "code",
   "execution_count": 242,
   "metadata": {},
   "outputs": [
    {
     "data": {
      "image/png": "[encoded data removed]",
      "text/plain": [
       "<Figure size 720x720 with 1 Axes>"
      ]
     },
     "metadata": {
      "needs_background": "light"
     },
     "output_type": "display_data"
    }
   ],
   "source": [
    "import matplotlib.pyplot as plt\n",
    "\n",
    "b2 = y_test.reset_index()\n",
    "b2['total_pred'] = y_pred\n",
    "plt.figure(figsize=(10,10))\n",
    "plt.plot( b2['total_spent'], b2['total_pred'],'bo')\n",
    "plt.axis([0, 70, 0, 70])\n",
    "plt.show()"
   ]
  },
  {
   "cell_type": "code",
   "execution_count": 172,
   "metadata": {
    "scrolled": false
   },
   "outputs": [
    {
     "data": {
      "image/png": "[encoded data removed]",
      "text/plain": [
       "<Figure size 720x720 with 1 Axes>"
      ]
     },
     "metadata": {
      "needs_background": "light"
     },
     "output_type": "display_data"
    }
   ],
   "source": [
    "# loss = K.mean(K.square((y_pred - y_true)), axis=-1)*K.square((y_true)/97.515488- 0.5)\n",
    "\n",
    "# rmse = 5.9105868458396715\n",
    "import matplotlib.pyplot as plt\n",
    "\n",
    "b = y_test.reset_index()\n",
    "b['total_pred'] = y_pred\n",
    "plt.figure(figsize=(10,10))\n",
    "plt.plot( b['total_spent'], b['total_pred'],'bo')\n",
    "plt.axis([0, 70, 0, 70])\n",
    "plt.show()"
   ]
  },
  {
   "cell_type": "code",
   "execution_count": 223,
   "metadata": {},
   "outputs": [
    {
     "data": {
      "text/plain": [
       "5.9105868458396715"
      ]
     },
     "execution_count": 223,
     "metadata": {},
     "output_type": "execute_result"
    }
   ],
   "source": [
    "from sklearn.metrics import mean_squared_error as mse\n",
    "linreg_RMSE = np.sqrt(mse(b['total_pred'], b['total_spent']))\n",
    "linreg_RMSE"
   ]
  },
  {
   "cell_type": "code",
   "execution_count": 157,
   "metadata": {},
   "outputs": [
    {
     "data": {
      "image/png": "[encoded data removed]",
      "text/plain": [
       "<Figure size 1440x1080 with 1 Axes>"
      ]
     },
     "metadata": {
      "needs_background": "light"
     },
     "output_type": "display_data"
    }
   ],
   "source": [
    "b = y_test.reset_index()\n",
    "b['total_pred'] = y_pred\n",
    "plt.figure(figsize=(20,15))\n",
    "plt.plot( b['total_spent'], b['total_pred'],'bo')\n",
    "plt.axis([0, 70, 0, 70])\n",
    "plt.show()"
   ]
  },
  {
   "cell_type": "code",
   "execution_count": 74,
   "metadata": {},
   "outputs": [],
   "source": [
    "import numpy as np\n",
    "from keras.models import Sequential\n",
    "from keras.layers import Dense\n",
    "import random\n",
    "\n",
    "# 1. 데이터셋 생성하기\n",
    "x_train = np.random.random((1000, 1))\n",
    "y_train = x_train * 2 + np.random.random((1000, 1)) / 3.0\n",
    "x_test = np.random.random((100, 1))\n",
    "y_test = x_test * 2 + np.random.random((100, 1)) / 3.0"
   ]
  },
  {
   "cell_type": "code",
   "execution_count": 87,
   "metadata": {},
   "outputs": [
    {
     "data": {
      "text/plain": [
       "array([[2.8146503],\n",
       "       [5.6879253],\n",
       "       [8.561201 ]], dtype=float32)"
      ]
     },
     "execution_count": 87,
     "metadata": {},
     "output_type": "execute_result"
    }
   ],
   "source": [
    "model.predict(a)"
   ]
  },
  {
   "cell_type": "code",
   "execution_count": 191,
   "metadata": {},
   "outputs": [
    {
     "data": {
      "text/plain": [
       "(array([    0.,     0.,     0.,     0.,     0., 17593.,   266.,   217.,\n",
       "          500.,   218.]),\n",
       " array([-0.5, -0.4, -0.3, -0.2, -0.1,  0. ,  0.1,  0.2,  0.3,  0.4,  0.5]),\n",
       " <a list of 10 Patch objects>)"
      ]
     },
     "execution_count": 191,
     "metadata": {},
     "output_type": "execute_result"
    },
    {
     "data": {
      "image/png": "[encoded data removed]",
      "text/plain": [
       "<Figure size 432x288 with 1 Axes>"
      ]
     },
     "metadata": {
      "needs_background": "light"
     },
     "output_type": "display_data"
    }
   ],
   "source": [
    "plt.hist(train_lable['total_spent'], range=(0,0))"
   ]
  },
  {
   "cell_type": "code",
   "execution_count": 193,
   "metadata": {},
   "outputs": [
    {
     "data": {
      "text/plain": [
       "acc_id           16438\n",
       "survival_time    16438\n",
       "amount_spent     16438\n",
       "secession        16438\n",
       "total_spent      16438\n",
       "dtype: int64"
      ]
     },
     "execution_count": 193,
     "metadata": {},
     "output_type": "execute_result"
    }
   ],
   "source": [
    "train_lable[train_lable['total_spent']==0].count()"
   ]
  },
  {
   "cell_type": "code",
   "execution_count": 194,
   "metadata": {},
   "outputs": [
    {
     "data": {
      "text/plain": [
       "acc_id           16438\n",
       "survival_time    16438\n",
       "amount_spent     16438\n",
       "secession        16438\n",
       "total_spent      16438\n",
       "dtype: int64"
      ]
     },
     "execution_count": 194,
     "metadata": {},
     "output_type": "execute_result"
    }
   ],
   "source": [
    "train_lable[train_lable['amount_spent']==0].count()"
   ]
  },
  {
   "cell_type": "code",
   "execution_count": null,
   "metadata": {},
   "outputs": [],
   "source": []
  }
 ],
 "metadata": {
  "kernelspec": {
   "display_name": "jy3.6",
   "language": "python",
   "name": "mypython"
  },
  "language_info": {
   "codemirror_mode": {
    "name": "ipython",
    "version": 3
   },
   "file_extension": ".py",
   "mimetype": "text/x-python",
   "name": "python",
   "nbconvert_exporter": "python",
   "pygments_lexer": "ipython3",
   "version": "3.6.8"
  }
 },
 "nbformat": 4,
 "nbformat_minor": 2
}
