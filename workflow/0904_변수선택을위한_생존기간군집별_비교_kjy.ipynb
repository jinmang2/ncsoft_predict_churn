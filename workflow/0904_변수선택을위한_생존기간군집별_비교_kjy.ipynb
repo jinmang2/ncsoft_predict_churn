{
 "cells": [
  {
   "cell_type": "code",
   "execution_count": 1,
   "metadata": {},
   "outputs": [],
   "source": [
    "import pandas as pd\n",
    "import numpy as np\n",
    "from pandas import DataFrame\n",
    "import matplotlib.pyplot as plt\n",
    "from sklearn.cluster import KMeans\n",
    "import matplotlib.pyplot  as plt\n",
    "import seaborn as sns\n",
    "from sklearn.metrics import accuracy_score\n",
    "from sklearn.metrics import f1_score\n",
    "from sklearn.feature_selection import SelectFromModel\n",
    "from sklearn.metrics import mean_squared_error as mse\n",
    "import xgboost as xgb\n",
    "from sklearn.model_selection import KFold"
   ]
  },
  {
   "cell_type": "code",
   "execution_count": 2,
   "metadata": {},
   "outputs": [],
   "source": [
    "data = pd.read_csv('./merge_all_flatten.csv')\n",
    "train_label = pd.read_csv('./train_label_add.csv')\n",
    "train_label = train_label.sort_values('acc_id')"
   ]
  },
  {
   "cell_type": "code",
   "execution_count": 3,
   "metadata": {},
   "outputs": [],
   "source": [
    "del data['minus']\n",
    "del data['plus']"
   ]
  },
  {
   "cell_type": "code",
   "execution_count": 4,
   "metadata": {},
   "outputs": [],
   "source": [
    "data_lbl = pd.merge(data, train_label, on='acc_id')\n",
    "data_63_lbl = data_lbl[data_lbl['survival_time']!=64]\n",
    "data_63 = data_63_lbl.drop(['total_spent','survival_time','secession','amount_spent_y'],axis=1)"
   ]
  },
  {
   "cell_type": "code",
   "execution_count": 12,
   "metadata": {},
   "outputs": [],
   "source": [
    " k =data_lbl[data_lbl['survival_time']<64]"
   ]
  },
  {
   "cell_type": "code",
   "execution_count": 63,
   "metadata": {
    "scrolled": true
   },
   "outputs": [],
   "source": [
    "surv1 = data_lbl[(data_lbl['survival_time']>=1) & (data_lbl['survival_time']<=10)]\n",
    "surv2 = data_lbl[(data_lbl['survival_time']>=11) & (data_lbl['survival_time']<=20)]\n",
    "#surv3 = data_lbl[(data_lbl['survival_time']>=21) & (data_lbl['survival_time']<=30)]\n",
    "#surv4 = data_lbl[(data_lbl['survival_time']>=31) & (data_lbl['survival_time']<=40)]\n",
    "#surv5 = data_lbl[(data_lbl['survival_time']>=41) & (data_lbl['survival_time']<=50)]\n",
    "#surv6 = data_lbl[(data_lbl['survival_time']>=51) & (data_lbl['survival_time']<=63)]\n",
    "#surv7 = data_lbl[(data_lbl['survival_time']>=43) & (data_lbl['survival_time']<=70)]\n",
    "#surv8 = data_lbl[(data_lbl['survival_time']>=50) & (data_lbl['survival_time']<=56)]\n",
    "#surv9 = data_lbl[(data_lbl['survival_time']>=57) & (data_lbl['survival_time']<=63)]\n",
    "surv7 = data_lbl[(data_lbl['survival_time']==64)]\n",
    "\n"
   ]
  },
  {
   "cell_type": "code",
   "execution_count": 40,
   "metadata": {},
   "outputs": [],
   "source": [
    "#surv1 = data_lbl[(data_lbl['survival_time']>=1) & (data_lbl['survival_time']<=20)]\n",
    "#surv2 = data_lbl[(data_lbl['survival_time']>=21) & (data_lbl['survival_time']<=40)]\n",
    "#surv3 = data_lbl[(data_lbl['survival_time']>=41) & (data_lbl['survival_time']<=63)]"
   ]
  },
  {
   "cell_type": "code",
   "execution_count": 44,
   "metadata": {},
   "outputs": [],
   "source": [
    "surv7.describe().T.to_csv('./surv7_disc.csv')"
   ]
  },
  {
   "cell_type": "code",
   "execution_count": 55,
   "metadata": {
    "collapsed": true
   },
   "outputs": [
    {
     "data": {
      "text/plain": [
       "(array([2711.,  616.,  296.,  308.,  319.,   87.,   92.,  117.,  235.,\n",
       "         964.]),\n",
       " array([2.34065522e-03, 2.30882231e+00, 4.61530396e+00, 6.92178561e+00,\n",
       "        9.22826726e+00, 1.15347489e+01, 1.38412306e+01, 1.61477122e+01,\n",
       "        1.84541939e+01, 2.07606755e+01, 2.30671572e+01]),\n",
       " <a list of 10 Patch objects>)"
      ]
     },
     "execution_count": 55,
     "metadata": {},
     "output_type": "execute_result"
    },
    {
     "data": {
      "image/png": "[encoded data removed]",
      "text/plain": [
       "<Figure size 432x288 with 1 Axes>"
      ]
     },
     "metadata": {
      "needs_background": "light"
     },
     "output_type": "display_data"
    }
   ],
   "source": [
    "plt.hist(surv1['playtime_4'])"
   ]
  },
  {
   "cell_type": "code",
   "execution_count": 57,
   "metadata": {
    "collapsed": true
   },
   "outputs": [
    {
     "data": {
      "text/plain": [
       "<matplotlib.axes._subplots.AxesSubplot at 0x252645d0080>"
      ]
     },
     "execution_count": 57,
     "metadata": {},
     "output_type": "execute_result"
    },
    {
     "data": {
      "image/png": "[encoded data removed]",
      "text/plain": [
       "<Figure size 432x288 with 1 Axes>"
      ]
     },
     "metadata": {
      "needs_background": "light"
     },
     "output_type": "display_data"
    }
   ],
   "source": [
    "surv1.plot(kind='scatter', x='survival_time', y='pluss', alpha=0.2)"
   ]
  },
  {
   "cell_type": "code",
   "execution_count": 65,
   "metadata": {
    "scrolled": false
   },
   "outputs": [
    {
     "data": {
      "text/plain": [
       "survival_time              1.000000\n",
       "day_sum                    0.527241\n",
       "game_money_change_count    0.508650\n",
       "day_count                  0.507362\n",
       "playtime_count             0.507362\n",
       "char_count                 0.507362\n",
       "25                         0.505833\n",
       "24                         0.503227\n",
       "23                         0.491416\n",
       "26                         0.489543\n",
       "playtime_4                 0.480087\n",
       "22                         0.465387\n",
       "27                         0.458551\n",
       "playtime_3                 0.448329\n",
       "pluss                      0.444716\n",
       "minuss                     0.444267\n",
       "20                         0.443884\n",
       "playtime_2                 0.434036\n",
       "day_y                      0.432131\n",
       "log_in_freq                0.427969\n",
       "npc_kill_count             0.426484\n",
       "solo_exp_count             0.420101\n",
       "playtime_1                 0.416629\n",
       "6                          0.413971\n",
       "7                          0.413429\n",
       "5                          0.412746\n",
       "playtime                   0.410850\n",
       "4                          0.408418\n",
       "2                          0.408251\n",
       "3                          0.407688\n",
       "                             ...   \n",
       "enchant_count_1            0.001983\n",
       "quest_exp_4                0.001766\n",
       "solo_exp_2                 0.001655\n",
       "enchant_count              0.001175\n",
       "same_pledge_cnt_2_x        0.000993\n",
       "acc_id                    -0.001030\n",
       "enchant_count_2           -0.001615\n",
       "item_4_s_m                -0.004536\n",
       "enchant_count_3           -0.006800\n",
       "game_money_change_2       -0.009800\n",
       "total_spent               -0.010883\n",
       "margin                    -0.013060\n",
       "game_money_change_3       -0.013316\n",
       "game_money_change_1       -0.015895\n",
       "game_money_change         -0.035004\n",
       "C_6                       -0.035333\n",
       "quest_exp                 -0.044885\n",
       "pay_count                 -0.050356\n",
       "random_defender_cnt_sub   -0.069829\n",
       "non_login_pay             -0.075368\n",
       "day_x                     -0.075537\n",
       "minus_am                  -0.084550\n",
       "random_defender_cnt_2_y   -0.088266\n",
       "C_5                       -0.129636\n",
       "amount_spent_y            -0.168691\n",
       "day_mean                  -0.346434\n",
       "playtime_clt              -0.355913\n",
       "login_clt                 -0.473900\n",
       "28                              NaN\n",
       "secession                       NaN\n",
       "Name: survival_time, Length: 405, dtype: float64"
      ]
     },
     "execution_count": 65,
     "metadata": {},
     "output_type": "execute_result"
    }
   ],
   "source": [
    "# 생존기간 1~10일인 유저의 생존기간과의 상관관계\n",
    "c = surv1.corr()\n",
    "c['survival_time'].sort_values(ascending=False)"
   ]
  },
  {
   "cell_type": "code",
   "execution_count": 64,
   "metadata": {
    "scrolled": true
   },
   "outputs": [
    {
     "data": {
      "text/plain": [
       "survival_time                1.000000\n",
       "day_x                        0.090955\n",
       "24                           0.089751\n",
       "rich_monster                 0.084917\n",
       "tday_count_s                 0.083380\n",
       "quest_exp_count              0.081015\n",
       "pay_count                    0.079583\n",
       "tday_count_t                 0.079193\n",
       "amount_spent_3               0.073423\n",
       "hour_mean                    0.071178\n",
       "hour_s_100                   0.069982\n",
       "day_s                        0.067787\n",
       "num_trade                    0.067757\n",
       "num_trade_s                  0.066975\n",
       "source_sum                   0.066975\n",
       "hour_t                       0.065993\n",
       "minuss                       0.065409\n",
       "hour_s_400                   0.063990\n",
       "day_t_m                      0.063851\n",
       "23                           0.063839\n",
       "type_shop_s                  0.062727\n",
       "fishing_count                0.061002\n",
       "num_trade_shop               0.060668\n",
       "combat_char_cnt_4            0.060423\n",
       "trade_ratio                  0.060141\n",
       "type_shop_s_m                0.059941\n",
       "item_1_s                     0.059746\n",
       "hour_s_300                   0.059033\n",
       "item_6_t_m                   0.057593\n",
       "hour_s                       0.057399\n",
       "                               ...   \n",
       "pledge_rank_1               -0.047836\n",
       "log_in_freq                 -0.049346\n",
       "amount_spent_2              -0.049580\n",
       "forgive_4                   -0.051485\n",
       "random_defender_cnt_2_x     -0.051917\n",
       "day_y                       -0.052051\n",
       "pledge_rank                 -0.052585\n",
       "std_defend                  -0.052607\n",
       "pledge_rank_2               -0.053406\n",
       "random_defender_cnt_4_x     -0.053642\n",
       "pledge_rank_main            -0.054250\n",
       "b_server_num                -0.054285\n",
       "random_defender_cnt_3_y     -0.055264\n",
       "forgive_2                   -0.059085\n",
       "amount_spent_y              -0.060393\n",
       "C_4                         -0.060587\n",
       "diff_plus                   -0.060824\n",
       "random_defender_cnt_3_x     -0.061834\n",
       "random_defender_cnt_x       -0.062934\n",
       "playtime_2                  -0.068776\n",
       "forgive_1                   -0.071262\n",
       "forgive                     -0.076059\n",
       "forgive_3                   -0.078732\n",
       "npc_kill_4                  -0.079480\n",
       "random_defender_cnt_count   -0.086065\n",
       "day_defend                  -0.090189\n",
       "npc_kill_3                  -0.094514\n",
       "npc_kill_2                  -0.107437\n",
       "28                                NaN\n",
       "secession                         NaN\n",
       "Name: survival_time, Length: 405, dtype: float64"
      ]
     },
     "execution_count": 64,
     "metadata": {},
     "output_type": "execute_result"
    }
   ],
   "source": [
    "# 생존기간 11~20일인 유저의 생존기간과의 상관관계\n",
    "c = surv2.corr()\n",
    "c['survival_time'].sort_values(ascending=False)"
   ]
  },
  {
   "cell_type": "code",
   "execution_count": 47,
   "metadata": {
    "scrolled": true
   },
   "outputs": [
    {
     "data": {
      "text/plain": [
       "survival_time              1.000000\n",
       "game_money_change_count    0.275981\n",
       "day_count                  0.261988\n",
       "char_count                 0.261988\n",
       "playtime_count             0.261988\n",
       "day_sum                    0.260265\n",
       "playtime                   0.251343\n",
       "total_spent                0.220912\n",
       "tday_count_s               0.220778\n",
       "private_shop               0.212830\n",
       "private_shop_4             0.212429\n",
       "private_shop_count         0.211292\n",
       "private_shop_2             0.211139\n",
       "private_shop_3             0.211017\n",
       "playtime_3                 0.209643\n",
       "private_shop_1             0.208867\n",
       "minuss                     0.206449\n",
       "1                          0.206036\n",
       "playtime_4                 0.202552\n",
       "playtime_1                 0.201324\n",
       "3                          0.200873\n",
       "playtime_2                 0.199712\n",
       "4                          0.198330\n",
       "2                          0.196456\n",
       "7                          0.193595\n",
       "11                         0.186616\n",
       "merchant                   0.185500\n",
       "6                          0.184651\n",
       "5                          0.184355\n",
       "10                         0.184232\n",
       "                             ...   \n",
       "quest_exp_3               -0.057520\n",
       "forgive_1                 -0.063218\n",
       "death_count               -0.063795\n",
       "forgive_3                 -0.065230\n",
       "quest_exp_4               -0.066688\n",
       "quest_exp_2               -0.073636\n",
       "forgive_2                 -0.074794\n",
       "forgive_4                 -0.077439\n",
       "party_exp_4               -0.082010\n",
       "party_exp_3               -0.086032\n",
       "b_server_num              -0.087757\n",
       "exp_clt                   -0.091264\n",
       "minus_am                  -0.092042\n",
       "quest_exp_1               -0.095070\n",
       "solo_exp_3                -0.106735\n",
       "party_exp_2               -0.108248\n",
       "solo_exp_1                -0.112247\n",
       "deff_level                -0.114590\n",
       "solo_exp_2                -0.119385\n",
       "solo_exp_4                -0.122021\n",
       "party_exp_1               -0.123259\n",
       "party_exp                 -0.127450\n",
       "playtime_clt              -0.129939\n",
       "level_max                 -0.135206\n",
       "day_mean                  -0.154629\n",
       "solo_exp                  -0.155880\n",
       "level_y                   -0.167896\n",
       "login_clt                 -0.207599\n",
       "secession                 -0.877195\n",
       "28                              NaN\n",
       "Name: survival_time, Length: 405, dtype: float64"
      ]
     },
     "execution_count": 47,
     "metadata": {},
     "output_type": "execute_result"
    }
   ],
   "source": [
    "c = surv2.corr()\n",
    "c['survival_time'].sort_values(ascending=False)"
   ]
  },
  {
   "cell_type": "code",
   "execution_count": null,
   "metadata": {},
   "outputs": [],
   "source": [
    "data"
   ]
  },
  {
   "cell_type": "code",
   "execution_count": 70,
   "metadata": {},
   "outputs": [],
   "source": [
    "def week_login(data):\n",
    "    for i in range(0,4):    \n",
    "        data['week'+str(i+1)+'_log'] = (data[str(i+1)] + data[str(i+2)] + data[str(i+3)] + data[str(i+4)] + data[str(i+5)] + data[str(i+6)] + data[str(i+7)]) / 7\n",
    "        \n",
    "    data = data.drop(['1','2','3','4','5','6','7','8','9','10','11','12','13','14',\n",
    "                                               '15','16','17','18','19','20','21','22','23','24','25','26','27','28'], axis=1)\n",
    "\n",
    "    return data"
   ]
  },
  {
   "cell_type": "code",
   "execution_count": null,
   "metadata": {},
   "outputs": [],
   "source": []
  }
 ],
 "metadata": {
  "kernelspec": {
   "display_name": "jy3.6",
   "language": "python",
   "name": "mypython"
  },
  "language_info": {
   "codemirror_mode": {
    "name": "ipython",
    "version": 3
   },
   "file_extension": ".py",
   "mimetype": "text/x-python",
   "name": "python",
   "nbconvert_exporter": "python",
   "pygments_lexer": "ipython3",
   "version": "3.6.8"
  }
 },
 "nbformat": 4,
 "nbformat_minor": 2
}
