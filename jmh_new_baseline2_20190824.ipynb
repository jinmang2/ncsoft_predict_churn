{
 "cells": [
  {
   "cell_type": "code",
   "execution_count": 1,
   "metadata": {},
   "outputs": [
    {
     "data": {
      "text/plain": [
       "((1601834, 17),\n",
       " (1574671, 13),\n",
       " (1083384, 15),\n",
       " (1849325, 11),\n",
       " (66432, 3),\n",
       " (40000, 3))"
      ]
     },
     "execution_count": 1,
     "metadata": {},
     "output_type": "execute_result"
    }
   ],
   "source": [
    "import numpy as np\n",
    "import pandas as pd\n",
    "import matplotlib.pyplot as plt\n",
    "%matplotlib inline\n",
    "\n",
    "import seaborn as sns\n",
    "\n",
    "from os import listdir\n",
    "train_data_li = listdir('./train/')\n",
    "train_data_li\n",
    "\n",
    "import sys\n",
    "mod = sys.modules[__name__]\n",
    "for name in train_data_li:\n",
    "    setattr(mod, name.split('.')[0], pd.read_csv('./train/' + name))\n",
    "    \n",
    "train_activity.shape, train_combat.shape, train_pledge.shape, train_trade.shape, train_payment.shape, train_label.shape"
   ]
  },
  {
   "cell_type": "code",
   "execution_count": 2,
   "metadata": {},
   "outputs": [
    {
     "data": {
      "text/plain": [
       "((40000, 425), (40000,))"
      ]
     },
     "execution_count": 2,
     "metadata": {},
     "output_type": "execute_result"
    },
    {
     "data": {
      "image/png": "[encoded data removed]",
      "text/plain": [
       "<Figure size 432x288 with 1 Axes>"
      ]
     },
     "metadata": {},
     "output_type": "display_data"
    }
   ],
   "source": [
    "df = train_activity[\n",
    "        [col for col in train_activity.columns if col not in ['server',  'char_id']]\n",
    "    ].groupby(['day', 'acc_id']).sum().reset_index()\n",
    "\n",
    "df_grouped = df.groupby('day')\n",
    "p = df_grouped.get_group(1)\n",
    "for i in range(2, 29):\n",
    "    p = pd.merge(p, df_grouped.get_group(i), on='acc_id', how='outer',\n",
    "                 suffixes=('_'+str(i-1), '_'+str(i)))\n",
    "p = p[[col for col in p.columns if ('day' not in col) & ('char' not in col)]]\n",
    "p = p.fillna(0).set_index('acc_id')\n",
    "\n",
    "playtime_daily = train_activity.groupby(['acc_id', 'day'])['playtime'].sum().unstack().fillna(0)\n",
    "exp_weights = np.sqrt(np.arange(1, 29)) / np.sqrt(np.arange(1, 29)).sum()\n",
    "playtime_exp = playtime_daily * exp_weights\n",
    "playtime_exp.sum(axis=1).plot.hist(bins=25, grid=True)\n",
    "\n",
    "df = p.reset_index()\n",
    "p2 = pd.DataFrame(playtime_exp.sum(axis=1), columns=['exp_playtime']).reset_index()\n",
    "df = pd.merge(df, p2, on='acc_id')\n",
    "\n",
    "d = pd.DataFrame(list(set([(i, j) for i,j in train_activity[['day', 'acc_id']].values])), columns=['day', 'acc_id'])\n",
    "df = pd.merge(df, d.groupby('acc_id').count().reset_index(), on='acc_id')\n",
    "\n",
    "train_act_time = train_activity[['acc_id', 'day', 'playtime', 'fishing', 'private_shop']]\n",
    "train_act_time = train_act_time.groupby(['acc_id', 'day']).sum()\n",
    "train_act_time['resttime'] = train_act_time['fishing'] + train_act_time['private_shop']\n",
    "train_act_time['tr_play'] = (train_act_time['playtime'] - train_act_time['resttime']) / train_act_time['playtime']\n",
    "train_act_time['tr_rest'] = train_act_time['resttime'] / train_act_time['playtime']\n",
    "rest = train_act_time['tr_rest'].unstack().fillna(1)\n",
    "play = train_act_time['tr_play'].unstack().fillna(0)\n",
    "\n",
    "rest.columns = ['rest_'+str(i) for i in range(1, 29)]\n",
    "play.columns = ['play_'+str(i) for i in range(1, 29)]\n",
    "\n",
    "exp_weights = np.sqrt(np.arange(1, 29)) / np.sqrt(np.arange(1, 29)).sum()\n",
    "rest['exp_rest'] = (rest * exp_weights).sum(axis=1)\n",
    "play['exp_play'] = (play * exp_weights).sum(axis=1)\n",
    "\n",
    "df = pd.merge(df, rest.reset_index(), on='acc_id')\n",
    "df = pd.merge(df, play.reset_index(), on='acc_id')\n",
    "\n",
    "label = np.where(train_label.set_index('acc_id').loc[p.index]['survival_time'].values == 64, 1, 0)\n",
    "\n",
    "df.shape, label.shape"
   ]
  },
  {
   "cell_type": "markdown",
   "metadata": {},
   "source": [
    "# Expected Return"
   ]
  },
  {
   "cell_type": "code",
   "execution_count": 3,
   "metadata": {},
   "outputs": [],
   "source": [
    "sort_acc_id = p.index\n",
    "\n",
    "is_churn_label = np.where(train_label.set_index('acc_id').loc[sort_acc_id]['survival_time'].values == 64, 1, 0)\n",
    "amount_label = train_label.set_index('acc_id').loc[sort_acc_id]['amount_spent']\n",
    "survtime_label = train_label.set_index('acc_id').loc[sort_acc_id]['survival_time']"
   ]
  },
  {
   "cell_type": "code",
   "execution_count": 4,
   "metadata": {},
   "outputs": [
    {
     "data": {
      "text/plain": [
       "((21000, 424), (7000, 424), (12000, 424), (21000,), (7000,), (12000,))"
      ]
     },
     "execution_count": 4,
     "metadata": {},
     "output_type": "execute_result"
    }
   ],
   "source": [
    "from sklearn.model_selection import train_test_split\n",
    "\n",
    "X_train, X_test, y_train, y_test = train_test_split(df[df.columns[1:]], label, test_size=0.3, random_state=42)\n",
    "X_train, X_valid, y_train, y_valid = train_test_split(X_train, y_train, test_size=0.25, random_state=42)\n",
    "\n",
    "X_train.shape, X_valid.shape, X_test.shape, y_train.shape, y_valid.shape, y_test.shape"
   ]
  },
  {
   "cell_type": "code",
   "execution_count": 5,
   "metadata": {},
   "outputs": [],
   "source": [
    "y_train1 = is_churn_label[X_train.index]\n",
    "y_train1a = survtime_label.values[X_train.index]\n",
    "y_train2 = amount_label.values[X_train.index]\n",
    "\n",
    "y_valid1 = is_churn_label[X_valid.index]\n",
    "y_valid1a = survtime_label.values[X_valid.index]\n",
    "y_valid2 = amount_label.values[X_valid.index]\n",
    "\n",
    "y_test1 = is_churn_label[X_test.index]\n",
    "y_test1a = survtime_label.values[X_test.index]\n",
    "y_test2 = amount_label.values[X_test.index]"
   ]
  },
  {
   "cell_type": "code",
   "execution_count": 6,
   "metadata": {},
   "outputs": [],
   "source": [
    "import xgboost as xgb\n",
    "\n",
    "params =   {\n",
    "    'objective' : 'reg:linear',\n",
    "    'learning_rate': 0.02, \n",
    "    'gamma' : 0.3, \n",
    "    'min_child_weight' : 3,\n",
    "    'nthread' : 15,\n",
    "    'max_depth' : 30,\n",
    "    'subsample' : 0.9,\n",
    "    'eval_metric' : 'rmse',\n",
    "    'colsample_bytree' : 0.8, \n",
    "    'num_boost_round' : 500,\n",
    "    'n_estimators': 200,\n",
    "    'max_leaves': 300\n",
    "}"
   ]
  },
  {
   "cell_type": "code",
   "execution_count": 10,
   "metadata": {},
   "outputs": [
    {
     "name": "stdout",
     "output_type": "stream",
     "text": [
      "[0]\ttrain-rmse:0.816628\tvalid-rmse:0.804051\n",
      "Multiple eval metrics have been passed: 'valid-rmse' will be used for early stopping.\n",
      "\n",
      "Will train until valid-rmse hasn't improved in 30 rounds.\n",
      "[50]\ttrain-rmse:0.579939\tvalid-rmse:0.724347\n",
      "[100]\ttrain-rmse:0.45623\tvalid-rmse:0.72948\n",
      "Stopping. Best iteration:\n",
      "[71]\ttrain-rmse:0.520659\tvalid-rmse:0.7225\n",
      "\n",
      "Wall time: 2min 5s\n"
     ]
    }
   ],
   "source": [
    "VALID = True\n",
    "if VALID == True:\n",
    "\n",
    "    tr_data = xgb.DMatrix(X_train, y_train2)\n",
    "    va_data = xgb.DMatrix(X_valid, y_valid2)\n",
    "\n",
    "    watchlist = [(tr_data, 'train'), (va_data, 'valid')]\n",
    "\n",
    "    %time model2 = xgb.train(params, tr_data, 500, watchlist, maximize=False, early_stopping_rounds = 30, verbose_eval=50)"
   ]
  },
  {
   "cell_type": "code",
   "execution_count": 11,
   "metadata": {},
   "outputs": [],
   "source": [
    "model2.save_model('model2.model')"
   ]
  },
  {
   "cell_type": "code",
   "execution_count": 13,
   "metadata": {},
   "outputs": [
    {
     "data": {
      "text/plain": [
       "array([0.16520593, 0.1349616 , 0.16198963, ..., 1.5253782 , 0.19498032,\n",
       "       0.1470868 ], dtype=float32)"
      ]
     },
     "execution_count": 13,
     "metadata": {},
     "output_type": "execute_result"
    }
   ],
   "source": [
    "y_pred = model2.predict(xgb.DMatrix(X_test))\n",
    "y_pred"
   ]
  },
  {
   "cell_type": "code",
   "execution_count": 14,
   "metadata": {},
   "outputs": [
    {
     "data": {
      "text/plain": [
       "0.7218267636226796"
      ]
     },
     "execution_count": 14,
     "metadata": {},
     "output_type": "execute_result"
    }
   ],
   "source": [
    "np.sqrt(np.mean((y_test2 - y_pred) ** 2))"
   ]
  },
  {
   "cell_type": "code",
   "execution_count": 15,
   "metadata": {},
   "outputs": [],
   "source": [
    "model1 = xgb.Booster()\n",
    "model1.load_model('0004-1.model')"
   ]
  },
  {
   "cell_type": "code",
   "execution_count": 18,
   "metadata": {},
   "outputs": [
    {
     "data": {
      "text/plain": [
       "array([1, 0, 1, ..., 0, 0, 0])"
      ]
     },
     "execution_count": 18,
     "metadata": {},
     "output_type": "execute_result"
    }
   ],
   "source": [
    "y_pred = np.where(model1.predict(xgb.DMatrix(X_test)) > .5, 1, 0)\n",
    "y_pred"
   ]
  },
  {
   "cell_type": "code",
   "execution_count": 19,
   "metadata": {},
   "outputs": [
    {
     "data": {
      "text/plain": [
       "(0.7646666666666667, 0.7890017931858936)"
      ]
     },
     "execution_count": 19,
     "metadata": {},
     "output_type": "execute_result"
    }
   ],
   "source": [
    "from sklearn.metrics import accuracy_score, f1_score\n",
    "\n",
    "accuracy_score(y_test1, y_pred), f1_score(y_test1, y_pred)"
   ]
  },
  {
   "cell_type": "code",
   "execution_count": 7,
   "metadata": {},
   "outputs": [],
   "source": [
    "params =   {\n",
    "    'objective' : 'multi:softprob',\n",
    "    'learning_rate': 0.02, \n",
    "    'gamma' : 0.3, \n",
    "    'min_child_weight' : 3,\n",
    "    'nthread' : 15,\n",
    "    'max_depth' : 30,\n",
    "    'subsample' : 0.9,\n",
    "    'eval_metric' : 'merror',\n",
    "    'num_class' : 64,\n",
    "    'colsample_bytree' : 0.8, \n",
    "    'num_boost_round' : 300,\n",
    "    'n_estimators': 200,\n",
    "    'max_leaves': 300\n",
    "}"
   ]
  },
  {
   "cell_type": "code",
   "execution_count": 8,
   "metadata": {},
   "outputs": [
    {
     "name": "stdout",
     "output_type": "stream",
     "text": [
      "[0]\ttrain-merror:0.401476\tvalid-merror:0.419857\n",
      "Multiple eval metrics have been passed: 'valid-merror' will be used for early stopping.\n",
      "\n",
      "Will train until valid-merror hasn't improved in 30 rounds.\n",
      "[5]\ttrain-merror:0.38481\tvalid-merror:0.403714\n",
      "[10]\ttrain-merror:0.375619\tvalid-merror:0.399143\n",
      "[15]\ttrain-merror:0.36719\tvalid-merror:0.395\n",
      "[20]\ttrain-merror:0.35919\tvalid-merror:0.392714\n",
      "[25]\ttrain-merror:0.35181\tvalid-merror:0.39\n",
      "[30]\ttrain-merror:0.345333\tvalid-merror:0.388571\n",
      "[35]\ttrain-merror:0.339\tvalid-merror:0.386571\n",
      "[40]\ttrain-merror:0.332619\tvalid-merror:0.385714\n",
      "[45]\ttrain-merror:0.326333\tvalid-merror:0.385286\n",
      "[50]\ttrain-merror:0.320524\tvalid-merror:0.383571\n",
      "[55]\ttrain-merror:0.31519\tvalid-merror:0.383\n",
      "[60]\ttrain-merror:0.308143\tvalid-merror:0.382429\n",
      "[65]\ttrain-merror:0.301238\tvalid-merror:0.381571\n",
      "[70]\ttrain-merror:0.29419\tvalid-merror:0.381143\n",
      "[75]\ttrain-merror:0.285571\tvalid-merror:0.380286\n",
      "[80]\ttrain-merror:0.277714\tvalid-merror:0.378857\n",
      "[85]\ttrain-merror:0.268429\tvalid-merror:0.378571\n",
      "[90]\ttrain-merror:0.258762\tvalid-merror:0.377714\n",
      "[95]\ttrain-merror:0.249429\tvalid-merror:0.377286\n",
      "[100]\ttrain-merror:0.240333\tvalid-merror:0.377286\n",
      "[105]\ttrain-merror:0.230333\tvalid-merror:0.376571\n",
      "[110]\ttrain-merror:0.219333\tvalid-merror:0.376429\n",
      "[115]\ttrain-merror:0.208619\tvalid-merror:0.375571\n",
      "[120]\ttrain-merror:0.19881\tvalid-merror:0.375429\n",
      "[125]\ttrain-merror:0.18981\tvalid-merror:0.375\n",
      "[130]\ttrain-merror:0.180524\tvalid-merror:0.374714\n",
      "[135]\ttrain-merror:0.17\tvalid-merror:0.374429\n",
      "[140]\ttrain-merror:0.160333\tvalid-merror:0.374286\n",
      "[145]\ttrain-merror:0.150571\tvalid-merror:0.374\n",
      "[150]\ttrain-merror:0.141286\tvalid-merror:0.374143\n",
      "[155]\ttrain-merror:0.132238\tvalid-merror:0.373857\n",
      "[160]\ttrain-merror:0.122333\tvalid-merror:0.373714\n",
      "[165]\ttrain-merror:0.114762\tvalid-merror:0.373143\n",
      "[170]\ttrain-merror:0.106952\tvalid-merror:0.372714\n",
      "[175]\ttrain-merror:0.099429\tvalid-merror:0.372714\n",
      "[180]\ttrain-merror:0.092048\tvalid-merror:0.372857\n",
      "[185]\ttrain-merror:0.084619\tvalid-merror:0.373\n",
      "[190]\ttrain-merror:0.077619\tvalid-merror:0.372857\n",
      "[195]\ttrain-merror:0.072095\tvalid-merror:0.372571\n",
      "[200]\ttrain-merror:0.067381\tvalid-merror:0.372\n",
      "[205]\ttrain-merror:0.062333\tvalid-merror:0.371857\n",
      "[210]\ttrain-merror:0.05719\tvalid-merror:0.371857\n",
      "[215]\ttrain-merror:0.05181\tvalid-merror:0.372143\n",
      "[220]\ttrain-merror:0.048048\tvalid-merror:0.372\n",
      "[225]\ttrain-merror:0.044333\tvalid-merror:0.371714\n",
      "[230]\ttrain-merror:0.041571\tvalid-merror:0.371714\n",
      "[235]\ttrain-merror:0.038524\tvalid-merror:0.371429\n",
      "[240]\ttrain-merror:0.036095\tvalid-merror:0.371714\n",
      "[245]\ttrain-merror:0.033762\tvalid-merror:0.372143\n",
      "[250]\ttrain-merror:0.031095\tvalid-merror:0.372\n",
      "[255]\ttrain-merror:0.028905\tvalid-merror:0.372\n",
      "[260]\ttrain-merror:0.027095\tvalid-merror:0.371857\n",
      "[265]\ttrain-merror:0.025286\tvalid-merror:0.372\n",
      "Stopping. Best iteration:\n",
      "[237]\ttrain-merror:0.037619\tvalid-merror:0.371286\n",
      "\n",
      "Wall time: 2h 54s\n"
     ]
    }
   ],
   "source": [
    "VALID = True\n",
    "if VALID == True:\n",
    "\n",
    "    tr_data = xgb.DMatrix(X_train, y_train1a - 1)\n",
    "    va_data = xgb.DMatrix(X_valid, y_valid1a - 1)\n",
    "\n",
    "    watchlist = [(tr_data, 'train'), (va_data, 'valid')]\n",
    "\n",
    "    %time model1a = xgb.train(params, tr_data, 500, watchlist, maximize=False, early_stopping_rounds = 30, verbose_eval=5)"
   ]
  },
  {
   "cell_type": "code",
   "execution_count": 9,
   "metadata": {},
   "outputs": [],
   "source": [
    "model1a.save_model('model1a.model')"
   ]
  },
  {
   "cell_type": "code",
   "execution_count": 11,
   "metadata": {},
   "outputs": [],
   "source": [
    "y_pred = model1a.predict(xgb.DMatrix(X_test))"
   ]
  },
  {
   "cell_type": "code",
   "execution_count": 13,
   "metadata": {},
   "outputs": [
    {
     "data": {
      "text/plain": [
       "(12000, 64)"
      ]
     },
     "execution_count": 13,
     "metadata": {},
     "output_type": "execute_result"
    }
   ],
   "source": [
    "y_pred.shape"
   ]
  },
  {
   "cell_type": "code",
   "execution_count": 23,
   "metadata": {},
   "outputs": [
    {
     "data": {
      "text/plain": [
       "array([64, 64, 64, ...,  1, 64, 64], dtype=int64)"
      ]
     },
     "execution_count": 23,
     "metadata": {},
     "output_type": "execute_result"
    }
   ],
   "source": [
    "y_pred.argmax(axis=1) + 1"
   ]
  },
  {
   "cell_type": "code",
   "execution_count": 24,
   "metadata": {},
   "outputs": [
    {
     "data": {
      "text/plain": [
       "array([41, 20, 64, ...,  1, 64, 64], dtype=int64)"
      ]
     },
     "execution_count": 24,
     "metadata": {},
     "output_type": "execute_result"
    }
   ],
   "source": [
    "y_test1a"
   ]
  },
  {
   "cell_type": "code",
   "execution_count": 22,
   "metadata": {},
   "outputs": [
    {
     "data": {
      "text/plain": [
       "0.62875"
      ]
     },
     "execution_count": 22,
     "metadata": {},
     "output_type": "execute_result"
    }
   ],
   "source": [
    "from sklearn.metrics import accuracy_score\n",
    "accuracy_score(y_test1a, y_pred.argmax(axis=1) + 1)"
   ]
  },
  {
   "cell_type": "code",
   "execution_count": 30,
   "metadata": {},
   "outputs": [
    {
     "data": {
      "text/plain": [
       "0.2011747430249633"
      ]
     },
     "execution_count": 30,
     "metadata": {},
     "output_type": "execute_result"
    }
   ],
   "source": [
    "churn_acc = np.where(y_test1a != 64)[0]\n",
    "accuracy_score(y_test1a[churn_acc], (y_pred.argmax(axis=1) + 1)[churn_acc])"
   ]
  },
  {
   "cell_type": "code",
   "execution_count": 31,
   "metadata": {},
   "outputs": [],
   "source": [
    "from score_function import score_function"
   ]
  },
  {
   "cell_type": "code",
   "execution_count": 33,
   "metadata": {},
   "outputs": [],
   "source": [
    "model2 = xgb.Booster()\n",
    "model2.load_model('model2.model')"
   ]
  },
  {
   "cell_type": "code",
   "execution_count": 63,
   "metadata": {},
   "outputs": [],
   "source": [
    "train = df.set_index('acc_id')"
   ]
  },
  {
   "cell_type": "code",
   "execution_count": 134,
   "metadata": {},
   "outputs": [],
   "source": [
    "surv_true = train_label.sort_values('acc_id')['survival_time'].values\n",
    "amount_true = train_label.sort_values('acc_id')['amount_spent'].values"
   ]
  },
  {
   "cell_type": "code",
   "execution_count": 135,
   "metadata": {},
   "outputs": [],
   "source": [
    "surv_pred = model1a.predict(xgb.DMatrix(train)).argmax(axis=1) + 1\n",
    "amount_pred = model2.predict(xgb.DMatrix(train))"
   ]
  },
  {
   "cell_type": "code",
   "execution_count": 136,
   "metadata": {},
   "outputs": [],
   "source": [
    "acc_id = train_label.sort_values('acc_id').acc_id.values"
   ]
  },
  {
   "cell_type": "code",
   "execution_count": 137,
   "metadata": {},
   "outputs": [],
   "source": [
    "y_true = pd.DataFrame(np.concatenate((\n",
    "                acc_id.reshape(-1, 1), \n",
    "                surv_true.reshape(-1, 1), \n",
    "                amount_true.reshape(-1, 1)), axis=1),\n",
    "             columns=['acc_id', 'survival_time', 'amount_spent'])\n",
    "\n",
    "y_pred = pd.DataFrame(np.concatenate((\n",
    "                acc_id.reshape(-1, 1), \n",
    "                surv_pred.reshape(-1, 1), \n",
    "                amount_pred.reshape(-1, 1)), axis=1),\n",
    "             columns=['acc_id', 'survival_time', 'amount_spent'])"
   ]
  },
  {
   "cell_type": "markdown",
   "metadata": {},
   "source": [
    "# train 결과 분석"
   ]
  },
  {
   "cell_type": "code",
   "execution_count": 142,
   "metadata": {},
   "outputs": [
    {
     "data": {
      "text/plain": [
       "array([[ 5281, 12723],\n",
       "       [ 6572, 15424]], dtype=int64)"
      ]
     },
     "execution_count": 142,
     "metadata": {},
     "output_type": "execute_result"
    }
   ],
   "source": [
    "from sklearn.metrics import confusion_matrix\n",
    "confusion_matrix(np.where(surv_true == 64, 1, 0), \n",
    "                 np.where(surv_pred == 64, 1, 0))"
   ]
  },
  {
   "cell_type": "code",
   "execution_count": 143,
   "metadata": {},
   "outputs": [
    {
     "data": {
      "text/plain": [
       "0.517625"
      ]
     },
     "execution_count": 143,
     "metadata": {},
     "output_type": "execute_result"
    }
   ],
   "source": [
    "from sklearn.metrics import accuracy_score\n",
    "accuracy_score(np.where(surv_true == 64, 1, 0), \n",
    "                 np.where(surv_pred == 64, 1, 0))"
   ]
  },
  {
   "cell_type": "code",
   "execution_count": 149,
   "metadata": {},
   "outputs": [
    {
     "data": {
      "text/plain": [
       "<matplotlib.collections.PathCollection at 0x1a8cb26af28>"
      ]
     },
     "execution_count": 149,
     "metadata": {},
     "output_type": "execute_result"
    },
    {
     "data": {
      "image/png": "[encoded data removed]",
      "text/plain": [
       "<Figure size 432x288 with 1 Axes>"
      ]
     },
     "metadata": {},
     "output_type": "display_data"
    }
   ],
   "source": [
    "plt.scatter(surv_true[surv_true != 64], surv_pred[surv_true != 64]) # 예측을 굉장히 못한 것을 확인할 수 있다."
   ]
  },
  {
   "cell_type": "code",
   "execution_count": 83,
   "metadata": {},
   "outputs": [],
   "source": [
    "y_true.to_csv('true.csv', index=False)\n",
    "y_pred.to_csv('predict.csv', index=False)"
   ]
  },
  {
   "cell_type": "code",
   "execution_count": 94,
   "metadata": {},
   "outputs": [
    {
     "name": "stdout",
     "output_type": "stream",
     "text": [
      "2072.6570990180185\n"
     ]
    }
   ],
   "source": [
    "score = score_function('predict.csv', 'train_label.csv')"
   ]
  },
  {
   "cell_type": "code",
   "execution_count": 95,
   "metadata": {},
   "outputs": [],
   "source": [
    "from os import listdir\n",
    "li1, li2 = listdir('./test1/'), listdir('./test2/')\n",
    "\n",
    "import sys\n",
    "mod = sys.modules[__name__]\n",
    "for name1, name2 in zip(li1, li2):\n",
    "    setattr(mod, name1.split('.')[0], pd.read_csv('./test1/' + name1))\n",
    "    setattr(mod, name2.split('.')[0], pd.read_csv('./test2/' + name2))"
   ]
  },
  {
   "cell_type": "code",
   "execution_count": 96,
   "metadata": {},
   "outputs": [
    {
     "data": {
      "text/plain": [
       "((709928, 17), (696577, 13), (459923, 15), (735652, 11), (24829, 3))"
      ]
     },
     "execution_count": 96,
     "metadata": {},
     "output_type": "execute_result"
    }
   ],
   "source": [
    "test1_activity.shape, test1_combat.shape, test1_pledge.shape, test1_trade.shape, test1_payment.shape"
   ]
  },
  {
   "cell_type": "code",
   "execution_count": 97,
   "metadata": {},
   "outputs": [],
   "source": [
    "def preprocess1(activity):\n",
    "\n",
    "    df = activity[\n",
    "            [col for col in activity.columns if col not in ['server',  'char_id']]\n",
    "        ].groupby(['day', 'acc_id']).sum().reset_index()\n",
    "\n",
    "    df_grouped = df.groupby('day')\n",
    "    p = df_grouped.get_group(1)\n",
    "    for i in range(2, 29):\n",
    "        p = pd.merge(p, df_grouped.get_group(i), on='acc_id', how='outer',\n",
    "                     suffixes=('_'+str(i-1), '_'+str(i)))\n",
    "    p = p[[col for col in p.columns if ('day' not in col) & ('char' not in col)]]\n",
    "    p = p.fillna(0).set_index('acc_id')\n",
    "\n",
    "    playtime_daily = activity.groupby(['acc_id', 'day'])['playtime'].sum().unstack().fillna(0)\n",
    "    exp_weights = np.sqrt(np.arange(1, 29)) / np.sqrt(np.arange(1, 29)).sum()\n",
    "    playtime_exp = playtime_daily * exp_weights\n",
    "    playtime_exp.sum(axis=1).plot.hist(bins=25, grid=True)\n",
    "\n",
    "    df = p.reset_index()\n",
    "    p2 = pd.DataFrame(playtime_exp.sum(axis=1), columns=['exp_playtime']).reset_index()\n",
    "    df = pd.merge(df, p2, on='acc_id')\n",
    "\n",
    "    d = pd.DataFrame(list(set([(i, j) for i,j in activity[['day', 'acc_id']].values])), columns=['day', 'acc_id'])\n",
    "    df = pd.merge(df, d.groupby('acc_id').count().reset_index(), on='acc_id')\n",
    "\n",
    "    train_act_time = activity[['acc_id', 'day', 'playtime', 'fishing', 'private_shop']]\n",
    "    train_act_time = train_act_time.groupby(['acc_id', 'day']).sum()\n",
    "    train_act_time['resttime'] = train_act_time['fishing'] + train_act_time['private_shop']\n",
    "    train_act_time['tr_play'] = (train_act_time['playtime'] - train_act_time['resttime']) / train_act_time['playtime']\n",
    "    train_act_time['tr_rest'] = train_act_time['resttime'] / train_act_time['playtime']\n",
    "    rest = train_act_time['tr_rest'].unstack().fillna(1)\n",
    "    play = train_act_time['tr_play'].unstack().fillna(0)\n",
    "\n",
    "    rest.columns = ['rest_'+str(i) for i in range(1, 29)]\n",
    "    play.columns = ['play_'+str(i) for i in range(1, 29)]\n",
    "\n",
    "    exp_weights = np.sqrt(np.arange(1, 29)) / np.sqrt(np.arange(1, 29)).sum()\n",
    "    rest['exp_rest'] = (rest * exp_weights).sum(axis=1)\n",
    "    play['exp_play'] = (play * exp_weights).sum(axis=1)\n",
    "\n",
    "    df = pd.merge(df, rest.reset_index(), on='acc_id')\n",
    "    df = pd.merge(df, play.reset_index(), on='acc_id')\n",
    "    return df"
   ]
  },
  {
   "cell_type": "code",
   "execution_count": 101,
   "metadata": {},
   "outputs": [
    {
     "data": {
      "image/png": "[encoded data removed]",
      "text/plain": [
       "<Figure size 432x288 with 1 Axes>"
      ]
     },
     "metadata": {},
     "output_type": "display_data"
    }
   ],
   "source": [
    "df1 = preprocess1(test1_activity)\n",
    "df2 = preprocess1(test2_activity)"
   ]
  },
  {
   "cell_type": "code",
   "execution_count": 132,
   "metadata": {},
   "outputs": [],
   "source": [
    "test1 = df1.set_index('acc_id')\n",
    "test2 = df2.set_index('acc_id')"
   ]
  },
  {
   "cell_type": "code",
   "execution_count": 133,
   "metadata": {},
   "outputs": [
    {
     "ename": "KeyboardInterrupt",
     "evalue": "",
     "output_type": "error",
     "traceback": [
      "\u001b[1;31m---------------------------------------------------------------------------\u001b[0m",
      "\u001b[1;31mKeyboardInterrupt\u001b[0m                         Traceback (most recent call last)",
      "\u001b[1;32m<ipython-input-133-47e81a5f9c8c>\u001b[0m in \u001b[0;36m<module>\u001b[1;34m()\u001b[0m\n\u001b[1;32m----> 1\u001b[1;33m \u001b[0msurv_pred1\u001b[0m \u001b[1;33m=\u001b[0m \u001b[0mmodel1a\u001b[0m\u001b[1;33m.\u001b[0m\u001b[0mpredict\u001b[0m\u001b[1;33m(\u001b[0m\u001b[0mxgb\u001b[0m\u001b[1;33m.\u001b[0m\u001b[0mDMatrix\u001b[0m\u001b[1;33m(\u001b[0m\u001b[0mtest1\u001b[0m\u001b[1;33m)\u001b[0m\u001b[1;33m)\u001b[0m\u001b[1;33m.\u001b[0m\u001b[0margmax\u001b[0m\u001b[1;33m(\u001b[0m\u001b[0maxis\u001b[0m\u001b[1;33m=\u001b[0m\u001b[1;36m1\u001b[0m\u001b[1;33m)\u001b[0m \u001b[1;33m+\u001b[0m \u001b[1;36m1\u001b[0m\u001b[1;33m\u001b[0m\u001b[0m\n\u001b[0m\u001b[0;32m      2\u001b[0m \u001b[0mamount_pred1\u001b[0m \u001b[1;33m=\u001b[0m \u001b[0mmodel2\u001b[0m\u001b[1;33m.\u001b[0m\u001b[0mpredict\u001b[0m\u001b[1;33m(\u001b[0m\u001b[0mxgb\u001b[0m\u001b[1;33m.\u001b[0m\u001b[0mDMatrix\u001b[0m\u001b[1;33m(\u001b[0m\u001b[0mtest1\u001b[0m\u001b[1;33m)\u001b[0m\u001b[1;33m)\u001b[0m\u001b[1;33m\u001b[0m\u001b[0m\n\u001b[0;32m      3\u001b[0m \u001b[1;33m\u001b[0m\u001b[0m\n\u001b[0;32m      4\u001b[0m \u001b[0msurv_pred2\u001b[0m \u001b[1;33m=\u001b[0m \u001b[0mmodel1a\u001b[0m\u001b[1;33m.\u001b[0m\u001b[0mpredict\u001b[0m\u001b[1;33m(\u001b[0m\u001b[0mxgb\u001b[0m\u001b[1;33m.\u001b[0m\u001b[0mDMatrix\u001b[0m\u001b[1;33m(\u001b[0m\u001b[0mtest2\u001b[0m\u001b[1;33m)\u001b[0m\u001b[1;33m)\u001b[0m\u001b[1;33m.\u001b[0m\u001b[0margmax\u001b[0m\u001b[1;33m(\u001b[0m\u001b[0maxis\u001b[0m\u001b[1;33m=\u001b[0m\u001b[1;36m1\u001b[0m\u001b[1;33m)\u001b[0m \u001b[1;33m+\u001b[0m \u001b[1;36m1\u001b[0m\u001b[1;33m\u001b[0m\u001b[0m\n\u001b[0;32m      5\u001b[0m \u001b[0mamount_pred2\u001b[0m \u001b[1;33m=\u001b[0m \u001b[0mmodel2\u001b[0m\u001b[1;33m.\u001b[0m\u001b[0mpredict\u001b[0m\u001b[1;33m(\u001b[0m\u001b[0mxgb\u001b[0m\u001b[1;33m.\u001b[0m\u001b[0mDMatrix\u001b[0m\u001b[1;33m(\u001b[0m\u001b[0mtest2\u001b[0m\u001b[1;33m)\u001b[0m\u001b[1;33m)\u001b[0m\u001b[1;33m\u001b[0m\u001b[0m\n",
      "\u001b[1;32m~\\Anaconda3\\envs\\ds\\lib\\site-packages\\xgboost\\core.py\u001b[0m in \u001b[0;36mpredict\u001b[1;34m(self, data, output_margin, ntree_limit, pred_leaf, pred_contribs, approx_contribs, pred_interactions)\u001b[0m\n\u001b[0;32m   1056\u001b[0m                                           \u001b[0mctypes\u001b[0m\u001b[1;33m.\u001b[0m\u001b[0mc_uint\u001b[0m\u001b[1;33m(\u001b[0m\u001b[0mntree_limit\u001b[0m\u001b[1;33m)\u001b[0m\u001b[1;33m,\u001b[0m\u001b[1;33m\u001b[0m\u001b[0m\n\u001b[0;32m   1057\u001b[0m                                           \u001b[0mctypes\u001b[0m\u001b[1;33m.\u001b[0m\u001b[0mbyref\u001b[0m\u001b[1;33m(\u001b[0m\u001b[0mlength\u001b[0m\u001b[1;33m)\u001b[0m\u001b[1;33m,\u001b[0m\u001b[1;33m\u001b[0m\u001b[0m\n\u001b[1;32m-> 1058\u001b[1;33m                                           ctypes.byref(preds)))\n\u001b[0m\u001b[0;32m   1059\u001b[0m         \u001b[0mpreds\u001b[0m \u001b[1;33m=\u001b[0m \u001b[0mctypes2numpy\u001b[0m\u001b[1;33m(\u001b[0m\u001b[0mpreds\u001b[0m\u001b[1;33m,\u001b[0m \u001b[0mlength\u001b[0m\u001b[1;33m.\u001b[0m\u001b[0mvalue\u001b[0m\u001b[1;33m,\u001b[0m \u001b[0mnp\u001b[0m\u001b[1;33m.\u001b[0m\u001b[0mfloat32\u001b[0m\u001b[1;33m)\u001b[0m\u001b[1;33m\u001b[0m\u001b[0m\n\u001b[0;32m   1060\u001b[0m         \u001b[1;32mif\u001b[0m \u001b[0mpred_leaf\u001b[0m\u001b[1;33m:\u001b[0m\u001b[1;33m\u001b[0m\u001b[0m\n",
      "\u001b[1;31mKeyboardInterrupt\u001b[0m: "
     ]
    }
   ],
   "source": [
    "surv_pred1 = model1a.predict(xgb.DMatrix(test1)).argmax(axis=1) + 1\n",
    "amount_pred1 = model2.predict(xgb.DMatrix(test1))\n",
    "\n",
    "surv_pred2 = model1a.predict(xgb.DMatrix(test2)).argmax(axis=1) + 1\n",
    "amount_pred2 = model2.predict(xgb.DMatrix(test2))"
   ]
  },
  {
   "cell_type": "code",
   "execution_count": 110,
   "metadata": {},
   "outputs": [],
   "source": [
    "y_pred1 = pd.DataFrame(np.concatenate((\n",
    "                np.array(test1.index).reshape(-1, 1), \n",
    "                surv_pred1.reshape(-1, 1), \n",
    "                amount_pred1.reshape(-1, 1)), axis=1),\n",
    "             columns=['acc_id', 'survival_time', 'amount_spent'])\n",
    "\n",
    "y_pred2 = pd.DataFrame(np.concatenate((\n",
    "                np.array(test2.index).reshape(-1, 1), \n",
    "                surv_pred2.reshape(-1, 1), \n",
    "                amount_pred2.reshape(-1, 1)), axis=1),\n",
    "             columns=['acc_id', 'survival_time', 'amount_spent'])"
   ]
  },
  {
   "cell_type": "code",
   "execution_count": 113,
   "metadata": {},
   "outputs": [],
   "source": []
  },
  {
   "cell_type": "code",
   "execution_count": 119,
   "metadata": {},
   "outputs": [],
   "source": [
    "y_pred1['amount_spent'] = np.where(y_pred1['amount_spent'] < 0, 0, y_pred1['amount_spent'])\n",
    "y_pred2['amount_spent'] = np.where(y_pred2['amount_spent'] < 0, 0, y_pred2['amount_spent'])"
   ]
  },
  {
   "cell_type": "code",
   "execution_count": 121,
   "metadata": {},
   "outputs": [],
   "source": [
    "y_pred1.to_csv('test1_predict.csv', index=False, encoding='utf-8')\n",
    "y_pred2.to_csv('test2_predict.csv', index=False, encoding='utf-8')"
   ]
  }
 ],
 "metadata": {
  "kernelspec": {
   "display_name": "ds",
   "language": "python",
   "name": "ds"
  },
  "language_info": {
   "codemirror_mode": {
    "name": "ipython",
    "version": 3
   },
   "file_extension": ".py",
   "mimetype": "text/x-python",
   "name": "python",
   "nbconvert_exporter": "python",
   "pygments_lexer": "ipython3",
   "version": "3.6.5"
  }
 },
 "nbformat": 4,
 "nbformat_minor": 2
}
