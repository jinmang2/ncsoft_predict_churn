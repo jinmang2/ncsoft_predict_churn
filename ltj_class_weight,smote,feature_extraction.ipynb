{
 "cells": [
  {
   "cell_type": "code",
   "execution_count": 1,
   "metadata": {},
   "outputs": [],
   "source": [
    "import numpy as np\n",
    "import pandas as pd\n",
    "from sklearn.cluster import KMeans\n",
    "import matplotlib.pyplot as plt\n",
    "import seaborn as sns\n",
    "import os\n",
    "%matplotlib inline\n",
    "\n",
    "from sklearn.metrics import roc_curve, precision_recall_curve, auc, make_scorer, recall_score, accuracy_score, precision_score, confusion_matrix"
   ]
  },
  {
   "cell_type": "code",
   "execution_count": 2,
   "metadata": {},
   "outputs": [],
   "source": [
    "merge_all_flatten = pd.read_csv('./merge_all_flatten.csv')"
   ]
  },
  {
   "cell_type": "code",
   "execution_count": 3,
   "metadata": {},
   "outputs": [],
   "source": [
    "label_dir ='C:/Users/Affinity/Desktop/study/빅콘테스트/2019빅콘테스트_챔피언스리그_데이터_수정/train_label_add.csv'\n",
    "train_label = pd.read_csv(label_dir)\n",
    "del train_label['Unnamed: 0']"
   ]
  },
  {
   "cell_type": "code",
   "execution_count": 4,
   "metadata": {},
   "outputs": [],
   "source": [
    "merge_all = pd.merge(merge_all_flatten, train_label, on = 'acc_id')"
   ]
  },
  {
   "cell_type": "code",
   "execution_count": 5,
   "metadata": {},
   "outputs": [
    {
     "data": {
      "text/plain": [
       "(40000, 405)"
      ]
     },
     "execution_count": 5,
     "metadata": {},
     "output_type": "execute_result"
    }
   ],
   "source": [
    "merge_all.shape"
   ]
  },
  {
   "cell_type": "code",
   "execution_count": 6,
   "metadata": {},
   "outputs": [],
   "source": [
    "# merge_all.rename(columns = {'amount_spent_x' : 'amount_apent'}, inplace = True)\n",
    "merge_all.rename(columns = {'amount_spent_x' : 'amount_spent'}, inplace = True)"
   ]
  },
  {
   "cell_type": "markdown",
   "metadata": {},
   "source": [
    "-----------------------------------------데이터 준비 완료-------------------------------------------"
   ]
  },
  {
   "cell_type": "markdown",
   "metadata": {},
   "source": [
    "### class weight을 위해 우선 이진분류로 데이터 쳐내기"
   ]
  },
  {
   "cell_type": "code",
   "execution_count": 14,
   "metadata": {
    "collapsed": true
   },
   "outputs": [
    {
     "name": "stdout",
     "output_type": "stream",
     "text": [
      "[13:52:35] WARNING: C:/Jenkins/workspace/xgboost-win64_release_0.90/src/objective/regression_obj.cu:170: gpu:binary:logistic is now deprecated, use binary:logistic instead.\n"
     ]
    },
    {
     "name": "stderr",
     "output_type": "stream",
     "text": [
      "C:\\ProgramData\\Anaconda3\\envs\\mypython\\lib\\site-packages\\sklearn\\base.py:306: UserWarning: Trying to unpickle estimator LabelEncoder from version 0.21.3 when using version 0.21.2. This might lead to breaking code or invalid results. Use at your own risk.\n",
      "  UserWarning)\n",
      "C:\\ProgramData\\Anaconda3\\envs\\mypython\\lib\\site-packages\\sklearn\\base.py:306: UserWarning: Trying to unpickle estimator GridSearchCV from version 0.21.3 when using version 0.21.2. This might lead to breaking code or invalid results. Use at your own risk.\n",
      "  UserWarning)\n"
     ]
    }
   ],
   "source": [
    "import pickle\n",
    "with open('./grid_model_bin.pkl', 'rb') as f:\n",
    "    grid_model_bin = pickle.load(f)"
   ]
  },
  {
   "cell_type": "code",
   "execution_count": 27,
   "metadata": {},
   "outputs": [
    {
     "data": {
      "text/plain": [
       "((28000, 400), (12000, 400), (28000,), (12000,))"
      ]
     },
     "execution_count": 27,
     "metadata": {},
     "output_type": "execute_result"
    }
   ],
   "source": [
    "from sklearn.model_selection import train_test_split\n",
    "\n",
    "X_train, X_test, y_train, y_test = train_test_split(merge_all.drop(['acc_id',\n",
    "                                 'amount_spent_y',\n",
    "                                 'total_spent',\n",
    "                                 'secession',\n",
    "                                 'survival_time'], axis=1),\n",
    "                                 merge_all.secession,\n",
    "                                 test_size = 0.3, random_state=42)\n",
    "# X_train, X_valid, y_train, y_valid = train_test_split(X_train, y_train, test_size = 0.25, random_state=42)\n",
    "\n",
    "X_train.shape, X_test.shape, y_train.shape, y_test.shape"
   ]
  },
  {
   "cell_type": "code",
   "execution_count": null,
   "metadata": {},
   "outputs": [],
   "source": [
    "y_pred = np.where(grid_model_bin.predict_proba(X_test)[:,1] > 0.45, 1, 0)\n",
    "# = predictions = [round(value) for value in y_pred]\n",
    "precision = ((y_test == 0) & (y_pred == 0)).sum() / (y_pred == 0).sum()\n",
    "accuracy_score(y_test, y_pred), f1_score(y_test, y_pred), precision, ((y_test == 0) & (y_pred == 0)).sum(),(y_pred==0).sum()"
   ]
  },
  {
   "cell_type": "code",
   "execution_count": null,
   "metadata": {},
   "outputs": [],
   "source": []
  },
  {
   "cell_type": "markdown",
   "metadata": {},
   "source": [
    "### class weight 함수에 입력할 class 비율 계산"
   ]
  },
  {
   "cell_type": "code",
   "execution_count": 8,
   "metadata": {},
   "outputs": [],
   "source": [
    "import pandas as pd\n",
    "from collections import Counter\n",
    "\n",
    "def get_class_weights(y):\n",
    "    counter = Counter(y)\n",
    "    majority = max(counter.values())\n",
    "    return  {cls: round(float(majority)/float(count), 2) for cls, count in counter.items()}"
   ]
  },
  {
   "cell_type": "code",
   "execution_count": 10,
   "metadata": {},
   "outputs": [
    {
     "data": {
      "image/png": "[encoded data removed]",
      "text/plain": [
       "<Figure size 432x288 with 1 Axes>"
      ]
     },
     "metadata": {
      "needs_background": "light"
     },
     "output_type": "display_data"
    }
   ],
   "source": [
    "fig = \n",
    "merge_all['survival_time'].value_counts().sort_values().plot(kind='barh', title='survival time counter')\n",
    "plt.show()"
   ]
  },
  {
   "cell_type": "markdown",
   "metadata": {},
   "source": [
    "### merge_all_sub로 smote 비교"
   ]
  },
  {
   "cell_type": "code",
   "execution_count": 7,
   "metadata": {},
   "outputs": [],
   "source": [
    "merge_all_sub = merge_all.copy()"
   ]
  },
  {
   "cell_type": "code",
   "execution_count": 8,
   "metadata": {},
   "outputs": [],
   "source": [
    "time_freq = pd.DataFrame(merge_all_sub['survival_time'].value_counts()).reset_index()\n",
    "time_freq.columns = ['survival_time', 'freq']"
   ]
  },
  {
   "cell_type": "code",
   "execution_count": 9,
   "metadata": {},
   "outputs": [],
   "source": [
    "dic = {}\n",
    "for i in range(1,13):\n",
    "    dic[i] = 1\n",
    "    \n",
    "for j in range(13,30):\n",
    "    dic[j] = 2\n",
    "    \n",
    "for z in range(30,64):\n",
    "    dic[z] = 3\n",
    "\n",
    "dic[64] = 4\n",
    "\n",
    "time_freq['range'] = time_freq['survival_time'].map(dic)"
   ]
  },
  {
   "cell_type": "code",
   "execution_count": 10,
   "metadata": {},
   "outputs": [
    {
     "data": {
      "text/html": [
       "<div>\n",
       "<style scoped>\n",
       "    .dataframe tbody tr th:only-of-type {\n",
       "        vertical-align: middle;\n",
       "    }\n",
       "\n",
       "    .dataframe tbody tr th {\n",
       "        vertical-align: top;\n",
       "    }\n",
       "\n",
       "    .dataframe thead th {\n",
       "        text-align: right;\n",
       "    }\n",
       "</style>\n",
       "<table border=\"1\" class=\"dataframe\">\n",
       "  <thead>\n",
       "    <tr style=\"text-align: right;\">\n",
       "      <th></th>\n",
       "      <th>survival_time</th>\n",
       "      <th>freq</th>\n",
       "    </tr>\n",
       "    <tr>\n",
       "      <th>range</th>\n",
       "      <th></th>\n",
       "      <th></th>\n",
       "    </tr>\n",
       "  </thead>\n",
       "  <tbody>\n",
       "    <tr>\n",
       "      <th>1</th>\n",
       "      <td>78</td>\n",
       "      <td>6252</td>\n",
       "    </tr>\n",
       "    <tr>\n",
       "      <th>2</th>\n",
       "      <td>357</td>\n",
       "      <td>6307</td>\n",
       "    </tr>\n",
       "    <tr>\n",
       "      <th>3</th>\n",
       "      <td>1581</td>\n",
       "      <td>5445</td>\n",
       "    </tr>\n",
       "    <tr>\n",
       "      <th>4</th>\n",
       "      <td>64</td>\n",
       "      <td>21996</td>\n",
       "    </tr>\n",
       "  </tbody>\n",
       "</table>\n",
       "</div>"
      ],
      "text/plain": [
       "       survival_time   freq\n",
       "range                      \n",
       "1                 78   6252\n",
       "2                357   6307\n",
       "3               1581   5445\n",
       "4                 64  21996"
      ]
     },
     "execution_count": 10,
     "metadata": {},
     "output_type": "execute_result"
    }
   ],
   "source": [
    "time_freq.groupby('range').sum()"
   ]
  },
  {
   "cell_type": "code",
   "execution_count": 11,
   "metadata": {},
   "outputs": [
    {
     "data": {
      "text/plain": [
       "(40000, 406)"
      ]
     },
     "execution_count": 11,
     "metadata": {},
     "output_type": "execute_result"
    }
   ],
   "source": [
    "merge_all_sub['survival_term'] = merge_all_sub['survival_time'].map(dic)\n",
    "merge_all_sub.shape"
   ]
  },
  {
   "cell_type": "markdown",
   "metadata": {},
   "source": [
    "# smote가 아닌 weight를 조정해서 분석 해보기"
   ]
  },
  {
   "cell_type": "code",
   "execution_count": 12,
   "metadata": {},
   "outputs": [
    {
     "data": {
      "text/plain": [
       "((28000, 401), (12000, 401), (28000,), (12000,))"
      ]
     },
     "execution_count": 12,
     "metadata": {},
     "output_type": "execute_result"
    }
   ],
   "source": [
    "from sklearn.model_selection import train_test_split\n",
    "\n",
    "X_train, X_test, y_train, y_test = train_test_split(merge_all_sub.drop([\n",
    "                                 'amount_spent_y',\n",
    "                                 'total_spent',\n",
    "                                 'secession',\n",
    "                                 'survival_time',\n",
    "                                'survival_term'], axis=1),\n",
    "                                 merge_all_sub.survival_term,\n",
    "                                 test_size = 0.3, random_state=42)\n",
    "# X_train, X_valid, y_train, y_valid = train_test_split(X_train, y_train, test_size = 0.25, random_state=42)\n",
    "\n",
    "X_train.shape, X_test.shape, y_train.shape, y_test.shape"
   ]
  },
  {
   "cell_type": "code",
   "execution_count": 13,
   "metadata": {},
   "outputs": [],
   "source": [
    "# sample_weight에 입력 할 list 생성\n",
    "\n",
    "# 기본 공식\n",
    "# 낮은 % / 높은 % ( 둘이 합쳤을 떄 100% 기준 )\n",
    "\n",
    "import pandas as pd\n",
    "from collections import Counter\n",
    "\n",
    "def get_class_weights(y):\n",
    "    counter = Counter(y)\n",
    "    majority = max(counter.values())\n",
    "    return  {cls: round(float(majority)/float(count), 2) for cls, count in counter.items()}\n",
    "\n",
    "\n",
    "# dic = get_class_weights(y_train)\n",
    "\n",
    "# w1 = np.array(y_train.map(dic))"
   ]
  },
  {
   "cell_type": "code",
   "execution_count": null,
   "metadata": {},
   "outputs": [],
   "source": [
    "import xgboost as xgb\n",
    "\n",
    "np.random.seed(42)\n",
    "\n",
    "xg_clf = xgb.XGBClassifier(colsample_bytree=0.7,\n",
    "              base_score = 0.5,\n",
    "              colsample_bylevel=1,\n",
    "              colsample_bynode=1,\n",
    "              objective='binary:logistic',\n",
    "              max_delta_step=0,\n",
    "              missing=None,\n",
    "              n_jobs=1,\n",
    "              reg_alpha=0,\n",
    "              reg_lambda=1,\n",
    "              scale_pos_weight=1,\n",
    "              silent=None,\n",
    "              nthread=4,\n",
    "              gamma = 0,\n",
    "              learning_rate= 0.05, \n",
    "              max_depth= 8,\n",
    "              min_child_weight= 5, \n",
    "              subsample= 0.9,\n",
    "              n_estimators= 1000,\n",
    "               tree_method='gpu_hist',\n",
    "               predictor='gpu_predictor')\n",
    "\n",
    "# eval_set = [(X_train, y_train), (X_valid, y_valid)]\n",
    "# eval_set = eval_set,\n",
    "\n",
    "xg_clf.fit(X_train.drop('acc_id', axis=1),y_train, sample_weight = w1)"
   ]
  },
  {
   "cell_type": "code",
   "execution_count": null,
   "metadata": {},
   "outputs": [],
   "source": [
    "y_pred = np.where(xg_clf.predict_proba(X_test.drop('acc_id', axis=1))[:,1] > 0.5, 1, 0)\n",
    "# = predictions = [round(value) for value in y_pred]\n",
    "precision = ((y_test == 0) & (y_pred == 0)).sum() / (y_pred == 0).sum()\n",
    "accuracy_score(y_test, y_pred), f1_score(y_test, y_pred), precision, ((y_test == 0) & (y_pred == 0)).sum(),(y_pred==0).sum()"
   ]
  },
  {
   "cell_type": "markdown",
   "metadata": {},
   "source": [
    "# smote 비교하기"
   ]
  },
  {
   "cell_type": "code",
   "execution_count": 14,
   "metadata": {},
   "outputs": [
    {
     "data": {
      "text/plain": [
       "<matplotlib.axes._subplots.AxesSubplot at 0x2ab7c809278>"
      ]
     },
     "execution_count": 14,
     "metadata": {},
     "output_type": "execute_result"
    },
    {
     "data": {
      "image/png": "[encoded data removed]",
      "text/plain": [
       "<Figure size 432x288 with 1 Axes>"
      ]
     },
     "metadata": {
      "needs_background": "light"
     },
     "output_type": "display_data"
    }
   ],
   "source": [
    "y_test.value_counts().sort_index().plot(kind = 'bar')"
   ]
  },
  {
   "cell_type": "code",
   "execution_count": 15,
   "metadata": {
    "scrolled": true
   },
   "outputs": [
    {
     "name": "stderr",
     "output_type": "stream",
     "text": [
      "Using TensorFlow backend.\n"
     ]
    }
   ],
   "source": [
    "from imblearn.under_sampling import EditedNearestNeighbours\n",
    "\n",
    "enn = EditedNearestNeighbours(kind_sel = 'all', random_state=42)\n",
    "X_enn, y_enn = enn.fit_resample(X_train.drop('acc_id', axis=1), y_train)"
   ]
  },
  {
   "cell_type": "code",
   "execution_count": 16,
   "metadata": {},
   "outputs": [
    {
     "data": {
      "text/plain": [
       "4    5737\n",
       "3    3851\n",
       "1    1253\n",
       "2     388\n",
       "dtype: int64"
      ]
     },
     "execution_count": 16,
     "metadata": {},
     "output_type": "execute_result"
    }
   ],
   "source": [
    "pd.Series(y_enn).value_counts()"
   ]
  },
  {
   "cell_type": "code",
   "execution_count": 17,
   "metadata": {},
   "outputs": [],
   "source": [
    "from imblearn.under_sampling import EditedNearestNeighbours\n",
    "\n",
    "enn = EditedNearestNeighbours(kind_sel = 'mode', random_state=42)\n",
    "X_enn_mode, y_enn_mode = enn.fit_resample(X_train.drop('acc_id', axis=1), y_train)"
   ]
  },
  {
   "cell_type": "code",
   "execution_count": 18,
   "metadata": {},
   "outputs": [
    {
     "data": {
      "text/plain": [
       "4    11013\n",
       "3     3851\n",
       "1     2286\n",
       "2     1242\n",
       "dtype: int64"
      ]
     },
     "execution_count": 18,
     "metadata": {},
     "output_type": "execute_result"
    }
   ],
   "source": [
    "pd.Series(y_enn_mode).value_counts()"
   ]
  },
  {
   "cell_type": "code",
   "execution_count": 34,
   "metadata": {},
   "outputs": [],
   "source": [
    "dic = get_class_weights(y_enn_mode)\n",
    "\n",
    "w1 = np.array(pd.Series(y_enn_mode).map(dic))"
   ]
  },
  {
   "cell_type": "code",
   "execution_count": 35,
   "metadata": {},
   "outputs": [
    {
     "data": {
      "text/plain": [
       "{1: 4.82, 2: 8.87, 3: 2.86, 4: 1.0}"
      ]
     },
     "execution_count": 35,
     "metadata": {},
     "output_type": "execute_result"
    }
   ],
   "source": [
    "dic"
   ]
  },
  {
   "cell_type": "code",
   "execution_count": 36,
   "metadata": {},
   "outputs": [
    {
     "data": {
      "text/plain": [
       "XGBClassifier(base_score=0.5, booster='gbtree', colsample_bylevel=1,\n",
       "              colsample_bynode=1, colsample_bytree=0.7, gamma=0,\n",
       "              learning_rate=0.05, max_delta_step=0, max_depth=8,\n",
       "              min_child_weight=5, missing=None, n_estimators=1000, n_jobs=1,\n",
       "              nthread=4, objective='multi:softprob', random_state=0,\n",
       "              reg_alpha=0, reg_lambda=1, scale_pos_weight=1, seed=None,\n",
       "              silent=None, subsample=0.9, verbosity=1)"
      ]
     },
     "execution_count": 36,
     "metadata": {},
     "output_type": "execute_result"
    }
   ],
   "source": [
    "import xgboost as xgb\n",
    "\n",
    "np.random.seed(42)\n",
    "xg_clf = xgb.XGBClassifier(colsample_bytree=0.7,\n",
    "              base_score = 0.5,\n",
    "              colsample_bylevel=1,\n",
    "              colsample_bynode=1,\n",
    "              objective='multi:softprop',\n",
    "              max_delta_step=0,\n",
    "              missing=None,\n",
    "              n_jobs=1,\n",
    "              reg_alpha=0,\n",
    "              reg_lambda=1,\n",
    "              scale_pos_weight=1,\n",
    "              silent=None,\n",
    "              nthread=4,\n",
    "              gamma = 0,\n",
    "              learning_rate= 0.05, \n",
    "              max_depth= 8,\n",
    "              min_child_weight= 5, \n",
    "              subsample= 0.9,\n",
    "              n_estimators= 1000\n",
    "#             , tree_method='gpu_hist'\n",
    "#             , predictor='gpu_predictor'\n",
    "                          )\n",
    "\n",
    "# eval_set = [(X_train, y_train), (X_valid, y_valid)]\n",
    "# eval_set = eval_set,\n",
    "\n",
    "xg_clf.fit(X_enn_mode,y_enn_mode, sample_weight = w1)"
   ]
  },
  {
   "cell_type": "code",
   "execution_count": 38,
   "metadata": {},
   "outputs": [
    {
     "data": {
      "text/plain": [
       "(0.63075, 0.6168758592459878)"
      ]
     },
     "execution_count": 38,
     "metadata": {},
     "output_type": "execute_result"
    }
   ],
   "source": [
    "from sklearn.metrics import accuracy_score, f1_score\n",
    "y_pred = xg_clf.predict(np.array(X_test.drop('acc_id', axis=1)))\n",
    "# = predictions = [round(value) for value in y_pred]\n",
    "\n",
    "accuracy_score(y_test, y_pred), f1_score(y_test, y_pred, average='weighted')"
   ]
  },
  {
   "cell_type": "code",
   "execution_count": 39,
   "metadata": {},
   "outputs": [
    {
     "name": "stdout",
     "output_type": "stream",
     "text": [
      "0.5996924654023578\n"
     ]
    },
    {
     "data": {
      "text/plain": [
       "(0, 8200)"
      ]
     },
     "execution_count": 39,
     "metadata": {},
     "output_type": "execute_result"
    },
    {
     "data": {
      "image/png": "[encoded data removed]",
      "text/plain": [
       "<Figure size 432x720 with 2 Axes>"
      ]
     },
     "metadata": {
      "needs_background": "light"
     },
     "output_type": "display_data"
    }
   ],
   "source": [
    "print(((y_pred == 1).sum()&(y_test==1).sum()) / (y_test==1).sum())\n",
    "fig = plt.figure(figsize = (6,10))\n",
    "ax1 = fig.add_subplot(2,1,1)\n",
    "ax1 = y_test.value_counts().sort_index().plot(kind = 'bar')\n",
    "ax1.set_ylim([0,8200])\n",
    "ax2 = fig.add_subplot(2,1,2)\n",
    "ax2 = pd.Series(y_pred).value_counts().sort_index().plot(kind = 'bar')\n",
    "ax2.set_ylim([0,8200])"
   ]
  },
  {
   "cell_type": "code",
   "execution_count": null,
   "metadata": {},
   "outputs": [],
   "source": [
    "from sklearn.multiclass import OneVsOneClassifier\n",
    "from sklearn.svm import LinearSVC, SVC\n",
    "from sklearn import svm\n",
    "\n",
    "# clf = svm.SVC\n",
    "\n",
    "ovo = OneVsOneClassifier(SVC(random_state=42))\n",
    "\n",
    "ovo.fit(X_smotetomek,y_smotetomek)\n",
    "\n",
    "\n",
    "\n",
    "# gamma = 'auto', 'scale'\n",
    "# C = 1, 10, 100, 1000\n",
    "# kernel = 'rbf'(default), 'linear', 'poly'\n",
    "# verbose = 10\n",
    "# random_state = 42"
   ]
  },
  {
   "cell_type": "code",
   "execution_count": null,
   "metadata": {},
   "outputs": [],
   "source": [
    "from sklearn.metrics import accuracy_score, f1_score\n",
    "y_pred = ovo.predict(X_test)\n",
    "accuracy_score(y_test, y_pred), f1_score(y_test, y_pred)"
   ]
  },
  {
   "cell_type": "code",
   "execution_count": null,
   "metadata": {},
   "outputs": [],
   "source": [
    "# CPU version\n",
    "from sklearn import svm\n",
    "\n",
    "svc_clf = svm.SVC(C = 1, kernel = 'poly', gamma = 'auto', class_weight = 'balanced', random_state = 42)\n",
    "\n",
    "svc_clf.fit(X_enn_mode, y_enn_mode)"
   ]
  },
  {
   "cell_type": "code",
   "execution_count": null,
   "metadata": {},
   "outputs": [],
   "source": [
    "from sklearn.metrics import accuracy_score, f1_score\n",
    "y_pred = ovo.predict(X_test)\n",
    "accuracy_score(y_test, y_pred), f1_score(y_test, y_pred)"
   ]
  },
  {
   "cell_type": "code",
   "execution_count": 40,
   "metadata": {},
   "outputs": [
    {
     "name": "stdout",
     "output_type": "stream",
     "text": [
      "One vs Rest accuracy : 1.000000\n"
     ]
    }
   ],
   "source": [
    "from sklearn.multiclass import OneVsRestClassifier\n",
    "from xgboost import XGBClassifier\n",
    "from sklearn.preprocessing import MultiLabelBinarizer\n",
    "from sklearn.ensemble import ExtraTreesClassifier\n",
    "\n",
    "np.random.seed(42)\n",
    "\n",
    "# eval_set = [(X_train, y_train), (X_valid, y_valid)]\n",
    "\n",
    "OVR = OneVsRestClassifier(ExtraTreesClassifier(n_estimators = 1000, max_depth = 20,\n",
    "                                 criterion = 'gini', random_state = 42))\n",
    "\n",
    "                          \n",
    "\n",
    "OVR.fit(X_enn_mode, y_enn_mode)\n",
    "\n",
    "print('One vs Rest accuracy : %f' % OVR.score(X_enn_mode, y_enn_mode))"
   ]
  },
  {
   "cell_type": "code",
   "execution_count": 41,
   "metadata": {},
   "outputs": [
    {
     "data": {
      "text/plain": [
       "(0.6495833333333333, 0.612057854937127)"
      ]
     },
     "execution_count": 41,
     "metadata": {},
     "output_type": "execute_result"
    }
   ],
   "source": [
    "from sklearn.metrics import accuracy_score, f1_score\n",
    "y_pred = OVR.predict(X_test.drop('acc_id', axis=1))\n",
    "accuracy_score(y_test, y_pred), f1_score(y_test, y_pred, average='weighted')"
   ]
  },
  {
   "cell_type": "code",
   "execution_count": 42,
   "metadata": {},
   "outputs": [
    {
     "name": "stdout",
     "output_type": "stream",
     "text": [
      "0.601742696053306\n"
     ]
    },
    {
     "data": {
      "text/plain": [
       "(0, 8200)"
      ]
     },
     "execution_count": 42,
     "metadata": {},
     "output_type": "execute_result"
    },
    {
     "data": {
      "image/png": "[encoded data removed]",
      "text/plain": [
       "<Figure size 432x720 with 2 Axes>"
      ]
     },
     "metadata": {
      "needs_background": "light"
     },
     "output_type": "display_data"
    }
   ],
   "source": [
    "print(((y_pred == 1).sum()&(y_test==1).sum()) / (y_test==1).sum())\n",
    "fig = plt.figure(figsize = (6,10))\n",
    "ax1 = fig.add_subplot(2,1,1)\n",
    "ax1 = y_test.value_counts().sort_index().plot(kind = 'bar')\n",
    "ax1.set_ylim([0,8200])\n",
    "ax2 = fig.add_subplot(2,1,2)\n",
    "ax2 = pd.Series(y_pred).value_counts().sort_index().plot(kind = 'bar')\n",
    "ax2.set_ylim([0,8200])"
   ]
  },
  {
   "cell_type": "code",
   "execution_count": null,
   "metadata": {},
   "outputs": [],
   "source": []
  }
 ],
 "metadata": {
  "kernelspec": {
   "display_name": "MyPython",
   "language": "python",
   "name": "mypython"
  },
  "language_info": {
   "codemirror_mode": {
    "name": "ipython",
    "version": 3
   },
   "file_extension": ".py",
   "mimetype": "text/x-python",
   "name": "python",
   "nbconvert_exporter": "python",
   "pygments_lexer": "ipython3",
   "version": "3.6.8"
  },
  "widgets": {
   "state": {},
   "version": "1.1.2"
  }
 },
 "nbformat": 4,
 "nbformat_minor": 2
}
