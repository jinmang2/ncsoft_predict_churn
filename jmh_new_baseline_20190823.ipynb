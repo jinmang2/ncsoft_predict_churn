{
 "cells": [
  {
   "cell_type": "code",
   "execution_count": 1,
   "metadata": {},
   "outputs": [
    {
     "data": {
      "text/plain": [
       "((1601834, 17),\n",
       " (1574671, 13),\n",
       " (1083384, 15),\n",
       " (1849325, 11),\n",
       " (66432, 3),\n",
       " (40000, 3))"
      ]
     },
     "execution_count": 1,
     "metadata": {},
     "output_type": "execute_result"
    }
   ],
   "source": [
    "import numpy as np\n",
    "import pandas as pd\n",
    "import matplotlib.pyplot as plt\n",
    "%matplotlib inline\n",
    "\n",
    "import seaborn as sns\n",
    "\n",
    "from os import listdir\n",
    "train_data_li = listdir('./train/')\n",
    "train_data_li\n",
    "\n",
    "import sys\n",
    "mod = sys.modules[__name__]\n",
    "for name in train_data_li:\n",
    "    setattr(mod, name.split('.')[0], pd.read_csv('./train/' + name))\n",
    "    \n",
    "train_activity.shape, train_combat.shape, train_pledge.shape, train_trade.shape, train_payment.shape, train_label.shape"
   ]
  },
  {
   "cell_type": "markdown",
   "metadata": {},
   "source": [
    "# 다 합쳐서 new baseline 구축"
   ]
  },
  {
   "cell_type": "code",
   "execution_count": 3,
   "metadata": {},
   "outputs": [
    {
     "data": {
      "text/plain": [
       "((40000, 425), (40000,))"
      ]
     },
     "execution_count": 3,
     "metadata": {},
     "output_type": "execute_result"
    },
    {
     "data": {
      "image/png": "[encoded data removed]",
      "text/plain": [
       "<Figure size 432x288 with 1 Axes>"
      ]
     },
     "metadata": {},
     "output_type": "display_data"
    }
   ],
   "source": [
    "df = train_activity[\n",
    "        [col for col in train_activity.columns if col not in ['server',  'char_id']]\n",
    "    ].groupby(['day', 'acc_id']).sum().reset_index()\n",
    "\n",
    "df_grouped = df.groupby('day')\n",
    "p = df_grouped.get_group(1)\n",
    "for i in range(2, 29):\n",
    "    p = pd.merge(p, df_grouped.get_group(i), on='acc_id', how='outer',\n",
    "                 suffixes=('_'+str(i-1), '_'+str(i)))\n",
    "p = p[[col for col in p.columns if ('day' not in col) & ('char' not in col)]]\n",
    "p = p.fillna(0).set_index('acc_id')\n",
    "\n",
    "playtime_daily = train_activity.groupby(['acc_id', 'day'])['playtime'].sum().unstack().fillna(0)\n",
    "exp_weights = np.sqrt(np.arange(1, 29)) / np.sqrt(np.arange(1, 29)).sum()\n",
    "playtime_exp = playtime_daily * exp_weights\n",
    "playtime_exp.sum(axis=1).plot.hist(bins=25, grid=True)\n",
    "\n",
    "df = p.reset_index()\n",
    "p2 = pd.DataFrame(playtime_exp.sum(axis=1), columns=['exp_playtime']).reset_index()\n",
    "df = pd.merge(df, p2, on='acc_id')\n",
    "\n",
    "d = pd.DataFrame(list(set([(i, j) for i,j in train_activity[['day', 'acc_id']].values])), columns=['day', 'acc_id'])\n",
    "df = pd.merge(df, d.groupby('acc_id').count().reset_index(), on='acc_id')\n",
    "\n",
    "train_act_time = train_activity[['acc_id', 'day', 'playtime', 'fishing', 'private_shop']]\n",
    "train_act_time = train_act_time.groupby(['acc_id', 'day']).sum()\n",
    "train_act_time['resttime'] = train_act_time['fishing'] + train_act_time['private_shop']\n",
    "train_act_time['tr_play'] = (train_act_time['playtime'] - train_act_time['resttime']) / train_act_time['playtime']\n",
    "train_act_time['tr_rest'] = train_act_time['resttime'] / train_act_time['playtime']\n",
    "rest = train_act_time['tr_rest'].unstack().fillna(1)\n",
    "play = train_act_time['tr_play'].unstack().fillna(0)\n",
    "\n",
    "rest.columns = ['rest_'+str(i) for i in range(1, 29)]\n",
    "play.columns = ['play_'+str(i) for i in range(1, 29)]\n",
    "\n",
    "exp_weights = np.sqrt(np.arange(1, 29)) / np.sqrt(np.arange(1, 29)).sum()\n",
    "rest['exp_rest'] = (rest * exp_weights).sum(axis=1)\n",
    "play['exp_play'] = (play * exp_weights).sum(axis=1)\n",
    "\n",
    "df = pd.merge(df, rest.reset_index(), on='acc_id')\n",
    "df = pd.merge(df, play.reset_index(), on='acc_id')\n",
    "\n",
    "label = np.where(train_label.set_index('acc_id').loc[p.index]['survival_time'].values == 64, 1, 0)\n",
    "\n",
    "df.shape, label.shape"
   ]
  },
  {
   "cell_type": "markdown",
   "metadata": {},
   "source": [
    "# expected return"
   ]
  },
  {
   "cell_type": "code",
   "execution_count": 7,
   "metadata": {},
   "outputs": [],
   "source": [
    "sort_acc_id = p.index"
   ]
  },
  {
   "cell_type": "code",
   "execution_count": 12,
   "metadata": {},
   "outputs": [],
   "source": [
    "is_churn_label = np.where(train_label.set_index('acc_id').loc[sort_acc_id]['survival_time'].values == 64, 1, 0)\n",
    "amount_label = train_label.set_index('acc_id').loc[sort_acc_id]['amount_spent']\n",
    "survtime_label = train_label.set_index('acc_id').loc[sort_acc_id]['survival_time']"
   ]
  },
  {
   "cell_type": "code",
   "execution_count": 14,
   "metadata": {},
   "outputs": [
    {
     "data": {
      "text/plain": [
       "((21000, 424), (7000, 424), (12000, 424), (21000,), (7000,), (12000,))"
      ]
     },
     "execution_count": 14,
     "metadata": {},
     "output_type": "execute_result"
    }
   ],
   "source": [
    "from sklearn.model_selection import train_test_split\n",
    "\n",
    "X_train, X_test, y_train, y_test = train_test_split(df[df.columns[1:]], label, test_size=0.3, random_state=42)\n",
    "X_train, X_valid, y_train, y_valid = train_test_split(X_train, y_train, test_size=0.25, random_state=42)\n",
    "\n",
    "X_train.shape, X_valid.shape, X_test.shape, y_train.shape, y_valid.shape, y_test.shape"
   ]
  },
  {
   "cell_type": "code",
   "execution_count": 27,
   "metadata": {},
   "outputs": [
    {
     "name": "stdout",
     "output_type": "stream",
     "text": [
      "True\n",
      "True\n",
      "True\n"
     ]
    }
   ],
   "source": [
    "print(np.all(is_churn_label[X_train.index] == y_train))\n",
    "print(np.all(is_churn_label[X_valid.index] == y_valid))\n",
    "print(np.all(is_churn_label[X_test.index] == y_test))"
   ]
  },
  {
   "cell_type": "code",
   "execution_count": 69,
   "metadata": {},
   "outputs": [],
   "source": [
    "y_train1 = is_churn_label[X_train.index]\n",
    "y_train1a = survtime_label.values[X_train.index]\n",
    "y_train2 = amount_label.values[X_train.index]\n",
    "\n",
    "y_valid1 = is_churn_label[X_valid.index]\n",
    "y_valid1a = survtime_label.values[X_valid.index]\n",
    "y_valid2 = amount_label.values[X_valid.index]\n",
    "\n",
    "y_test1 = is_churn_label[X_test.index]\n",
    "y_test1a = survtime_label.values[X_test.index]\n",
    "y_test2 = amount_label.values[X_test.index]"
   ]
  },
  {
   "cell_type": "code",
   "execution_count": 40,
   "metadata": {},
   "outputs": [],
   "source": [
    "import xgboost as xgb\n",
    "\n",
    "params =   {\n",
    "    'learning_rate': 0.02, \n",
    "    'gamma' : 0.3, \n",
    "    'min_child_weight' : 3,\n",
    "    'nthread' : 15,\n",
    "    'max_depth' : 30,\n",
    "    'subsample' : 0.9,\n",
    "    'eval_metric' : 'auc',\n",
    "    'colsample_bytree' : 0.8, \n",
    "    'num_boost_round' : 500,\n",
    "    'n_estimators': 200,\n",
    "    'max_leaves': 300\n",
    "}"
   ]
  },
  {
   "cell_type": "code",
   "execution_count": 41,
   "metadata": {},
   "outputs": [
    {
     "name": "stdout",
     "output_type": "stream",
     "text": [
      "[0]\ttrain-auc:0.966033\tvalid-auc:0.743517\n",
      "Multiple eval metrics have been passed: 'valid-auc' will be used for early stopping.\n",
      "\n",
      "Will train until valid-auc hasn't improved in 30 rounds.\n",
      "[50]\ttrain-auc:0.999891\tvalid-auc:0.835683\n",
      "[100]\ttrain-auc:0.999917\tvalid-auc:0.840125\n",
      "[150]\ttrain-auc:0.999912\tvalid-auc:0.841082\n",
      "[200]\ttrain-auc:0.999911\tvalid-auc:0.841591\n",
      "[250]\ttrain-auc:0.999911\tvalid-auc:0.841908\n",
      "[300]\ttrain-auc:0.999911\tvalid-auc:0.842114\n",
      "[350]\ttrain-auc:0.999912\tvalid-auc:0.842263\n",
      "[400]\ttrain-auc:0.999912\tvalid-auc:0.842311\n",
      "[450]\ttrain-auc:0.999912\tvalid-auc:0.842332\n",
      "[499]\ttrain-auc:0.999913\tvalid-auc:0.842369\n"
     ]
    }
   ],
   "source": [
    "VALID = True\n",
    "if VALID == True:\n",
    "\n",
    "    tr_data1 = xgb.DMatrix(X_train, y_train)\n",
    "    va_data1 = xgb.DMatrix(X_valid, y_valid)\n",
    "\n",
    "    watchlist = [(tr_data1, 'train'), (va_data1, 'valid')]\n",
    "\n",
    "    %time model1 = xgb.train(params, tr_data1, 500, watchlist, maximize=False, \n",
    "                      early_stopping_rounds = 30, verbose_eval=50)"
   ]
  },
  {
   "cell_type": "code",
   "execution_count": 47,
   "metadata": {},
   "outputs": [],
   "source": [
    "model1.save_model('0004-1.model')"
   ]
  },
  {
   "cell_type": "code",
   "execution_count": 49,
   "metadata": {},
   "outputs": [
    {
     "data": {
      "text/plain": [
       "(0.7646666666666667, 0.7890017931858936)"
      ]
     },
     "execution_count": 49,
     "metadata": {},
     "output_type": "execute_result"
    }
   ],
   "source": [
    "from sklearn.metrics import accuracy_score, f1_score\n",
    "\n",
    "y_pred = np.where(model1.predict(xgb.DMatrix(X_test)) > 0.5, 1, 0)\n",
    "accuracy_score(y_test, y_pred), f1_score(y_test, y_pred)"
   ]
  },
  {
   "cell_type": "markdown",
   "metadata": {},
   "source": [
    "## Model B - Amount Spent"
   ]
  },
  {
   "cell_type": "code",
   "execution_count": 98,
   "metadata": {},
   "outputs": [],
   "source": [
    "params2 =   {\n",
    "    'objective' : 'reg:linear',\n",
    "    'learning_rate': 0.02, \n",
    "    'gamma' : 0.3, \n",
    "    'min_child_weight' : 3,\n",
    "    'nthread' : 15,\n",
    "    'max_depth' : 30,\n",
    "    'subsample' : 0.9,\n",
    "    'eval_metric' : 'rmse',\n",
    "    'colsample_bytree' : 0.8, \n",
    "    'num_boost_round' : 500,\n",
    "    'n_estimators': 200,\n",
    "    'max_leaves': 300\n",
    "}"
   ]
  },
  {
   "cell_type": "code",
   "execution_count": 99,
   "metadata": {},
   "outputs": [
    {
     "name": "stdout",
     "output_type": "stream",
     "text": [
      "[0]\ttrain-rmse:0.816628\tvalid-rmse:0.804051\n",
      "Multiple eval metrics have been passed: 'valid-rmse' will be used for early stopping.\n",
      "\n",
      "Will train until valid-rmse hasn't improved in 30 rounds.\n",
      "[50]\ttrain-rmse:0.579939\tvalid-rmse:0.724347\n",
      "[100]\ttrain-rmse:0.45623\tvalid-rmse:0.72948\n",
      "Stopping. Best iteration:\n",
      "[71]\ttrain-rmse:0.520659\tvalid-rmse:0.7225\n",
      "\n",
      "Wall time: 1min 57s\n"
     ]
    }
   ],
   "source": [
    "VALID = True\n",
    "if VALID == True:\n",
    "\n",
    "    tr_data2 = xgb.DMatrix(X_train, y_train2)\n",
    "    va_data2 = xgb.DMatrix(X_valid, y_valid2)\n",
    "\n",
    "    watchlist = [(tr_data2, 'train'), (va_data2, 'valid')]\n",
    "\n",
    "    %time model1a = xgb.train(params2, tr_data2, 500, watchlist, maximize=False, early_stopping_rounds = 30, verbose_eval=50)"
   ]
  },
  {
   "cell_type": "code",
   "execution_count": 100,
   "metadata": {},
   "outputs": [
    {
     "data": {
      "text/plain": [
       "array([0.16520593, 0.1349616 , 0.16198963, ..., 1.5253782 , 0.19498032,\n",
       "       0.1470868 ], dtype=float32)"
      ]
     },
     "execution_count": 100,
     "metadata": {},
     "output_type": "execute_result"
    }
   ],
   "source": [
    "y_pred = model1a.predict(xgb.DMatrix(X_test))\n",
    "y_pred"
   ]
  },
  {
   "cell_type": "code",
   "execution_count": 108,
   "metadata": {},
   "outputs": [
    {
     "data": {
      "text/plain": [
       "0.7218267636226796"
      ]
     },
     "execution_count": 108,
     "metadata": {},
     "output_type": "execute_result"
    }
   ],
   "source": [
    "np.sqrt(np.mean((y_test2 - y_pred) ** 2))"
   ]
  },
  {
   "cell_type": "code",
   "execution_count": 111,
   "metadata": {},
   "outputs": [
    {
     "data": {
      "text/plain": [
       "0.12734680129560605"
      ]
     },
     "execution_count": 111,
     "metadata": {},
     "output_type": "execute_result"
    }
   ],
   "source": [
    "np.mean(y_test2)"
   ]
  },
  {
   "cell_type": "code",
   "execution_count": 116,
   "metadata": {},
   "outputs": [
    {
     "data": {
      "image/png": "[encoded data removed]",
      "text/plain": [
       "<Figure size 432x288 with 1 Axes>"
      ]
     },
     "metadata": {},
     "output_type": "display_data"
    }
   ],
   "source": [
    "plt.scatter(y_pred, y_test2)\n",
    "plt.xlabel('Pred')\n",
    "plt.ylabel('True')\n",
    "plt.grid(True); plt.show()"
   ]
  },
  {
   "cell_type": "code",
   "execution_count": 126,
   "metadata": {},
   "outputs": [
    {
     "data": {
      "image/png": "[encoded data removed]",
      "text/plain": [
       "<Figure size 432x288 with 1 Axes>"
      ]
     },
     "metadata": {},
     "output_type": "display_data"
    }
   ],
   "source": [
    "plt.scatter(y_pred, y_test2)\n",
    "plt.xlabel('Pred')\n",
    "plt.ylabel('True')\n",
    "plt.axis([0, 1, 0, 1])\n",
    "plt.grid(True); plt.show()"
   ]
  },
  {
   "cell_type": "code",
   "execution_count": 141,
   "metadata": {},
   "outputs": [
    {
     "data": {
      "text/plain": [
       "23726"
      ]
     },
     "execution_count": 141,
     "metadata": {},
     "output_type": "execute_result"
    }
   ],
   "source": [
    "train_payment.acc_id.nunique()"
   ]
  },
  {
   "cell_type": "code",
   "execution_count": 147,
   "metadata": {},
   "outputs": [
    {
     "data": {
      "text/plain": [
       "<matplotlib.collections.PathCollection at 0x1f506404240>"
      ]
     },
     "execution_count": 147,
     "metadata": {},
     "output_type": "execute_result"
    },
    {
     "data": {
      "image/png": "[encoded data removed]",
      "text/plain": [
       "<Figure size 432x288 with 1 Axes>"
      ]
     },
     "metadata": {},
     "output_type": "display_data"
    }
   ],
   "source": [
    "t = pd.concat((train_payment.groupby(['acc_id', 'day']).mean().unstack().fillna(0).mean(axis=1), train_label.set_index('acc_id')['amount_spent']), axis=1).fillna(0)\n",
    "plt.scatter(t[0], t['amount_spent'])"
   ]
  },
  {
   "cell_type": "markdown",
   "metadata": {},
   "source": [
    "# 어떤 유저가 이탈을 많이 할 것인가?\n",
    "# 어떤 유저가 과금을 많이 할 것인가?"
   ]
  },
  {
   "cell_type": "code",
   "execution_count": 166,
   "metadata": {},
   "outputs": [
    {
     "data": {
      "image/png": "[encoded data removed]",
      "text/plain": [
       "<Figure size 720x360 with 2 Axes>"
      ]
     },
     "metadata": {},
     "output_type": "display_data"
    }
   ],
   "source": [
    "plt.rcParams[\"font.family\"] = 'NanumGothic'\n",
    "\n",
    "fig = plt.figure(figsize=(10, 5), facecolor='w')\n",
    "ax1 = fig.add_subplot(1, 2, 1)\n",
    "ax2 = fig.add_subplot(1, 2, 2)\n",
    "train_label[train_label['survival_time'] == 64]['amount_spent'].plot.hist(ax=ax1, grid=True, bins=20)\n",
    "train_label[train_label['survival_time'] != 64]['amount_spent'].plot.hist(ax=ax2, grid=True, bins=20)\n",
    "ax1.set_title('이탈 유저(Churn)의 일일 평균 과금량', fontsize=12)\n",
    "ax2.set_title('비이탈 유저(Non-Churn)의 일일 평균 과금량', fontsize=12)\n",
    "plt.tight_layout()"
   ]
  },
  {
   "cell_type": "code",
   "execution_count": 177,
   "metadata": {},
   "outputs": [
    {
     "data": {
      "text/plain": [
       "21996"
      ]
     },
     "execution_count": 177,
     "metadata": {},
     "output_type": "execute_result"
    }
   ],
   "source": [
    "train_label[train_label['survival_time'] == 64]['acc_id'].nunique()"
   ]
  },
  {
   "cell_type": "code",
   "execution_count": 178,
   "metadata": {},
   "outputs": [
    {
     "data": {
      "text/plain": [
       "23726"
      ]
     },
     "execution_count": 178,
     "metadata": {},
     "output_type": "execute_result"
    }
   ],
   "source": [
    "train_payment['acc_id'].nunique()"
   ]
  },
  {
   "cell_type": "code",
   "execution_count": 180,
   "metadata": {},
   "outputs": [
    {
     "data": {
      "text/plain": [
       "13260"
      ]
     },
     "execution_count": 180,
     "metadata": {},
     "output_type": "execute_result"
    }
   ],
   "source": [
    "len(set(train_payment['acc_id']).intersection(set(train_label[train_label['survival_time'] == 64]['acc_id'])))"
   ]
  },
  {
   "cell_type": "code",
   "execution_count": 181,
   "metadata": {},
   "outputs": [
    {
     "data": {
      "text/plain": [
       "10466"
      ]
     },
     "execution_count": 181,
     "metadata": {},
     "output_type": "execute_result"
    }
   ],
   "source": [
    "len(set(train_payment['acc_id']).intersection(set(train_label[train_label['survival_time'] != 64]['acc_id'])))"
   ]
  },
  {
   "cell_type": "code",
   "execution_count": null,
   "metadata": {},
   "outputs": [],
   "source": []
  }
 ],
 "metadata": {
  "kernelspec": {
   "display_name": "ds",
   "language": "python",
   "name": "ds"
  },
  "language_info": {
   "codemirror_mode": {
    "name": "ipython",
    "version": 3
   },
   "file_extension": ".py",
   "mimetype": "text/x-python",
   "name": "python",
   "nbconvert_exporter": "python",
   "pygments_lexer": "ipython3",
   "version": "3.6.5"
  }
 },
 "nbformat": 4,
 "nbformat_minor": 2
}
