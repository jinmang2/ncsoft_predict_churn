{
 "cells": [
  {
   "cell_type": "code",
   "execution_count": 4,
   "metadata": {},
   "outputs": [],
   "source": [
    "import numpy as np\n",
    "import pandas as pd\n",
    "from sklearn.cluster import KMeans\n",
    "import matplotlib.pyplot as plt\n",
    "import seaborn as sns\n",
    "import os\n",
    "%matplotlib inline\n",
    "\n",
    "from sklearn.metrics import roc_curve, precision_recall_curve, auc, make_scorer, recall_score, accuracy_score, precision_score, confusion_matrix"
   ]
  },
  {
   "cell_type": "code",
   "execution_count": 5,
   "metadata": {},
   "outputs": [],
   "source": [
    "merge_all_flatten = pd.read_csv('./merge_all_flatten.csv')"
   ]
  },
  {
   "cell_type": "code",
   "execution_count": 6,
   "metadata": {},
   "outputs": [],
   "source": [
    "label_dir ='C:/Users/Affinity/Desktop/study/빅콘테스트/2019빅콘테스트_챔피언스리그_데이터_수정/train_label_add.csv'\n",
    "\n",
    "train_label = pd.read_csv(label_dir)\n",
    "del train_label['Unnamed: 0']"
   ]
  },
  {
   "cell_type": "code",
   "execution_count": 7,
   "metadata": {},
   "outputs": [
    {
     "data": {
      "text/plain": [
       "(40000, 401)"
      ]
     },
     "execution_count": 7,
     "metadata": {},
     "output_type": "execute_result"
    }
   ],
   "source": [
    "merge_all_flatten.shape"
   ]
  },
  {
   "cell_type": "code",
   "execution_count": 8,
   "metadata": {},
   "outputs": [],
   "source": [
    "merge_all = pd.merge(merge_all_flatten, train_label, on='acc_id')"
   ]
  },
  {
   "cell_type": "code",
   "execution_count": 9,
   "metadata": {},
   "outputs": [
    {
     "data": {
      "text/plain": [
       "(40000, 405)"
      ]
     },
     "execution_count": 9,
     "metadata": {},
     "output_type": "execute_result"
    }
   ],
   "source": [
    "merge_all.shape"
   ]
  },
  {
   "cell_type": "code",
   "execution_count": 10,
   "metadata": {},
   "outputs": [],
   "source": [
    "# label로 인해 payment의 amount_spent에 _x가 추가됨\n",
    "# 실제로 leaderboard에 올릴 때에는 label을 합치지 않으므로 _x가 붙을일이 없음\n",
    "# 따라서 rename을 해줌\n",
    "merge_all.rename(columns = {'amount_spent_x':'amount_spent'}, inplace = True)"
   ]
  },
  {
   "cell_type": "code",
   "execution_count": 34,
   "metadata": {},
   "outputs": [
    {
     "data": {
      "text/html": [
       "<div>\n",
       "<style scoped>\n",
       "    .dataframe tbody tr th:only-of-type {\n",
       "        vertical-align: middle;\n",
       "    }\n",
       "\n",
       "    .dataframe tbody tr th {\n",
       "        vertical-align: top;\n",
       "    }\n",
       "\n",
       "    .dataframe thead th {\n",
       "        text-align: right;\n",
       "    }\n",
       "</style>\n",
       "<table border=\"1\" class=\"dataframe\">\n",
       "  <thead>\n",
       "    <tr style=\"text-align: right;\">\n",
       "      <th></th>\n",
       "      <th>acc_id</th>\n",
       "      <th>temp_cnt_x</th>\n",
       "      <th>private_shop</th>\n",
       "      <th>level_x</th>\n",
       "      <th>party_exp</th>\n",
       "      <th>pledge_cnt</th>\n",
       "      <th>random_attacker_cnt_x</th>\n",
       "      <th>random_defender_cnt_x</th>\n",
       "      <th>same_pledge_cnt_x</th>\n",
       "      <th>etc_cnt_x</th>\n",
       "      <th>...</th>\n",
       "      <th>random_defender_cnt_4_y</th>\n",
       "      <th>same_pledge_cnt_4_y</th>\n",
       "      <th>temp_cnt_4_y</th>\n",
       "      <th>etc_cnt_4_y</th>\n",
       "      <th>combat_play_time_4</th>\n",
       "      <th>pledge_rank_4</th>\n",
       "      <th>amount_spent_1</th>\n",
       "      <th>amount_spent_2</th>\n",
       "      <th>amount_spent_3</th>\n",
       "      <th>amount_spent_4</th>\n",
       "    </tr>\n",
       "  </thead>\n",
       "  <tbody>\n",
       "    <tr>\n",
       "      <th>0</th>\n",
       "      <td>2</td>\n",
       "      <td>0.000000</td>\n",
       "      <td>84.900753</td>\n",
       "      <td>0.0</td>\n",
       "      <td>0.000000</td>\n",
       "      <td>0.000000</td>\n",
       "      <td>0.000000</td>\n",
       "      <td>0.000000</td>\n",
       "      <td>0.000000</td>\n",
       "      <td>0.000000</td>\n",
       "      <td>...</td>\n",
       "      <td>0.000000</td>\n",
       "      <td>0.000000</td>\n",
       "      <td>0.000000</td>\n",
       "      <td>0.000000</td>\n",
       "      <td>0.000000</td>\n",
       "      <td>0.0</td>\n",
       "      <td>0.000000</td>\n",
       "      <td>0.000000</td>\n",
       "      <td>0.000000</td>\n",
       "      <td>0.000000</td>\n",
       "    </tr>\n",
       "    <tr>\n",
       "      <th>1</th>\n",
       "      <td>5</td>\n",
       "      <td>0.479728</td>\n",
       "      <td>0.000000</td>\n",
       "      <td>173.0</td>\n",
       "      <td>0.695285</td>\n",
       "      <td>0.000000</td>\n",
       "      <td>0.000000</td>\n",
       "      <td>0.000000</td>\n",
       "      <td>0.000000</td>\n",
       "      <td>0.000000</td>\n",
       "      <td>...</td>\n",
       "      <td>0.715313</td>\n",
       "      <td>0.000000</td>\n",
       "      <td>1.384363</td>\n",
       "      <td>0.417618</td>\n",
       "      <td>3.661882</td>\n",
       "      <td>66814.0</td>\n",
       "      <td>0.000000</td>\n",
       "      <td>0.000000</td>\n",
       "      <td>0.000000</td>\n",
       "      <td>0.000000</td>\n",
       "    </tr>\n",
       "    <tr>\n",
       "      <th>2</th>\n",
       "      <td>8</td>\n",
       "      <td>3.837822</td>\n",
       "      <td>0.000000</td>\n",
       "      <td>1922.0</td>\n",
       "      <td>0.000000</td>\n",
       "      <td>0.128368</td>\n",
       "      <td>4.270875</td>\n",
       "      <td>0.000000</td>\n",
       "      <td>0.000000</td>\n",
       "      <td>0.225223</td>\n",
       "      <td>...</td>\n",
       "      <td>4.077286</td>\n",
       "      <td>4.774303</td>\n",
       "      <td>21.556504</td>\n",
       "      <td>6.243030</td>\n",
       "      <td>29.782361</td>\n",
       "      <td>22331.0</td>\n",
       "      <td>1.056123</td>\n",
       "      <td>0.000000</td>\n",
       "      <td>0.000000</td>\n",
       "      <td>0.348521</td>\n",
       "    </tr>\n",
       "    <tr>\n",
       "      <th>3</th>\n",
       "      <td>17</td>\n",
       "      <td>3.358094</td>\n",
       "      <td>0.000000</td>\n",
       "      <td>687.0</td>\n",
       "      <td>8.823094</td>\n",
       "      <td>0.000000</td>\n",
       "      <td>0.000000</td>\n",
       "      <td>2.366129</td>\n",
       "      <td>12.398273</td>\n",
       "      <td>0.563058</td>\n",
       "      <td>...</td>\n",
       "      <td>1.859815</td>\n",
       "      <td>0.000000</td>\n",
       "      <td>10.778252</td>\n",
       "      <td>2.526941</td>\n",
       "      <td>15.140507</td>\n",
       "      <td>2673.0</td>\n",
       "      <td>0.000000</td>\n",
       "      <td>0.000000</td>\n",
       "      <td>0.000000</td>\n",
       "      <td>0.000000</td>\n",
       "    </tr>\n",
       "    <tr>\n",
       "      <th>4</th>\n",
       "      <td>20</td>\n",
       "      <td>0.959456</td>\n",
       "      <td>2.917510</td>\n",
       "      <td>930.0</td>\n",
       "      <td>0.110339</td>\n",
       "      <td>1.540422</td>\n",
       "      <td>0.000000</td>\n",
       "      <td>2.366129</td>\n",
       "      <td>0.000000</td>\n",
       "      <td>21.621413</td>\n",
       "      <td>...</td>\n",
       "      <td>2.360534</td>\n",
       "      <td>3.978586</td>\n",
       "      <td>7.317346</td>\n",
       "      <td>11.672059</td>\n",
       "      <td>18.448062</td>\n",
       "      <td>2500.0</td>\n",
       "      <td>0.000000</td>\n",
       "      <td>0.070408</td>\n",
       "      <td>0.826123</td>\n",
       "      <td>0.000000</td>\n",
       "    </tr>\n",
       "  </tbody>\n",
       "</table>\n",
       "<p>5 rows × 401 columns</p>\n",
       "</div>"
      ],
      "text/plain": [
       "   acc_id  temp_cnt_x  private_shop  level_x  party_exp  pledge_cnt  \\\n",
       "0       2    0.000000     84.900753      0.0   0.000000    0.000000   \n",
       "1       5    0.479728      0.000000    173.0   0.695285    0.000000   \n",
       "2       8    3.837822      0.000000   1922.0   0.000000    0.128368   \n",
       "3      17    3.358094      0.000000    687.0   8.823094    0.000000   \n",
       "4      20    0.959456      2.917510    930.0   0.110339    1.540422   \n",
       "\n",
       "   random_attacker_cnt_x  random_defender_cnt_x  same_pledge_cnt_x  etc_cnt_x  \\\n",
       "0               0.000000               0.000000           0.000000   0.000000   \n",
       "1               0.000000               0.000000           0.000000   0.000000   \n",
       "2               4.270875               0.000000           0.000000   0.225223   \n",
       "3               0.000000               2.366129          12.398273   0.563058   \n",
       "4               0.000000               2.366129           0.000000  21.621413   \n",
       "\n",
       "   ...  random_defender_cnt_4_y  same_pledge_cnt_4_y  temp_cnt_4_y  \\\n",
       "0  ...                 0.000000             0.000000      0.000000   \n",
       "1  ...                 0.715313             0.000000      1.384363   \n",
       "2  ...                 4.077286             4.774303     21.556504   \n",
       "3  ...                 1.859815             0.000000     10.778252   \n",
       "4  ...                 2.360534             3.978586      7.317346   \n",
       "\n",
       "   etc_cnt_4_y  combat_play_time_4  pledge_rank_4  amount_spent_1  \\\n",
       "0     0.000000            0.000000            0.0        0.000000   \n",
       "1     0.417618            3.661882        66814.0        0.000000   \n",
       "2     6.243030           29.782361        22331.0        1.056123   \n",
       "3     2.526941           15.140507         2673.0        0.000000   \n",
       "4    11.672059           18.448062         2500.0        0.000000   \n",
       "\n",
       "   amount_spent_2  amount_spent_3  amount_spent_4  \n",
       "0        0.000000        0.000000        0.000000  \n",
       "1        0.000000        0.000000        0.000000  \n",
       "2        0.000000        0.000000        0.348521  \n",
       "3        0.000000        0.000000        0.000000  \n",
       "4        0.070408        0.826123        0.000000  \n",
       "\n",
       "[5 rows x 401 columns]"
      ]
     },
     "execution_count": 34,
     "metadata": {},
     "output_type": "execute_result"
    }
   ],
   "source": [
    "merge_all_flatten.head()"
   ]
  },
  {
   "cell_type": "code",
   "execution_count": 53,
   "metadata": {},
   "outputs": [
    {
     "data": {
      "text/plain": [
       "((40000, 401), (40000, 405))"
      ]
     },
     "execution_count": 53,
     "metadata": {},
     "output_type": "execute_result"
    }
   ],
   "source": [
    "merge_all_flatten.shape, merge_standard.shape"
   ]
  },
  {
   "cell_type": "code",
   "execution_count": 11,
   "metadata": {},
   "outputs": [],
   "source": [
    "from sklearn.preprocessing import StandardScaler\n",
    "\n",
    "scaler = StandardScaler()\n",
    "scaler.fit(merge_all_flatten.drop('acc_id',axis=1))\n",
    "merge_all_flatten_standard = scaler.transform(merge_all_flatten.drop('acc_id', axis=1))"
   ]
  },
  {
   "cell_type": "code",
   "execution_count": 12,
   "metadata": {},
   "outputs": [],
   "source": [
    "merge_standard = pd.DataFrame(merge_all_flatten_standard)\n",
    "merge_standard.index = merge_all_flatten.acc_id\n",
    "merge_standard.reset_index(inplace=True)\n",
    "merge_standard.columns = merge_all_flatten.columns\n",
    "merge_standard = pd.merge(merge_standard, train_label, on='acc_id')"
   ]
  },
  {
   "cell_type": "code",
   "execution_count": 280,
   "metadata": {},
   "outputs": [],
   "source": [
    "from sklearn.preprocessing import MinMaxScaler\n",
    "\n",
    "scaler = MinMaxScaler()\n",
    "scaler.fit(merge_all_flatten.drop('acc_id',axis=1))\n",
    "merge_all_flatten_minmax = scaler.transform(merge_all_flatten.drop('acc_id',axis=1))"
   ]
  },
  {
   "cell_type": "code",
   "execution_count": 281,
   "metadata": {},
   "outputs": [],
   "source": [
    "merge_minmax = pd.DataFrame(merge_all_flatten_minmax)\n",
    "merge_minmax.index = merge_all_flatten.acc_id\n",
    "merge_minmax.reset_index(inplace=True)\n",
    "merge_minmax.columns = merge_all_flatten.columns\n",
    "merge_minmax = pd.merge(merge_minmax, train_label, on='acc_id')"
   ]
  },
  {
   "cell_type": "code",
   "execution_count": 297,
   "metadata": {},
   "outputs": [
    {
     "data": {
      "text/plain": [
       "((21000, 400), (7000, 400), (12000, 400), (21000,), (7000,), (12000,))"
      ]
     },
     "execution_count": 297,
     "metadata": {},
     "output_type": "execute_result"
    }
   ],
   "source": [
    "from sklearn.model_selection import train_test_split\n",
    "\n",
    "X_train, X_test, y_train, y_test = train_test_split(merge_standard.drop(['acc_id', \n",
    "                                                                           'amount_spent_y',\n",
    "                                                                           'total_spent',\n",
    "                                                                          'secession',\n",
    "                                                                          'survival_time'], axis=1),\n",
    "                                                    merge_standard.secession,\n",
    "                                                    test_size = 0.3, random_state=42)\n",
    "X_train, X_valid, y_train, y_valid = train_test_split(X_train, y_train, test_size = 0.25, random_state=42)\n",
    "\n",
    "X_train.shape, X_valid.shape, X_test.shape, y_train.shape, y_valid.shape, y_test.shape"
   ]
  },
  {
   "cell_type": "code",
   "execution_count": 294,
   "metadata": {
    "scrolled": true
   },
   "outputs": [
    {
     "name": "stdout",
     "output_type": "stream",
     "text": [
      "Train on 21000 samples, validate on 7000 samples\n",
      "Epoch 1/20\n",
      "21000/21000 [==============================] - 15s 734us/step - loss: 0.8310 - acc: 0.6132 - val_loss: 0.6183 - val_acc: 0.6793\n",
      "Epoch 2/20\n",
      "21000/21000 [==============================] - 4s 212us/step - loss: 0.6041 - acc: 0.6698 - val_loss: 0.5605 - val_acc: 0.7097\n",
      "Epoch 3/20\n",
      "21000/21000 [==============================] - 4s 197us/step - loss: 0.5803 - acc: 0.6924 - val_loss: 0.5473 - val_acc: 0.7149\n",
      "Epoch 4/20\n",
      "21000/21000 [==============================] - 4s 195us/step - loss: 0.5747 - acc: 0.7028 - val_loss: 0.5675 - val_acc: 0.7131\n",
      "Epoch 5/20\n",
      "21000/21000 [==============================] - 4s 192us/step - loss: 0.5633 - acc: 0.7132 - val_loss: 0.5635 - val_acc: 0.7086\n",
      "Epoch 6/20\n",
      "21000/21000 [==============================] - 4s 190us/step - loss: 0.5580 - acc: 0.7169 - val_loss: 0.5355 - val_acc: 0.7223\n",
      "Epoch 7/20\n",
      "21000/21000 [==============================] - 4s 211us/step - loss: 0.5544 - acc: 0.7204 - val_loss: 0.5418 - val_acc: 0.7239\n",
      "Epoch 8/20\n",
      "21000/21000 [==============================] - 4s 180us/step - loss: 0.5531 - acc: 0.7199 - val_loss: 0.5397 - val_acc: 0.7286\n",
      "Epoch 9/20\n",
      "21000/21000 [==============================] - 4s 179us/step - loss: 0.5499 - acc: 0.7202 - val_loss: 0.5425 - val_acc: 0.7280\n",
      "Epoch 10/20\n",
      "21000/21000 [==============================] - 4s 194us/step - loss: 0.5438 - acc: 0.7246 - val_loss: 0.5442 - val_acc: 0.7240\n",
      "Epoch 11/20\n",
      "21000/21000 [==============================] - 4s 176us/step - loss: 0.5435 - acc: 0.7258 - val_loss: 0.5619 - val_acc: 0.7056\n",
      "Epoch 12/20\n",
      "21000/21000 [==============================] - 4s 175us/step - loss: 0.5407 - acc: 0.7284 - val_loss: 0.5329 - val_acc: 0.7289\n",
      "Epoch 13/20\n",
      "21000/21000 [==============================] - 4s 178us/step - loss: 0.5414 - acc: 0.7287 - val_loss: 0.5288 - val_acc: 0.7311\n",
      "Epoch 14/20\n",
      "21000/21000 [==============================] - 4s 175us/step - loss: 0.5352 - acc: 0.7268 - val_loss: 0.5257 - val_acc: 0.7324\n",
      "Epoch 15/20\n",
      "21000/21000 [==============================] - 4s 189us/step - loss: 0.5326 - acc: 0.7366 - val_loss: 0.5419 - val_acc: 0.7113\n",
      "Epoch 16/20\n",
      "21000/21000 [==============================] - 4s 196us/step - loss: 0.5384 - acc: 0.7260 - val_loss: 0.5274 - val_acc: 0.7330\n",
      "Epoch 17/20\n",
      "21000/21000 [==============================] - 4s 178us/step - loss: 0.5347 - acc: 0.7300 - val_loss: 0.5440 - val_acc: 0.7157\n",
      "Epoch 18/20\n",
      "21000/21000 [==============================] - 4s 178us/step - loss: 0.5353 - acc: 0.7279 - val_loss: 0.5288 - val_acc: 0.7304\n",
      "Epoch 19/20\n",
      "21000/21000 [==============================] - 4s 176us/step - loss: 0.5296 - acc: 0.7348 - val_loss: 0.5357 - val_acc: 0.7307\n",
      "Epoch 20/20\n",
      "21000/21000 [==============================] - 4s 180us/step - loss: 0.5289 - acc: 0.7345 - val_loss: 0.5234 - val_acc: 0.7320\n"
     ]
    }
   ],
   "source": [
    "import tensorflow as tf\n",
    "from keras import models\n",
    "from keras import layers, regularizers\n",
    "from keras.models import Sequential\n",
    "from keras.layers import Dense, Activation, Dropout\n",
    "from keras.layers import BatchNormalization\n",
    "\n",
    "np.random.seed(42)\n",
    "tf.random.set_random_seed(42)\n",
    "\n",
    "X_train_arr = np.array(X_train)\n",
    "y_train_arr = np.array(y_train).reshape(-1,1)\n",
    "\n",
    "X_valid_arr = np.array(X_valid)\n",
    "y_valid_arr = np.array(y_valid).reshape(-1,1)\n",
    "\n",
    "# 기존 model 객체를 사용하면 이어서 학습되므로, 새로운 model 객체를 생성함\n",
    "model = Sequential()\n",
    "model.add(Dense(64, activation = 'selu', kernel_initializer='lecun_uniform', input_shape=(400,)))\n",
    "model.add(Dropout(0.2))\n",
    "model.add(Dense(128, activation = 'selu', kernel_initializer='lecun_uniform'))\n",
    "model.add(Dropout(0.2))\n",
    "model.add(Dense(128, activation = 'selu', kernel_initializer='lecun_uniform'))\n",
    "model.add(Dropout(0.2))\n",
    "model.add(Dense(256, activation = 'relu', kernel_initializer='lecun_normal'))\n",
    "model.add(Dropout(0.2))\n",
    "model.add(Dense(512, activation = 'relu', kernel_initializer='lecun_normal'))\n",
    "model.add(Dropout(0.2))\n",
    "model.add(Dense(1024, activation = 'relu', kernel_initializer='lecun_normal'))\n",
    "model.add(Dropout(0.2))\n",
    "model.add(Dense(1, activation = 'sigmoid'))\n",
    "\n",
    "\n",
    "model.compile(optimizer = 'adadelta',\n",
    "             loss = 'binary_crossentropy',\n",
    "             metrics = ['accuracy'])\n",
    "\n",
    "history = model.fit(X_train,\n",
    "                   y_train,\n",
    "                   epochs = 20,\n",
    "                   batch_size = 1000,\n",
    "                   validation_data = (X_valid, y_valid))"
   ]
  },
  {
   "cell_type": "code",
   "execution_count": 295,
   "metadata": {},
   "outputs": [
    {
     "name": "stdout",
     "output_type": "stream",
     "text": [
      "12000/12000 [==============================] - 4s 356us/step\n",
      "test loss:  0.5198487618764241\n",
      "test acc:  0.7398333333333333\n"
     ]
    }
   ],
   "source": [
    "X_test_arr = np.array(X_test)\n",
    "y_test_arr = np.array(y_test).reshape(-1,1)\n",
    "\n",
    "test_loss, test_acc = model.evaluate(X_test_arr, y_test_arr)\n",
    "print('test loss: ', test_loss)\n",
    "print('test acc: ', test_acc)\n",
    "# loss는 0.8가량이 줄고 acc는 0.3정도 증가"
   ]
  },
  {
   "cell_type": "code",
   "execution_count": 296,
   "metadata": {},
   "outputs": [
    {
     "data": {
      "image/png": "[encoded data removed]",
      "text/plain": [
       "<Figure size 432x288 with 1 Axes>"
      ]
     },
     "metadata": {
      "needs_background": "light"
     },
     "output_type": "display_data"
    }
   ],
   "source": [
    "loss, val_loss = history.history['loss'], history.history['val_loss']\n",
    "acc, val_acc = history.history['acc'], history.history['val_acc']\n",
    "epochs = range(1, len(loss)+1)\n",
    "\n",
    "plt.plot(epochs, loss, 'b', label='Training loss')\n",
    "plt.plot(epochs, val_loss, 'bo', label='Validation loss')\n",
    "plt.plot(epochs, acc, 'r', label='Training acc')\n",
    "plt.plot(epochs, val_acc, 'ro', label='Validation acc')\n",
    "plt.title('Learning history')\n",
    "plt.xlabel('Epochs')\n",
    "plt.ylabel('Accuracy/Loss')\n",
    "plt.xticks(epochs)\n",
    "plt.legend()\n",
    "\n",
    "plt.show()"
   ]
  },
  {
   "cell_type": "code",
   "execution_count": null,
   "metadata": {},
   "outputs": [],
   "source": []
  },
  {
   "cell_type": "code",
   "execution_count": null,
   "metadata": {},
   "outputs": [],
   "source": []
  },
  {
   "cell_type": "code",
   "execution_count": 317,
   "metadata": {},
   "outputs": [
    {
     "data": {
      "text/plain": [
       "((21000, 400), (7000, 400), (12000, 400), (21000,), (7000,), (12000,))"
      ]
     },
     "execution_count": 317,
     "metadata": {},
     "output_type": "execute_result"
    }
   ],
   "source": [
    "from sklearn.model_selection import train_test_split\n",
    "\n",
    "X_train, X_test, y_train, y_test = train_test_split(merge_standard.drop(['acc_id', \n",
    "                                                                           'amount_spent_y',\n",
    "                                                                           'total_spent',\n",
    "                                                                          'secession',\n",
    "                                                                          'survival_time'], axis=1),\n",
    "                                                    merge_standard.survival_time,\n",
    "                                                    test_size = 0.3, random_state=42)\n",
    "X_train, X_valid, y_train, y_valid = train_test_split(X_train, y_train, test_size = 0.25, random_state=42)\n",
    "\n",
    "X_train.shape, X_valid.shape, X_test.shape, y_train.shape, y_valid.shape, y_test.shape"
   ]
  },
  {
   "cell_type": "code",
   "execution_count": 406,
   "metadata": {
    "scrolled": true
   },
   "outputs": [
    {
     "name": "stdout",
     "output_type": "stream",
     "text": [
      "Train on 21000 samples, validate on 7000 samples\n",
      "Epoch 1/20\n",
      "21000/21000 [==============================] - 40s 2ms/step - loss: 2.4995 - acc: 0.5472 - val_loss: 2.1539 - val_acc: 0.5739\n",
      "Epoch 2/20\n",
      "21000/21000 [==============================] - 13s 637us/step - loss: 2.2179 - acc: 0.5697 - val_loss: 2.2123 - val_acc: 0.5827 acc: 0. - ETA: 2s - loss: 2.231\n",
      "Epoch 3/20\n",
      "21000/21000 [==============================] - 13s 621us/step - loss: 2.1485 - acc: 0.5777 - val_loss: 2.1198 - val_acc: 0.5940\n",
      "Epoch 4/20\n",
      "21000/21000 [==============================] - 13s 620us/step - loss: 2.0895 - acc: 0.5812 - val_loss: 2.1166 - val_acc: 0.5941\n",
      "Epoch 5/20\n",
      "21000/21000 [==============================] - 13s 622us/step - loss: 2.0501 - acc: 0.5851 - val_loss: 2.0726 - val_acc: 0.5929\n",
      "Epoch 6/20\n",
      "21000/21000 [==============================] - 13s 622us/step - loss: 2.0044 - acc: 0.5911 - val_loss: 2.0218 - val_acc: 0.5996\n",
      "Epoch 7/20\n",
      "21000/21000 [==============================] - 13s 624us/step - loss: 1.9663 - acc: 0.5941 - val_loss: 2.1052 - val_acc: 0.6001\n",
      "Epoch 8/20\n",
      "21000/21000 [==============================] - 13s 626us/step - loss: 1.9356 - acc: 0.5997 - val_loss: 1.9981 - val_acc: 0.6050\n",
      "Epoch 9/20\n",
      "21000/21000 [==============================] - 13s 618us/step - loss: 1.9029 - acc: 0.6027 - val_loss: 2.0548 - val_acc: 0.6024\n",
      "Epoch 10/20\n",
      "21000/21000 [==============================] - 13s 619us/step - loss: 1.8638 - acc: 0.6061 - val_loss: 2.0022 - val_acc: 0.6057\n",
      "Epoch 11/20\n",
      "21000/21000 [==============================] - 13s 636us/step - loss: 1.8364 - acc: 0.6096 - val_loss: 1.9913 - val_acc: 0.6099\n",
      "Epoch 12/20\n",
      "21000/21000 [==============================] - 13s 621us/step - loss: 1.8065 - acc: 0.6131 - val_loss: 2.0336 - val_acc: 0.6089\n",
      "Epoch 13/20\n",
      "21000/21000 [==============================] - 16s 752us/step - loss: 1.7687 - acc: 0.6194 - val_loss: 1.9937 - val_acc: 0.6104\n",
      "Epoch 14/20\n",
      "21000/21000 [==============================] - 15s 700us/step - loss: 1.7435 - acc: 0.6206 - val_loss: 1.9993 - val_acc: 0.6114\n",
      "Epoch 15/20\n",
      "21000/21000 [==============================] - 13s 642us/step - loss: 1.7056 - acc: 0.6243 - val_loss: 2.0175 - val_acc: 0.6051\n",
      "Epoch 16/20\n",
      "21000/21000 [==============================] - 13s 619us/step - loss: 1.6719 - acc: 0.6291 - val_loss: 2.0305 - val_acc: 0.6047\n",
      "Epoch 17/20\n",
      "21000/21000 [==============================] - 13s 625us/step - loss: 1.6417 - acc: 0.6315 - val_loss: 2.0430 - val_acc: 0.6057\n",
      "Epoch 18/20\n",
      "21000/21000 [==============================] - 13s 623us/step - loss: 1.6133 - acc: 0.6338 - val_loss: 2.0518 - val_acc: 0.6053\n",
      "Epoch 19/20\n",
      "21000/21000 [==============================] - 13s 626us/step - loss: 1.5734 - acc: 0.6410 - val_loss: 2.0600 - val_acc: 0.6103\n",
      "Epoch 20/20\n",
      "21000/21000 [==============================] - 13s 633us/step - loss: 1.5383 - acc: 0.6431 - val_loss: 2.1074 - val_acc: 0.6056s: 1.5335\n"
     ]
    }
   ],
   "source": [
    "import tensorflow as tf\n",
    "from keras import models\n",
    "from keras import layers, regularizers\n",
    "from keras.models import Sequential\n",
    "from keras.layers import Dense, Activation, Dropout\n",
    "from keras.layers import BatchNormalization\n",
    "from sklearn.preprocessing import LabelEncoder\n",
    "from keras.utils import np_utils\n",
    "\n",
    "np.random.seed(42)\n",
    "tf.random.set_random_seed(42)\n",
    "\n",
    "X_train_arr = np.array(X_train)\n",
    "y_train_arr = np.array(y_train).reshape(-1,1)\n",
    "Y_train = np_utils.to_categorical(y_train_arr, 65)\n",
    "\n",
    "X_valid_arr = np.array(X_valid)\n",
    "y_valid_arr = np.array(y_valid).reshape(-1,1)\n",
    "Y_valid = np_utils.to_categorical(y_valid_arr, 65)\n",
    "\n",
    "# 기존 model 객체를 사용하면 이어서 학습되므로, 새로운 model 객체를 생성함\n",
    "model = Sequential()\n",
    "model.add(Dense(1024, activation = 'relu', kernel_initializer='he_uniform', input_shape=(400,)))\n",
    "model.add(Dropout(0.2))\n",
    "model.add(Dense(512, activation = 'relu', kernel_initializer='he_uniform'))\n",
    "model.add(Dropout(0.2))\n",
    "model.add(Dense(512, activation = 'relu', kernel_initializer='he_uniform'))\n",
    "model.add(Dropout(0.2))\n",
    "model.add(Dense(256, activation = 'relu', kernel_initializer='he_uniform'))\n",
    "model.add(Dropout(0.2))\n",
    "model.add(Dense(64, activation = 'relu', kernel_initializer='he_uniform'))\n",
    "# # # model.add(Dropout(0.2))\n",
    "# model.add(Dense(256, activation = 'relu', kernel_initializer='he_uniform'))\n",
    "# # # model.add(Dropout(0.2))\n",
    "# model.add(Dense(128, activation = 'relu', kernel_initializer='he_uniform'))\n",
    "# # # model.add(Dropout(0.2))\n",
    "# model.add(Dense(128, activation = 'relu', kernel_initializer='he_uniform'))\n",
    "# # model.add(Dropout(0.2))\n",
    "# model.add(Dense(1024, activation = 'relu', kernel_initializer='he_uniform'))\n",
    "# # model.add(Dropout(0.2))\n",
    "# model.add(Dense(512, activation = 'relu', kernel_initializer='he_uniform'))\n",
    "# # model.add(Dropout(0.2))\n",
    "model.add(Dense(65, activation = 'softmax'))\n",
    "\n",
    "\n",
    "model.compile(optimizer = 'adadelta',\n",
    "             loss = 'categorical_crossentropy',\n",
    "             metrics = ['accuracy'])\n",
    "\n",
    "history = model.fit(X_train,\n",
    "                   Y_train,\n",
    "                   epochs = 20,\n",
    "                   batch_size = 300,\n",
    "                   validation_data = (X_valid, Y_valid))"
   ]
  },
  {
   "cell_type": "code",
   "execution_count": 407,
   "metadata": {},
   "outputs": [
    {
     "data": {
      "text/plain": [
       "0.60775"
      ]
     },
     "execution_count": 407,
     "metadata": {},
     "output_type": "execute_result"
    }
   ],
   "source": [
    "y_pred = np.argmax(model.predict(X_test), axis = 1)\n",
    "accuracy_score(y_test, y_pred)"
   ]
  },
  {
   "cell_type": "code",
   "execution_count": 408,
   "metadata": {},
   "outputs": [
    {
     "data": {
      "image/png": "[encoded data removed]",
      "text/plain": [
       "<Figure size 432x288 with 1 Axes>"
      ]
     },
     "metadata": {
      "needs_background": "light"
     },
     "output_type": "display_data"
    }
   ],
   "source": [
    "loss, val_loss = history.history['loss'], history.history['val_loss']\n",
    "acc, val_acc = history.history['acc'], history.history['val_acc']\n",
    "epochs = range(1, len(loss)+1)\n",
    "\n",
    "plt.plot(epochs, loss, 'b', label='Training loss')\n",
    "plt.plot(epochs, val_loss, 'bo', label='Validation loss')\n",
    "plt.plot(epochs, acc, 'r', label='Training acc')\n",
    "plt.plot(epochs, val_acc, 'ro', label='Validation acc')\n",
    "plt.title('Learning history')\n",
    "plt.xlabel('Epochs')\n",
    "plt.ylabel('Accuracy/Loss')\n",
    "plt.xticks(epochs)\n",
    "plt.legend()\n",
    "\n",
    "plt.show()"
   ]
  },
  {
   "cell_type": "code",
   "execution_count": 409,
   "metadata": {},
   "outputs": [
    {
     "data": {
      "text/plain": [
       "<matplotlib.collections.PathCollection at 0x1968a9bc8d0>"
      ]
     },
     "execution_count": 409,
     "metadata": {},
     "output_type": "execute_result"
    },
    {
     "data": {
      "image/png": "[encoded data removed]",
      "text/plain": [
       "<Figure size 432x288 with 1 Axes>"
      ]
     },
     "metadata": {
      "needs_background": "light"
     },
     "output_type": "display_data"
    }
   ],
   "source": [
    "plt.scatter(y_pred, y_test)"
   ]
  }
 ],
 "metadata": {
  "kernelspec": {
   "display_name": "MyPython",
   "language": "python",
   "name": "mypython"
  },
  "language_info": {
   "codemirror_mode": {
    "name": "ipython",
    "version": 3
   },
   "file_extension": ".py",
   "mimetype": "text/x-python",
   "name": "python",
   "nbconvert_exporter": "python",
   "pygments_lexer": "ipython3",
   "version": "3.6.8"
  },
  "widgets": {
   "state": {},
   "version": "1.1.2"
  }
 },
 "nbformat": 4,
 "nbformat_minor": 2
}
